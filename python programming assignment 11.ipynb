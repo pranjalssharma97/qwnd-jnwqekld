{
 "cells": [
  {
   "cell_type": "code",
   "execution_count": 1,
   "id": "69e98660",
   "metadata": {},
   "outputs": [],
   "source": [
    "#1. Write a Python program to find words which are greater than given length k?"
   ]
  },
  {
   "cell_type": "code",
   "execution_count": 16,
   "id": "ae014f84",
   "metadata": {},
   "outputs": [
    {
     "name": "stdout",
     "output_type": "stream",
     "text": [
      "enter your stringmy name is pranjal sharma\n",
      "enter the lenght you want to check2\n",
      "['name', 'pranjal', 'sharma']\n"
     ]
    }
   ],
   "source": [
    "a=input(\"enter your string\")\n",
    "b=a.split(\" \")\n",
    "c=int(input(\"enter the lenght you want to check\"))\n",
    "for i in b:\n",
    "    if len(i)<=c:\n",
    "        b.remove(i)\n",
    "print(b)"
   ]
  },
  {
   "cell_type": "code",
   "execution_count": 17,
   "id": "f27b432f",
   "metadata": {},
   "outputs": [],
   "source": [
    "#2. Write a Python program for removing i-th character from a string?"
   ]
  },
  {
   "cell_type": "code",
   "execution_count": 30,
   "id": "1d9c8a87",
   "metadata": {},
   "outputs": [
    {
     "name": "stdout",
     "output_type": "stream",
     "text": [
      "enter your stringpranjal\n",
      "enter the character you want to remove1\n"
     ]
    },
    {
     "data": {
      "text/plain": [
       "'panjal'"
      ]
     },
     "execution_count": 30,
     "metadata": {},
     "output_type": "execute_result"
    }
   ],
   "source": [
    "a=input(\"enter your string\")\n",
    "b=int(input(\"enter the character you want to remove\"))\n",
    "c=a[b]\n",
    "a.replace(c,\"\")\n",
    "\n",
    "\n"
   ]
  },
  {
   "cell_type": "code",
   "execution_count": null,
   "id": "8418d6c9",
   "metadata": {},
   "outputs": [],
   "source": [
    "#3. Write a Python program to split and join a string?"
   ]
  },
  {
   "cell_type": "code",
   "execution_count": 47,
   "id": "04b5f096",
   "metadata": {},
   "outputs": [
    {
     "name": "stdout",
     "output_type": "stream",
     "text": [
      "enter the string you want to splitpranjal sharma is hero\n",
      "enter the character you want to add between themcr7\n"
     ]
    },
    {
     "data": {
      "text/plain": [
       "'pranjalcr7sharmacr7iscr7hero'"
      ]
     },
     "execution_count": 47,
     "metadata": {},
     "output_type": "execute_result"
    }
   ],
   "source": [
    "a=input(\"enter the string you want to split\")\n",
    "b=input(\"enter the character you want to add between them\")\n",
    "c=a.split()\n",
    "b.join(c)"
   ]
  },
  {
   "cell_type": "code",
   "execution_count": 48,
   "id": "c37ed323",
   "metadata": {},
   "outputs": [],
   "source": [
    "#4. Write a Python to check if a given string is binary string or not?"
   ]
  },
  {
   "cell_type": "code",
   "execution_count": 67,
   "id": "df4da1b9",
   "metadata": {},
   "outputs": [
    {
     "name": "stdout",
     "output_type": "stream",
     "text": [
      "enter your string to check whether its binary or not101010101\n",
      "yes\n"
     ]
    }
   ],
   "source": [
    "\n",
    "b=input(\"enter your string to check whether its binary or not\")\n",
    "if b.count(\"0\")+b.count(\"1\")==len(b):\n",
    "    print(\"yes\")\n",
    "else:\n",
    "        print(\"no\")\n",
    "\n"
   ]
  },
  {
   "cell_type": "code",
   "execution_count": 68,
   "id": "ddb7d2fe",
   "metadata": {},
   "outputs": [],
   "source": [
    "#5. Write a Python program to find uncommon words from two Strings?"
   ]
  },
  {
   "cell_type": "code",
   "execution_count": 67,
   "id": "3f844832",
   "metadata": {},
   "outputs": [
    {
     "name": "stdout",
     "output_type": "stream",
     "text": [
      "enter your string1pranjal is learning python\n",
      "enter your string2pranjal will make it\n",
      "{'learning', 'it', 'is', 'will', 'python', 'make'}\n"
     ]
    }
   ],
   "source": [
    "a=input(\"enter your string1\")\n",
    "a.split()\n",
    "b=input(\"enter your string2\")\n",
    "b.split()\n",
    "print(set(a.split())^set(b.split()))\n"
   ]
  },
  {
   "cell_type": "code",
   "execution_count": 77,
   "id": "0d7db09b",
   "metadata": {},
   "outputs": [],
   "source": [
    "#6. Write a Python to find all duplicate characters in string?"
   ]
  },
  {
   "cell_type": "code",
   "execution_count": 43,
   "id": "659d9497",
   "metadata": {},
   "outputs": [
    {
     "name": "stdout",
     "output_type": "stream",
     "text": [
      "enter your first stringpranjal\n",
      "enter your  second stringsharma\n",
      "r duplicate character \n",
      "a duplicate character \n",
      "a duplicate character \n"
     ]
    }
   ],
   "source": [
    "a=list(input(\"enter your first string\"))\n",
    "b=list(input(\"enter your  second string\"))\n",
    "for i in a:\n",
    "    if i in b:\n",
    "            print(i,\"duplicate character \")"
   ]
  },
  {
   "cell_type": "code",
   "execution_count": 90,
   "id": "eb041f02",
   "metadata": {},
   "outputs": [],
   "source": [
    "#7. Write a Python Program to check if a string contains any special character?"
   ]
  },
  {
   "cell_type": "code",
   "execution_count": 22,
   "id": "13ee5a96",
   "metadata": {},
   "outputs": [
    {
     "name": "stdout",
     "output_type": "stream",
     "text": [
      "enter ypur stringpra@\n",
      "no it does not contains any special character\n",
      "no it does not contains any special character\n",
      "no it does not contains any special character\n",
      "yes it contains special characters\n"
     ]
    }
   ],
   "source": [
    "a=input(\"enter ypur string\")\n",
    "from string import punctuation \n",
    "b=set(punctuation)\n",
    "for i in a:\n",
    "    if i in b:\n",
    "        print(\"yes it contains special characters\")\n",
    "    else:\n",
    "        print(\"no it does not contains any special character\")"
   ]
  },
  {
   "cell_type": "code",
   "execution_count": null,
   "id": "1827467d",
   "metadata": {},
   "outputs": [],
   "source": []
  }
 ],
 "metadata": {
  "kernelspec": {
   "display_name": "Python 3 (ipykernel)",
   "language": "python",
   "name": "python3"
  },
  "language_info": {
   "codemirror_mode": {
    "name": "ipython",
    "version": 3
   },
   "file_extension": ".py",
   "mimetype": "text/x-python",
   "name": "python",
   "nbconvert_exporter": "python",
   "pygments_lexer": "ipython3",
   "version": "3.9.12"
  }
 },
 "nbformat": 4,
 "nbformat_minor": 5
}
