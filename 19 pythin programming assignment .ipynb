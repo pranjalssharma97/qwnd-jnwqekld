{
 "cells": [
  {
   "cell_type": "code",
   "execution_count": 1,
   "id": "3bd1749e",
   "metadata": {},
   "outputs": [],
   "source": [
    "#Question1\n",
    "#Create a function that takes a string and returns a string in which each character is repeated\n",
    "#once.\n",
    "#E#xamples\n",
    "#double_char(&quot;String&quot;) ➞ &quot;SSttrriinngg&quot;"
   ]
  },
  {
   "cell_type": "code",
   "execution_count": 105,
   "id": "0d8a0d59",
   "metadata": {},
   "outputs": [],
   "source": [
    "def test1():\n",
    "    a=input()\n",
    "    b=a\n",
    "    for i in range(len(a)):\n",
    "        c=a[i]+b[i]\n",
    "        print(c,end=\"\")\n",
    "        "
   ]
  },
  {
   "cell_type": "code",
   "execution_count": 106,
   "id": "b0b650be",
   "metadata": {},
   "outputs": [
    {
     "name": "stdout",
     "output_type": "stream",
     "text": [
      "Hello World!!\n",
      "HHeelllloo  WWoorrlldd!!!!"
     ]
    }
   ],
   "source": [
    "test1()"
   ]
  },
  {
   "cell_type": "code",
   "execution_count": 36,
   "id": "be81dd5e",
   "metadata": {},
   "outputs": [],
   "source": [
    "#q2Create a function that reverses a boolean value and returns the string &quot;boolean expected&quot;\n",
    "#if another variable type is given."
   ]
  },
  {
   "cell_type": "code",
   "execution_count": 107,
   "id": "482c99e0",
   "metadata": {},
   "outputs": [],
   "source": [
    "def test2(a):\n",
    "    if a==True or a==1:\n",
    "            print (False)\n",
    "    elif a==False or a==0:\n",
    "            print (True)\n",
    "    else:\n",
    "        print(\"boolean expected\")\n"
   ]
  },
  {
   "cell_type": "code",
   "execution_count": 108,
   "id": "9c5c614d",
   "metadata": {},
   "outputs": [
    {
     "name": "stdout",
     "output_type": "stream",
     "text": [
      "boolean expected\n"
     ]
    }
   ],
   "source": [
    "test2(None)"
   ]
  },
  {
   "cell_type": "code",
   "execution_count": 109,
   "id": "c5386e73",
   "metadata": {},
   "outputs": [],
   "source": [
    "#q3 Question3\n",
    "#Create a function that returns the thickness (in meters) of a piece of paper after folding it n\n",
    "#number of times. The paper starts off with a thickness of 0.5mm.\n",
    "#Examples\n",
    "#num_layers(1) ➞ &quot;0.001m&quot;\n",
    "# Paper folded once is 1mm (equal to 0.001m)"
   ]
  },
  {
   "cell_type": "code",
   "execution_count": 113,
   "id": "10abea56",
   "metadata": {},
   "outputs": [],
   "source": [
    "def fn(a):\n",
    "    res = 0.5\n",
    "    for _ in range(a):\n",
    "        res *= 2\n",
    "    return res /1000"
   ]
  },
  {
   "cell_type": "code",
   "execution_count": 114,
   "id": "f9ca727c",
   "metadata": {},
   "outputs": [
    {
     "data": {
      "text/plain": [
       "0.008"
      ]
     },
     "execution_count": 114,
     "metadata": {},
     "output_type": "execute_result"
    }
   ],
   "source": [
    "fn(4)"
   ]
  },
  {
   "cell_type": "code",
   "execution_count": 110,
   "id": "56fe479e",
   "metadata": {},
   "outputs": [],
   "source": [
    "#q4 Create a function that takes a single string as argument and returns an ordered list containing\n",
    "#the indices of all capital letters in the string."
   ]
  },
  {
   "cell_type": "code",
   "execution_count": 164,
   "id": "f18110e9",
   "metadata": {},
   "outputs": [
    {
     "name": "stdout",
     "output_type": "stream",
     "text": [
      "[2, 3]\n"
     ]
    }
   ],
   "source": [
    "a=\"prANjal\"\n",
    "l=[]\n",
    "for i in range(len(a)):\n",
    "    if a[i]==a[i].upper():\n",
    "        l.append(i)\n",
    "print(l)\n",
    "        \n",
    "    \n",
    "        "
   ]
  },
  {
   "cell_type": "code",
   "execution_count": 165,
   "id": "74f69a13",
   "metadata": {},
   "outputs": [],
   "source": [
    "#q5 Using list comprehensions, create a function that finds all even numbers from 1 to the given\n",
    "#number."
   ]
  },
  {
   "cell_type": "code",
   "execution_count": 170,
   "id": "29af07fe",
   "metadata": {},
   "outputs": [],
   "source": [
    "def test5(a):\n",
    "    [print(i)    for i in range(1,a+1)  if i%2==0 ]"
   ]
  },
  {
   "cell_type": "code",
   "execution_count": 173,
   "id": "b72fe393",
   "metadata": {},
   "outputs": [
    {
     "name": "stdout",
     "output_type": "stream",
     "text": [
      "2\n",
      "4\n",
      "6\n",
      "8\n"
     ]
    }
   ],
   "source": [
    "test5(8)"
   ]
  }
 ],
 "metadata": {
  "kernelspec": {
   "display_name": "Python 3 (ipykernel)",
   "language": "python",
   "name": "python3"
  },
  "language_info": {
   "codemirror_mode": {
    "name": "ipython",
    "version": 3
   },
   "file_extension": ".py",
   "mimetype": "text/x-python",
   "name": "python",
   "nbconvert_exporter": "python",
   "pygments_lexer": "ipython3",
   "version": "3.9.12"
  }
 },
 "nbformat": 4,
 "nbformat_minor": 5
}
