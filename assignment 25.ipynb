{
 "cells": [
  {
   "cell_type": "code",
   "execution_count": 1,
   "id": "76989e39",
   "metadata": {},
   "outputs": [],
   "source": [
    "#Q2What is the relationship between generators and iterators?"
   ]
  },
  {
   "cell_type": "code",
   "execution_count": 2,
   "id": "1b7eb733",
   "metadata": {},
   "outputs": [],
   "source": [
    "#ANS2 Iterators are the objects that use the next() method to get the next value of the sequence. A generator is a function that produces or yields a sequence of values using a yield statement. Classes are used to Implement the iterators. Functions are used to implement the generator."
   ]
  },
  {
   "cell_type": "code",
   "execution_count": 3,
   "id": "cf8b4971",
   "metadata": {},
   "outputs": [],
   "source": [
    "#Q3What are the signs that a function is a generator function?"
   ]
  },
  {
   "cell_type": "code",
   "execution_count": 4,
   "id": "127b61e0",
   "metadata": {},
   "outputs": [],
   "source": [
    "#If a function contains at least one yield statement (it may contain other yield or return statements), it becomes a generator function. Both yield and return will return some value from a functiON"
   ]
  },
  {
   "cell_type": "code",
   "execution_count": 5,
   "id": "7f7fa633",
   "metadata": {},
   "outputs": [],
   "source": [
    "#Q4) What is the purpose of a yield statement?"
   ]
  },
  {
   "cell_type": "code",
   "execution_count": 6,
   "id": "60307f2e",
   "metadata": {},
   "outputs": [],
   "source": [
    "#The yield statement suspends function's execution and sends a value back to the caller, but retains enough state to enable function to resume where it is left off. When resumed, the function continues execution immediately after the last yield run."
   ]
  },
  {
   "cell_type": "code",
   "execution_count": 7,
   "id": "5e5c0fd6",
   "metadata": {},
   "outputs": [],
   "source": [
    "#5) What is the relationship between map calls and list comprehensions? Make a comparison and\n",
    "#contrast between the two."
   ]
  },
  {
   "cell_type": "code",
   "execution_count": 8,
   "id": "839e9efb",
   "metadata": {},
   "outputs": [],
   "source": [
    "#ANS5 List comprehension is more concise and easier to read as compared to map. List comprehension are used when a list of results is required as map only returns a map object and does not return any list. Map is faster in case of calling an already defined function (as no lambda is required)."
   ]
  },
  {
   "cell_type": "code",
   "execution_count": 9,
   "id": "0fbfa57c",
   "metadata": {},
   "outputs": [],
   "source": [
    "#Q1  . What is the difference between enclosing a list comprehension in square brackets and\n",
    "#parentheses?"
   ]
  },
  {
   "cell_type": "code",
   "execution_count": 10,
   "id": "9db261df",
   "metadata": {},
   "outputs": [],
   "source": [
    "#ANS 1Square brackets are lists while parentheses are tuples."
   ]
  }
 ],
 "metadata": {
  "kernelspec": {
   "display_name": "Python 3 (ipykernel)",
   "language": "python",
   "name": "python3"
  },
  "language_info": {
   "codemirror_mode": {
    "name": "ipython",
    "version": 3
   },
   "file_extension": ".py",
   "mimetype": "text/x-python",
   "name": "python",
   "nbconvert_exporter": "python",
   "pygments_lexer": "ipython3",
   "version": "3.9.12"
  }
 },
 "nbformat": 4,
 "nbformat_minor": 5
}
