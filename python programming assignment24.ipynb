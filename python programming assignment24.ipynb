{
 "cells": [
  {
   "cell_type": "code",
   "execution_count": null,
   "id": "7c3c1778",
   "metadata": {},
   "outputs": [],
   "source": [
    "#Create a function that takes an integer and returns a list from 1 to the given number, where:\n",
    "#1. If the number can be divided evenly by 4, amplify it by 10 (i.e. return 10 times the\n",
    "number).\n",
    "#2. If the number cannot be divided evenly by 4, simply return the number."
   ]
  },
  {
   "cell_type": "code",
   "execution_count": 287,
   "id": "614618f2",
   "metadata": {},
   "outputs": [],
   "source": [
    "def test1(a):\n",
    "    l=[]\n",
    "    for i in range(1,a+1):\n",
    "        if(i)%4==0:\n",
    "            i=i*10\n",
    "        l.append(i)\n",
    "    print(l)\n",
    "        "
   ]
  },
  {
   "cell_type": "code",
   "execution_count": 288,
   "id": "f2ed4f51",
   "metadata": {},
   "outputs": [
    {
     "name": "stdout",
     "output_type": "stream",
     "text": [
      "[1, 2, 3, 40, 5, 6, 7, 80, 9, 10, 11, 120, 13, 14, 15, 160, 17, 18, 19, 200, 21, 22, 23, 240, 25]\n"
     ]
    }
   ],
   "source": [
    "test1(25)"
   ]
  },
  {
   "cell_type": "code",
   "execution_count": 1,
   "id": "ceaaccf6",
   "metadata": {},
   "outputs": [],
   "source": [
    "#Question2\n",
    "#Create a function that takes a list of numbers and return the number that&#39;s unique.\n",
    "#Examples\n",
    "#unique([3, 3, 3, 7, 3, 3]) ➞ 7\n",
    "#unique([0, 0, 0.77, 0, 0]) ➞ 0.77\n",
    "#unique([0, 1, 1, 1, 1, 1, 1, 1]) ➞ 0\n",
    "#Notes\n",
    "#Test cases will always have exactly one unique number while all others are the same."
   ]
  },
  {
   "cell_type": "code",
   "execution_count": 273,
   "id": "2fa02af3",
   "metadata": {},
   "outputs": [],
   "source": [
    "def test2(a):\n",
    "    for i in a:\n",
    "        if a.count(i)==1:\n",
    "            print(i)\n",
    "\n",
    "    "
   ]
  },
  {
   "cell_type": "code",
   "execution_count": 276,
   "id": "a5631a99",
   "metadata": {},
   "outputs": [
    {
     "name": "stdout",
     "output_type": "stream",
     "text": [
      "0\n"
     ]
    }
   ],
   "source": [
    "test2([0,1,1,1,1])"
   ]
  },
  {
   "cell_type": "code",
   "execution_count": 272,
   "id": "d26af165",
   "metadata": {},
   "outputs": [],
   "source": [
    "#q3 Question3\n",
    "#Your task is to create a Circle constructor that creates a circle with a radius provided by an\n",
    "#argument. The circles constructed must have two getters getArea() (PIr^2) and\n",
    "#getPerimeter() (2PI*r) which give both respective areas and perimeter (circumference)."
   ]
  },
  {
   "cell_type": "code",
   "execution_count": 20,
   "id": "cd74ba75",
   "metadata": {},
   "outputs": [],
   "source": [
    "def test3():\n",
    "    r=int(input(\"enter the radius\"))\n",
    "    pie=3.14149\n",
    "    area=(pie*r*r)\n",
    "    circumfrence=(2*pie*r)\n",
    "    return(\"area is\", area,\"circumfrence is\", circumfrence)\n",
    "    "
   ]
  },
  {
   "cell_type": "code",
   "execution_count": 21,
   "id": "cdfa7aed",
   "metadata": {},
   "outputs": [
    {
     "name": "stdout",
     "output_type": "stream",
     "text": [
      "enter the radius11\n"
     ]
    },
    {
     "data": {
      "text/plain": [
       "('area is', 380.12029, 'circumfrence is', 69.11278)"
      ]
     },
     "execution_count": 21,
     "metadata": {},
     "output_type": "execute_result"
    }
   ],
   "source": [
    "test3()"
   ]
  },
  {
   "cell_type": "code",
   "execution_count": 22,
   "id": "40c8a117",
   "metadata": {},
   "outputs": [],
   "source": [
    "#q4 Question4\n",
    "#Create a function that takes a list of strings and return a list, sorted from shortest to longest."
   ]
  },
  {
   "cell_type": "code",
   "execution_count": 105,
   "id": "13bb5e04",
   "metadata": {},
   "outputs": [],
   "source": [
    "def test4():\n",
    "    a=input(\"enter your list\")\n",
    "    b=a.split(',')\n",
    "    l=[]\n",
    "    l.append(sorted(b,key=len))\n",
    "    print(l)\n",
    "    \n",
    "    \n",
    "    \n",
    "    \n",
    "    \n"
   ]
  },
  {
   "cell_type": "code",
   "execution_count": 106,
   "id": "73f3a4aa",
   "metadata": {},
   "outputs": [
    {
     "name": "stdout",
     "output_type": "stream",
     "text": [
      "enter your listgoogle,apple,microsoft\n",
      "[['apple', 'google', 'microsoft']]\n"
     ]
    }
   ],
   "source": [
    "test4()"
   ]
  },
  {
   "cell_type": "code",
   "execution_count": 107,
   "id": "46e17b58",
   "metadata": {},
   "outputs": [],
   "source": [
    "#4Question5\n",
    "#Create a function that validates whether three given integers form a Pythagorean triplet. The\n",
    "#sum of the squares of the two smallest integers must equal the square of the largest number to\n",
    "#be validated."
   ]
  },
  {
   "cell_type": "code",
   "execution_count": 289,
   "id": "58532e0b",
   "metadata": {},
   "outputs": [],
   "source": [
    "def test5():\n",
    "    a=input(\"enter your first number\")\n",
    "    b=input(\"enter your second number\")\n",
    "    c=input(\"enter your third number\")\n",
    "    l=[]\n",
    "    l.append(a)\n",
    "    l.append(b)\n",
    "    l.append(c)\n",
    "    l1=[]\n",
    "    for i in l:\n",
    "        i=int(i)\n",
    "        l1.append(i)\n",
    "    z=sorted(l1)\n",
    "\n",
    "    if z[0]**2+z[1]**2==z[2]**2:\n",
    "        print(True)\n",
    "    else:\n",
    "        print(False)\n",
    "\n",
    "     \n"
   ]
  },
  {
   "cell_type": "markdown",
   "id": "d13581c2",
   "metadata": {},
   "source": [
    "# "
   ]
  },
  {
   "cell_type": "code",
   "execution_count": 290,
   "id": "8a0ac044",
   "metadata": {},
   "outputs": [
    {
     "name": "stdout",
     "output_type": "stream",
     "text": [
      "enter your first number13\n",
      "enter your second number5\n",
      "enter your third number12\n",
      "True\n"
     ]
    }
   ],
   "source": [
    "test5()"
   ]
  },
  {
   "cell_type": "code",
   "execution_count": null,
   "id": "4ba0c4bd",
   "metadata": {},
   "outputs": [],
   "source": []
  },
  {
   "cell_type": "code",
   "execution_count": null,
   "id": "2abd7d3c",
   "metadata": {},
   "outputs": [],
   "source": []
  }
 ],
 "metadata": {
  "kernelspec": {
   "display_name": "Python 3 (ipykernel)",
   "language": "python",
   "name": "python3"
  },
  "language_info": {
   "codemirror_mode": {
    "name": "ipython",
    "version": 3
   },
   "file_extension": ".py",
   "mimetype": "text/x-python",
   "name": "python",
   "nbconvert_exporter": "python",
   "pygments_lexer": "ipython3",
   "version": "3.9.12"
  }
 },
 "nbformat": 4,
 "nbformat_minor": 5
}
