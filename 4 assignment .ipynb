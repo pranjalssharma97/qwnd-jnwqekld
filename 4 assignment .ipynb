{
 "cells": [
  {
   "cell_type": "code",
   "execution_count": 1,
   "id": "9c40eb8a",
   "metadata": {},
   "outputs": [],
   "source": [
    "#1. What exactly is []?"
   ]
  },
  {
   "cell_type": "code",
   "execution_count": 2,
   "id": "c4bc96d8",
   "metadata": {},
   "outputs": [
    {
     "name": "stdout",
     "output_type": "stream",
     "text": [
      "<class 'list'>\n"
     ]
    }
   ],
   "source": [
    "a=[]\n",
    "print(type(a))"
   ]
  },
  {
   "cell_type": "code",
   "execution_count": 3,
   "id": "c41e5681",
   "metadata": {},
   "outputs": [],
   "source": [
    "#2 2. In a list of values stored in a variable called spam, how would you assign the value &#39;hello&#39; as the\n",
    "#third value? (Assume [2, 4, 6, 8, 10] are in spam.)"
   ]
  },
  {
   "cell_type": "code",
   "execution_count": 5,
   "id": "2b3827a4",
   "metadata": {},
   "outputs": [
    {
     "data": {
      "text/plain": [
       "[2, 4, 'hello', 6, 8, 10]"
      ]
     },
     "execution_count": 5,
     "metadata": {},
     "output_type": "execute_result"
    }
   ],
   "source": [
    "spam=[2,4,6,8,10]\n",
    "spam.insert(2,\"hello\")\n",
    "spam"
   ]
  },
  {
   "cell_type": "code",
   "execution_count": 6,
   "id": "1e31f31e",
   "metadata": {},
   "outputs": [],
   "source": [
    "#3  What is the value of spam[int(int(&#39;3&#39; * 2) / 11)]?"
   ]
  },
  {
   "cell_type": "code",
   "execution_count": 7,
   "id": "f374fb91",
   "metadata": {},
   "outputs": [],
   "source": [
    "spam=[\"a\",\"b\",\"c\",\"d\"]"
   ]
  },
  {
   "cell_type": "code",
   "execution_count": 9,
   "id": "2b5c73ae",
   "metadata": {},
   "outputs": [
    {
     "data": {
      "text/plain": [
       "'d'"
      ]
     },
     "execution_count": 9,
     "metadata": {},
     "output_type": "execute_result"
    }
   ],
   "source": [
    "spam[int(int(\"3\" * 2) / 11)]#the answer is d"
   ]
  },
  {
   "cell_type": "code",
   "execution_count": 10,
   "id": "36a18397",
   "metadata": {},
   "outputs": [],
   "source": [
    "#4. What is the value of spam[-1]?"
   ]
  },
  {
   "cell_type": "code",
   "execution_count": 11,
   "id": "aacdc36e",
   "metadata": {},
   "outputs": [
    {
     "data": {
      "text/plain": [
       "'d'"
      ]
     },
     "execution_count": 11,
     "metadata": {},
     "output_type": "execute_result"
    }
   ],
   "source": [
    "spam[-1]     #the answer is d"
   ]
  },
  {
   "cell_type": "code",
   "execution_count": 12,
   "id": "2b6d935d",
   "metadata": {},
   "outputs": [],
   "source": [
    "#5.  What is the value of spam[:2]?"
   ]
  },
  {
   "cell_type": "code",
   "execution_count": 13,
   "id": "ac32cb9c",
   "metadata": {},
   "outputs": [
    {
     "data": {
      "text/plain": [
       "['a', 'b']"
      ]
     },
     "execution_count": 13,
     "metadata": {},
     "output_type": "execute_result"
    }
   ],
   "source": [
    "spam[:2]"
   ]
  },
  {
   "cell_type": "code",
   "execution_count": 14,
   "id": "8f7fe5d3",
   "metadata": {},
   "outputs": [],
   "source": [
    "#6.  What is the value of bacon.index(&#39;cat&#39;)?"
   ]
  },
  {
   "cell_type": "code",
   "execution_count": 15,
   "id": "5578ebb9",
   "metadata": {},
   "outputs": [],
   "source": [
    "bacon=[3.14,\"cat\",11,\"cat\",True]"
   ]
  },
  {
   "cell_type": "code",
   "execution_count": 17,
   "id": "b832254d",
   "metadata": {},
   "outputs": [
    {
     "data": {
      "text/plain": [
       "1"
      ]
     },
     "execution_count": 17,
     "metadata": {},
     "output_type": "execute_result"
    }
   ],
   "source": [
    "bacon.index(\"cat\")"
   ]
  },
  {
   "cell_type": "code",
   "execution_count": 18,
   "id": "fb641dab",
   "metadata": {},
   "outputs": [],
   "source": [
    "#7.  How does bacon.append(99) change the look of the list value in bacon?"
   ]
  },
  {
   "cell_type": "code",
   "execution_count": 20,
   "id": "fcffb119",
   "metadata": {},
   "outputs": [
    {
     "data": {
      "text/plain": [
       "[3.14, 'cat', 11, 'cat', True, 99, 99]"
      ]
     },
     "execution_count": 20,
     "metadata": {},
     "output_type": "execute_result"
    }
   ],
   "source": [
    "bacon.append(99)\n",
    "bacon"
   ]
  },
  {
   "cell_type": "code",
   "execution_count": 21,
   "id": "9c748880",
   "metadata": {},
   "outputs": [],
   "source": [
    "#8.  How does bacon.remove(&#39;cat&#39;) change the look of the list in bacon?"
   ]
  },
  {
   "cell_type": "code",
   "execution_count": 23,
   "id": "aecc60f4",
   "metadata": {},
   "outputs": [
    {
     "data": {
      "text/plain": [
       "[3.14, 11, True, 99, 99]"
      ]
     },
     "execution_count": 23,
     "metadata": {},
     "output_type": "execute_result"
    }
   ],
   "source": [
    "bacon.remove(\"cat\")\n",
    "bacon"
   ]
  },
  {
   "cell_type": "code",
   "execution_count": 24,
   "id": "9544394a",
   "metadata": {},
   "outputs": [],
   "source": [
    "#9.  What are the list concatenation and list replication operators?"
   ]
  },
  {
   "cell_type": "code",
   "execution_count": 26,
   "id": "969bc142",
   "metadata": {},
   "outputs": [
    {
     "name": "stdout",
     "output_type": "stream",
     "text": [
      "[1, 2, 3, 4, 4, 2, 3, 4]\n"
     ]
    }
   ],
   "source": [
    "#adding any 2 list is list concatination\n",
    "l=[1,2,3,4]\n",
    "l1=[4,2,3,4]\n",
    "print(l+l1) \n",
    "#operator for concatination is +\n",
    "\n",
    "\n"
   ]
  },
  {
   "cell_type": "code",
   "execution_count": 28,
   "id": "6360819a",
   "metadata": {},
   "outputs": [
    {
     "data": {
      "text/plain": [
       "[4, 2, 3, 4, 4, 2, 3, 4]"
      ]
     },
     "execution_count": 28,
     "metadata": {},
     "output_type": "execute_result"
    }
   ],
   "source": [
    "l1*2   #list replcation operators"
   ]
  },
  {
   "cell_type": "code",
   "execution_count": 29,
   "id": "4f3efc9c",
   "metadata": {},
   "outputs": [],
   "source": [
    "#10  What is difference between the list methods append() and insert()?"
   ]
  },
  {
   "cell_type": "code",
   "execution_count": 31,
   "id": "b0ea6a3f",
   "metadata": {},
   "outputs": [
    {
     "data": {
      "text/plain": [
       "[1, 2, 3, 4, 5, 'add']"
      ]
     },
     "execution_count": 31,
     "metadata": {},
     "output_type": "execute_result"
    }
   ],
   "source": [
    "#append always add the element in the last position wheras inset asks for us to add the element whererver we want\n",
    "l=[1,2,3,4,5]\n",
    "l.append(\"add\")\n",
    "l"
   ]
  },
  {
   "cell_type": "code",
   "execution_count": 43,
   "id": "0de98b7b",
   "metadata": {},
   "outputs": [
    {
     "data": {
      "text/plain": [
       "['qw', 1, 2, 3, 4, 5]"
      ]
     },
     "execution_count": 43,
     "metadata": {},
     "output_type": "execute_result"
    }
   ],
   "source": [
    "l=[1,2,3,4,5]\n",
    "l.insert(0,\"qw\")\n",
    "l\n",
    "#insert always asks for the posiyion index"
   ]
  },
  {
   "cell_type": "code",
   "execution_count": 44,
   "id": "2453c0e9",
   "metadata": {},
   "outputs": [],
   "source": [
    "#11  What are the two methods for removing items from a list?"
   ]
  },
  {
   "cell_type": "code",
   "execution_count": 47,
   "id": "7e91da65",
   "metadata": {},
   "outputs": [
    {
     "data": {
      "text/plain": [
       "[1, 2, 4, 5]"
      ]
     },
     "execution_count": 47,
     "metadata": {},
     "output_type": "execute_result"
    }
   ],
   "source": [
    "#we can directly remove element from thelist by using the l.remove function\n",
    "l=[1,2,3,4,5]        #by directly using l.remove and entering the value\n",
    "l.remove(3)\n",
    "l"
   ]
  },
  {
   "cell_type": "code",
   "execution_count": 51,
   "id": "cf2aa41f",
   "metadata": {},
   "outputs": [
    {
     "data": {
      "text/plain": [
       "[1, 2, 4, 5]"
      ]
     },
     "execution_count": 51,
     "metadata": {},
     "output_type": "execute_result"
    }
   ],
   "source": [
    "#we can also remove the element from the list using del function \n",
    "#by putting the index value, we can do this.\n",
    "l=[1,2,3,4,5]\n",
    "del l[2]\n",
    "l\n"
   ]
  },
  {
   "cell_type": "code",
   "execution_count": 52,
   "id": "f8cc3c9d",
   "metadata": {},
   "outputs": [],
   "source": [
    "#12  Describe how list values and string values are identical."
   ]
  },
  {
   "cell_type": "code",
   "execution_count": 53,
   "id": "48d46987",
   "metadata": {},
   "outputs": [],
   "source": [
    "#12 \n",
    "#both have length\n",
    "#we can use indexing in both\n",
    "#we can use for and while loop in both.\n",
    "#both store element in the form of index.\n"
   ]
  },
  {
   "cell_type": "code",
   "execution_count": 54,
   "id": "0883edae",
   "metadata": {},
   "outputs": [],
   "source": [
    "#13. What is the difference between tuples and lists?"
   ]
  },
  {
   "cell_type": "code",
   "execution_count": null,
   "id": "8518c73f",
   "metadata": {},
   "outputs": [],
   "source": [
    "#13. \n",
    "#tuple starts with (), wheras list starts with [].\n",
    "#in tuple we dont have many keywords like extend, append etc., whereas in list we can easily append and extend elements in the list.\n",
    "#we can use tuples in the form of protection to store password, so that no will be able ot vhange in future, whereas in list its not the case.\n",
    "#tuple is immumtable whereas list is mutable.\n",
    "#itteration is time consuming in list, in tuple its faster.\n",
    "#tuple is good for acessing the elements, whereas list is good for insertion and delete.\n",
    "#"
   ]
  },
  {
   "cell_type": "code",
   "execution_count": 61,
   "id": "200e911e",
   "metadata": {},
   "outputs": [],
   "source": [
    "#14  How do you type a tuple value that only contains the integer 42?"
   ]
  },
  {
   "cell_type": "code",
   "execution_count": 69,
   "id": "4dd14a9a",
   "metadata": {},
   "outputs": [
    {
     "name": "stdout",
     "output_type": "stream",
     "text": [
      "<class 'tuple'>\n"
     ]
    }
   ],
   "source": [
    "t=(42, )\n",
    "print(type(t))"
   ]
  },
  {
   "cell_type": "code",
   "execution_count": 70,
   "id": "d4acaab8",
   "metadata": {},
   "outputs": [],
   "source": [
    "#15  How do you get a list value&#39;s tuple form? How do you get a tuple value&#39;s list form?"
   ]
  },
  {
   "cell_type": "code",
   "execution_count": 72,
   "id": "e3335a4c",
   "metadata": {},
   "outputs": [
    {
     "data": {
      "text/plain": [
       "(12, 12, 12, 12, 321, 3, 21, 3)"
      ]
     },
     "execution_count": 72,
     "metadata": {},
     "output_type": "execute_result"
    }
   ],
   "source": [
    "#we can do this by type casting.\n",
    "l=[12,12,12,12,321,3,21,3]   #converting list into tuple\n",
    "b=tuple(l)\n",
    "b"
   ]
  },
  {
   "cell_type": "code",
   "execution_count": 75,
   "id": "9d021bb9",
   "metadata": {},
   "outputs": [
    {
     "data": {
      "text/plain": [
       "[12, 12, 12, 12, 321, 3, 21, 3]"
      ]
     },
     "execution_count": 75,
     "metadata": {},
     "output_type": "execute_result"
    }
   ],
   "source": [
    "b=list(b)        #converting tuple into list.\n",
    "b"
   ]
  },
  {
   "cell_type": "code",
   "execution_count": 76,
   "id": "74bf6c38",
   "metadata": {},
   "outputs": [],
   "source": [
    "#16  Variables that &quot;contain&quot; list values are not necessarily lists themselves. Instead, what do they\n",
    "#contain?"
   ]
  },
  {
   "cell_type": "code",
   "execution_count": null,
   "id": "25d7c39f",
   "metadata": {},
   "outputs": [],
   "source": [
    "#elements"
   ]
  },
  {
   "cell_type": "code",
   "execution_count": 77,
   "id": "52e85620",
   "metadata": {},
   "outputs": [],
   "source": [
    "#17  How do you distinguish between copy.copy() and copy.deepcopy()?"
   ]
  },
  {
   "cell_type": "code",
   "execution_count": 78,
   "id": "adfaaf3c",
   "metadata": {},
   "outputs": [],
   "source": [
    "#we use the copy module. The copy() returns a shallow copy of the list, and deepcopy() returns a deep copy of the list. "
   ]
  },
  {
   "cell_type": "code",
   "execution_count": 86,
   "id": "9257b915",
   "metadata": {},
   "outputs": [
    {
     "name": "stdout",
     "output_type": "stream",
     "text": [
      "[12, 2, 3, 4] [1, 2, 3, 4]\n"
     ]
    }
   ],
   "source": [
    "#in shallow copy and deep copy there is not much difference between one degree list.\n",
    "l1=[1,2,3,4]\n",
    "l2=l1.copy()\n",
    "#if we make change in l1, it wont be reflected in l2, because it have stored it in differnet memory location.\n",
    "l1[0]=12\n",
    "print(l1,l2)\n",
    "#if we have used assignment opeartor and if we do same calculation then the l2 memory will change becuase, both the varaible have stored memory in the same location.\n"
   ]
  },
  {
   "cell_type": "code",
   "execution_count": 93,
   "id": "5e0cc0c3",
   "metadata": {},
   "outputs": [
    {
     "name": "stdout",
     "output_type": "stream",
     "text": [
      "[1, 3, 3, 123, 1] [1, 3, 3, 123, 1]\n"
     ]
    }
   ],
   "source": [
    "##if we have used assignment opeartor and if we do same calculation then the l2 memory will change becuase, both the varaible have stored memory in the same location.\n",
    "l1=[12,3,3,123,1]\n",
    "l2=l1\n",
    "l2[0]=1\n",
    "print(l1,l2)\n",
    "#it is storing both the value at same location."
   ]
  },
  {
   "cell_type": "code",
   "execution_count": 115,
   "id": "6d5d0c83",
   "metadata": {},
   "outputs": [
    {
     "name": "stdout",
     "output_type": "stream",
     "text": [
      "[[2, 'sess', 23, 3], [2, 1, 2, 21]] [[2, 'sess', 23, 3], [2, 1, 2, 21]]\n"
     ]
    }
   ],
   "source": [
    "##in case of nested list, sort copy willnot work properly.\n",
    "l=[[2,2,23,3],[2,1,2,21]]\n",
    "l1=l.copy()\n",
    "l[0][1]=\"sess\"\n",
    "print(l,l1)\n",
    "#it is doing changes in both l and l1, in case of shallow copy but wont be the same case in deep copy"
   ]
  },
  {
   "cell_type": "code",
   "execution_count": 118,
   "id": "1df6326f",
   "metadata": {},
   "outputs": [
    {
     "name": "stdout",
     "output_type": "stream",
     "text": [
      "[[2, 'sess', 23, 3], [2, 1, 2, 21]] [[2, 2, 23, 3], [2, 1, 2, 21]]\n"
     ]
    }
   ],
   "source": [
    "##in case of deep copy it will store the location at different location.\n",
    "import copy\n",
    "l=[[2,2,23,3],[2,1,2,21]]\n",
    "l2=copy.deepcopy(l)\n",
    "l[0][1]=\"sess\"\n",
    "print(l,l2)\n"
   ]
  },
  {
   "cell_type": "code",
   "execution_count": null,
   "id": "239fe6ee",
   "metadata": {},
   "outputs": [],
   "source": []
  }
 ],
 "metadata": {
  "kernelspec": {
   "display_name": "Python 3 (ipykernel)",
   "language": "python",
   "name": "python3"
  },
  "language_info": {
   "codemirror_mode": {
    "name": "ipython",
    "version": 3
   },
   "file_extension": ".py",
   "mimetype": "text/x-python",
   "name": "python",
   "nbconvert_exporter": "python",
   "pygments_lexer": "ipython3",
   "version": "3.9.12"
  }
 },
 "nbformat": 4,
 "nbformat_minor": 5
}
