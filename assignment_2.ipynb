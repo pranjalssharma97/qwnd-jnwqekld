{
 "cells": [
  {
   "cell_type": "code",
   "execution_count": 5,
   "id": "1a00c3a0",
   "metadata": {},
   "outputs": [],
   "source": [
    "#Q#1..What are the two values of the Boolean data type? How do you write them?"
   ]
  },
  {
   "cell_type": "code",
   "execution_count": 3,
   "id": "5ae24b2c",
   "metadata": {},
   "outputs": [],
   "source": [
    "#two values of boolean data type are true and false. we write them with T and F."
   ]
  },
  {
   "cell_type": "code",
   "execution_count": 6,
   "id": "9de5ba8f",
   "metadata": {},
   "outputs": [],
   "source": [
    "#2. What are the three different types of Boolean operators?"
   ]
  },
  {
   "cell_type": "code",
   "execution_count": 7,
   "id": "d3710258",
   "metadata": {},
   "outputs": [],
   "source": [
    "#ANS#2.and, or, and not"
   ]
  },
  {
   "cell_type": "code",
   "execution_count": 9,
   "id": "6f018ac9",
   "metadata": {},
   "outputs": [],
   "source": [
    "#3. Make a list of each Boolean operator&#39;s truth tables (i.e. every possible combination of Boolean\n",
    "#values for the operator and what it evaluate )."
   ]
  },
  {
   "cell_type": "code",
   "execution_count": 11,
   "id": "9fdbb9fe",
   "metadata": {},
   "outputs": [],
   "source": [
    "#ANS3True and True is True.\n",
    "\n",
    "#True and False is False.\n",
    "\n",
    "#False and True is False.\n",
    "\n",
    "#False and False is False.\n",
    "\n",
    "#True or True is True.\n",
    "\n",
    "#True or False is True.\n",
    "\n",
    "#False or True is True.\n",
    "\n",
    "#False or False is False.\n",
    "\n",
    "#not True is False.\n",
    "\n",
    "#not False is True."
   ]
  },
  {
   "cell_type": "code",
   "execution_count": 13,
   "id": "01b448ce",
   "metadata": {},
   "outputs": [],
   "source": [
    "#4. What are the values of the following expressions?\n",
    "#(5 &gt; 4) and (3 == 5)\n",
    "#not (5 &gt; 4)\n",
    "#(5 &gt; 4) or (3 == 5)\n",
    "#not ((5 &gt; 4) or (3 == 5))\n",
    "#(True and True) and (True == False)\n",
    "#(not False) or (not True)"
   ]
  },
  {
   "cell_type": "code",
   "execution_count": 14,
   "id": "dc102cd1",
   "metadata": {},
   "outputs": [],
   "source": [
    "#ANS4 False\n",
    "#False\n",
    "#True\n",
    "#False\n",
    "#False\n",
    "#True"
   ]
  },
  {
   "cell_type": "code",
   "execution_count": 15,
   "id": "f2d878b4",
   "metadata": {},
   "outputs": [],
   "source": [
    "#5 5. What are the six comparison operators?"
   ]
  },
  {
   "cell_type": "code",
   "execution_count": 16,
   "id": "25dead21",
   "metadata": {},
   "outputs": [],
   "source": [
    "#ANS5 ==, !=, <, >, <=, and >=."
   ]
  },
  {
   "cell_type": "code",
   "execution_count": 17,
   "id": "2892a5ff",
   "metadata": {},
   "outputs": [],
   "source": [
    "#6. 6. How do you tell the difference between the equal to and assignment operators?Describe a\n",
    "#condition and when you would use one."
   ]
  },
  {
   "cell_type": "code",
   "execution_count": 18,
   "id": "bba09b3d",
   "metadata": {},
   "outputs": [],
   "source": [
    "#ANS6\n",
    "#== is the equal to operator that compares two values and evaluates to a Boolean, while = is the assignment operator that stores a value in a variable."
   ]
  },
  {
   "cell_type": "code",
   "execution_count": 19,
   "id": "d4069bcf",
   "metadata": {},
   "outputs": [
    {
     "ename": "IndentationError",
     "evalue": "expected an indented block (4252912060.py, line 4)",
     "output_type": "error",
     "traceback": [
      "\u001b[1;36m  Input \u001b[1;32mIn [19]\u001b[1;36m\u001b[0m\n\u001b[1;33m    print(&#39;eggs&#39;)\u001b[0m\n\u001b[1;37m    ^\u001b[0m\n\u001b[1;31mIndentationError\u001b[0m\u001b[1;31m:\u001b[0m expected an indented block\n"
     ]
    }
   ],
   "source": [
    "#7 7. Identify the three blocks in this code:\n"
   ]
  },
  {
   "cell_type": "code",
   "execution_count": 21,
   "id": "57f43d13",
   "metadata": {},
   "outputs": [],
   "source": [
    "#ANS7 The three blocks are everything inside the if statement and the lines print('bacon') and print('ham').\n",
    "\n",
    "#print('eggs')\n",
    "#if spam > 5:\n",
    "#print('bacon')\n",
    "#else:\n",
    "#print('ham')\n",
    "#print('spam')"
   ]
  },
  {
   "cell_type": "code",
   "execution_count": 22,
   "id": "2b4d08a3",
   "metadata": {},
   "outputs": [],
   "source": [
    "#8. Write code that prints Hello if 1 is stored in spam, prints Howdy if 2 is stored in spam, and prints\n",
    "#Greetings! if anything else is stored in spam."
   ]
  },
  {
   "cell_type": "code",
   "execution_count": 27,
   "id": "d50ab529",
   "metadata": {},
   "outputs": [],
   "source": [
    "#if spam == 1:\n",
    "    #print('Hello')\n",
    "#elif spam == 2:\n",
    "    #print('Howdy')\n",
    "#else:\n",
    "    #print('Greetings!')"
   ]
  },
  {
   "cell_type": "code",
   "execution_count": 28,
   "id": "bd4b3e90",
   "metadata": {},
   "outputs": [],
   "source": [
    "#9 .If your programme is stuck in an endless loop, what keys you’ll press?"
   ]
  },
  {
   "cell_type": "code",
   "execution_count": 29,
   "id": "6a782263",
   "metadata": {},
   "outputs": [],
   "source": [
    "#Press CTRL-C to stop a program stuck in an infinite loop."
   ]
  },
  {
   "cell_type": "code",
   "execution_count": 30,
   "id": "a03e3472",
   "metadata": {},
   "outputs": [],
   "source": [
    "#10.. How can you tell the difference between break and continue?"
   ]
  },
  {
   "cell_type": "code",
   "execution_count": 31,
   "id": "77fef1a6",
   "metadata": {},
   "outputs": [],
   "source": [
    "#10. ANS The break statement will move the execution outside and just after a loop. The continue statement will move the execution to the start of the loop."
   ]
  },
  {
   "cell_type": "code",
   "execution_count": 32,
   "id": "a579c398",
   "metadata": {},
   "outputs": [],
   "source": [
    "#11. In a for loop, what is the difference between range(10), range(0, 10), and range(0, 10, 1)?"
   ]
  },
  {
   "cell_type": "code",
   "execution_count": 33,
   "id": "c5e54d84",
   "metadata": {},
   "outputs": [],
   "source": [
    "#11. They all do the same thing. The range(10) call ranges from 0 up to (but not including) 10, range(0, 10) explicitly tells the loop to start at 0, and range(0, 10, 1) explicitly tells the loop to increase the variable by 1 on each iteration."
   ]
  },
  {
   "cell_type": "code",
   "execution_count": 34,
   "id": "6effba8d",
   "metadata": {},
   "outputs": [],
   "source": [
    "#12. Write a short program that prints the numbers 1 to 10 using a for loop. Then write an equivalent\n",
    "#program that prints the numbers 1 to 10 using a while loop."
   ]
  },
  {
   "cell_type": "code",
   "execution_count": 39,
   "id": "d9aac705",
   "metadata": {},
   "outputs": [
    {
     "name": "stdout",
     "output_type": "stream",
     "text": [
      "0\n",
      "1\n",
      "2\n",
      "3\n",
      "4\n",
      "5\n",
      "6\n",
      "7\n",
      "8\n",
      "9\n",
      "10\n"
     ]
    }
   ],
   "source": [
    "for i in range(0,11):\n",
    "    print(i)\n"
   ]
  },
  {
   "cell_type": "code",
   "execution_count": 41,
   "id": "8b92db39",
   "metadata": {},
   "outputs": [
    {
     "name": "stdout",
     "output_type": "stream",
     "text": [
      "1\n",
      "2\n",
      "3\n",
      "4\n",
      "5\n",
      "6\n",
      "7\n",
      "8\n",
      "9\n",
      "10\n"
     ]
    }
   ],
   "source": [
    "a=1\n",
    "while a<=10:\n",
    "    print(a)\n",
    "    a=a+1"
   ]
  },
  {
   "cell_type": "code",
   "execution_count": 42,
   "id": "05ca7475",
   "metadata": {},
   "outputs": [],
   "source": [
    "#13. 13. If you had a function named bacon() inside a module named spam, how would you call it after\n",
    "#importing spam?"
   ]
  },
  {
   "cell_type": "code",
   "execution_count": 43,
   "id": "6702a06e",
   "metadata": {},
   "outputs": [],
   "source": [
    "#ans 13This function can be called with spam.bacon().\n"
   ]
  },
  {
   "cell_type": "code",
   "execution_count": null,
   "id": "28388ca2",
   "metadata": {},
   "outputs": [],
   "source": []
  }
 ],
 "metadata": {
  "kernelspec": {
   "display_name": "Python 3 (ipykernel)",
   "language": "python",
   "name": "python3"
  },
  "language_info": {
   "codemirror_mode": {
    "name": "ipython",
    "version": 3
   },
   "file_extension": ".py",
   "mimetype": "text/x-python",
   "name": "python",
   "nbconvert_exporter": "python",
   "pygments_lexer": "ipython3",
   "version": "3.9.12"
  }
 },
 "nbformat": 4,
 "nbformat_minor": 5
}
