{
 "cells": [
  {
   "cell_type": "code",
   "execution_count": 1,
   "id": "1822ee03",
   "metadata": {},
   "outputs": [],
   "source": [
    "#q1Question1\n",
    "#Create a function that takes a list of strings and integers, and filters out the list so that it\n",
    "#returns a list of integers only."
   ]
  },
  {
   "cell_type": "code",
   "execution_count": 27,
   "id": "0586e88d",
   "metadata": {},
   "outputs": [],
   "source": [
    "#ans1\n",
    "def test1(a):\n",
    "    l=[]\n",
    "    for i in a:\n",
    "        if type(i)==int:\n",
    "            l.append(i)\n",
    "    print(l)\n",
    "        \n",
    "    \n",
    "    "
   ]
  },
  {
   "cell_type": "code",
   "execution_count": 28,
   "id": "1fca4d05",
   "metadata": {},
   "outputs": [
    {
     "name": "stdout",
     "output_type": "stream",
     "text": [
      "[12, 3, 1, 123]\n"
     ]
    }
   ],
   "source": [
    "test1([12,3,1,\"wrr\",\"212\",123])"
   ]
  },
  {
   "cell_type": "code",
   "execution_count": 29,
   "id": "d7442d21",
   "metadata": {},
   "outputs": [],
   "source": [
    "#q2 \n",
    "#Given a list of numbers, create a function which returns the list but with each element&#39;s\n",
    "#index in the list added to itself. This means you add 0 to the number at index 0, add 1 to the\n",
    "#number at index 1, etc..."
   ]
  },
  {
   "cell_type": "code",
   "execution_count": 192,
   "id": "a464db94",
   "metadata": {},
   "outputs": [],
   "source": [
    "def test2(a):\n",
    "    l=[]\n",
    "    for i in range(len(a)):\n",
    "        l1.append(i+a[i])\n",
    "    print(l1)\n",
    "        \n",
    "   \n",
    "       "
   ]
  },
  {
   "cell_type": "code",
   "execution_count": 193,
   "id": "26d676dc",
   "metadata": {},
   "outputs": [
    {
     "name": "stdout",
     "output_type": "stream",
     "text": [
      "[1, 3, 5, 7, 9]\n"
     ]
    }
   ],
   "source": [
    "test2([1,2,3,4,5])"
   ]
  },
  {
   "cell_type": "code",
   "execution_count": 107,
   "id": "020e8b92",
   "metadata": {},
   "outputs": [],
   "source": [
    "#q3Create a function that takes the height and radius of a cone as arguments and returns the\n",
    "#volume of the cone rounded to the nearest hundredth. See the resources tab for the formula."
   ]
  },
  {
   "cell_type": "code",
   "execution_count": 126,
   "id": "5260edbf",
   "metadata": {},
   "outputs": [],
   "source": [
    "def test3(height,radius):\n",
    "    volume=float((0.33*3.14159265*radius**2*height))\n",
    "    print(volume)"
   ]
  },
  {
   "cell_type": "code",
   "execution_count": 128,
   "id": "72547128",
   "metadata": {},
   "outputs": [
    {
     "name": "stdout",
     "output_type": "stream",
     "text": [
      "12.440706894000002\n"
     ]
    }
   ],
   "source": [
    "test3(3,2)"
   ]
  },
  {
   "cell_type": "code",
   "execution_count": 129,
   "id": "ff3b92b9",
   "metadata": {},
   "outputs": [],
   "source": [
    "#4 This Triangular Number Sequence is generated from a pattern of dots that form a triangle.\n",
    "#The first 5 numbers of the sequence, or dots, are:\n",
    "#1, 3, 6, 10, 15\n",
    "#This means that the first triangle has just one dot, the second one has three dots, the third one\n",
    "#has 6 dots and so on.\n",
    "#Write a function that gives the number of dots with its corresponding triangle number of the\n",
    "#sequence."
   ]
  },
  {
   "cell_type": "code",
   "execution_count": 133,
   "id": "5b88cfa4",
   "metadata": {},
   "outputs": [],
   "source": [
    "def test4(a):\n",
    "    b=0\n",
    "    for i in range(0,a+1):\n",
    "        b+=i\n",
    "    print(b)\n",
    "        "
   ]
  },
  {
   "cell_type": "code",
   "execution_count": 135,
   "id": "ec993f14",
   "metadata": {},
   "outputs": [
    {
     "name": "stdout",
     "output_type": "stream",
     "text": [
      "21\n"
     ]
    }
   ],
   "source": [
    "test4(6)"
   ]
  },
  {
   "cell_type": "code",
   "execution_count": 137,
   "id": "f4cfc897",
   "metadata": {},
   "outputs": [],
   "source": [
    "#Question5\n",
    "#Create a function that takes a list of numbers between 1 and 10 (excluding one number) and\n",
    "#returns the missing number."
   ]
  },
  {
   "cell_type": "code",
   "execution_count": 163,
   "id": "f98e70b8",
   "metadata": {},
   "outputs": [],
   "source": [
    "def test5(a):\n",
    "    b=[1,2,3,4,5,6,7,8,9,10]\n",
    "    for i in b:\n",
    "        if  i not in a:\n",
    "            print(i)\n",
    "            "
   ]
  },
  {
   "cell_type": "code",
   "execution_count": 164,
   "id": "1867be5d",
   "metadata": {},
   "outputs": [
    {
     "name": "stdout",
     "output_type": "stream",
     "text": [
      "6\n"
     ]
    }
   ],
   "source": [
    "test5([1,2,3,4,5,7,8,9,10])"
   ]
  },
  {
   "cell_type": "code",
   "execution_count": null,
   "id": "e5d09a0c",
   "metadata": {},
   "outputs": [],
   "source": []
  }
 ],
 "metadata": {
  "kernelspec": {
   "display_name": "Python 3 (ipykernel)",
   "language": "python",
   "name": "python3"
  },
  "language_info": {
   "codemirror_mode": {
    "name": "ipython",
    "version": 3
   },
   "file_extension": ".py",
   "mimetype": "text/x-python",
   "name": "python",
   "nbconvert_exporter": "python",
   "pygments_lexer": "ipython3",
   "version": "3.9.12"
  }
 },
 "nbformat": 4,
 "nbformat_minor": 5
}
