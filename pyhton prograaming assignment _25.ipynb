{
 "cells": [
  {
   "cell_type": "code",
   "execution_count": 1,
   "id": "9d5f0cc9",
   "metadata": {},
   "outputs": [],
   "source": [
    "#Question1\n",
    "#Create a function that takes three integer arguments (a, b, c) and returns the amount of\n",
    "#integers which are of equal value."
   ]
  },
  {
   "cell_type": "code",
   "execution_count": 11,
   "id": "436a3b27",
   "metadata": {},
   "outputs": [],
   "source": [
    "def test1(a,b,c):\n",
    "    \n",
    "    if (a)==(b) and (b)==(c):\n",
    "        return 3\n",
    "    if (a)!=(b) and (b)!=(c) and (a)!=(c):\n",
    "        return 0\n",
    "        \n",
    "    if (a)==(b) or(b)==(c):\n",
    "        return(2)\n",
    "    if (a)==(c) and (c)==(b):\n",
    "        return(3)\n",
    "    if (a)!=(b)and (b)==(c):\n",
    "        return(2) \n",
    "    if (a)!=(b) and (b)!=(c) and(a)==(c):\n",
    "        return(2)"
   ]
  },
  {
   "cell_type": "code",
   "execution_count": 16,
   "id": "7881e95a",
   "metadata": {},
   "outputs": [
    {
     "data": {
      "text/plain": [
       "2"
      ]
     },
     "execution_count": 16,
     "metadata": {},
     "output_type": "execute_result"
    }
   ],
   "source": [
    "test1(1,0,1)"
   ]
  },
  {
   "cell_type": "code",
   "execution_count": 12,
   "id": "e0d1a563",
   "metadata": {},
   "outputs": [],
   "source": [
    "#Question2\n",
    "#Write a function that converts a dictionary into a list of keys-values tuples."
   ]
  },
  {
   "cell_type": "code",
   "execution_count": 21,
   "id": "cc7de975",
   "metadata": {},
   "outputs": [
    {
     "data": {
      "text/plain": [
       "[('klaskld', 13234), ('prana', 123423), ('pranjal', 12324), ('qwer', 122334)]"
      ]
     },
     "execution_count": 21,
     "metadata": {},
     "output_type": "execute_result"
    }
   ],
   "source": [
    "\n",
    "b={\"pranjal\":12324,\"prana\":123423,\"qwer\":122334,\"klaskld\":13234}\n",
    "\n",
    "a=b.items()\n",
    "sorted(a)\n",
    "\n",
    "    \n",
    "    \n",
    "   \n",
    "     \n",
    "    \n",
    "        \n",
    "    \n",
    "    "
   ]
  },
  {
   "cell_type": "code",
   "execution_count": 50,
   "id": "aab455cd",
   "metadata": {},
   "outputs": [],
   "source": [
    "#Question3\n",
    "#Write a function that creates a dictionary with each (key, value) pair being the (lower case,\n",
    "#upper case) versions of a letter, respectively."
   ]
  },
  {
   "cell_type": "code",
   "execution_count": 147,
   "id": "67f4e426",
   "metadata": {},
   "outputs": [],
   "source": [
    "def test3(l):\n",
    "    s={}\n",
    "    print(l)\n",
    "    for i in l:\n",
    "        s[i]=i.upper()\n",
    "    print(s)\n",
    "    \n",
    "        \n",
    "\n",
    "    "
   ]
  },
  {
   "cell_type": "code",
   "execution_count": 148,
   "id": "2d00bf36",
   "metadata": {},
   "outputs": [
    {
     "name": "stdout",
     "output_type": "stream",
     "text": [
      "['a', 'b', 'c', 'd']\n",
      "{'a': 'A', 'b': 'B', 'c': 'C', 'd': 'D'}\n"
     ]
    }
   ],
   "source": [
    "test3(['a','b','c','d'])"
   ]
  },
  {
   "cell_type": "code",
   "execution_count": 56,
   "id": "90c0d8f7",
   "metadata": {},
   "outputs": [],
   "source": [
    "#Question4\n",
    "#Write a function, that replaces all vowels in a string with a specified vowel."
   ]
  },
  {
   "cell_type": "code",
   "execution_count": 134,
   "id": "3e5fb1ca",
   "metadata": {},
   "outputs": [],
   "source": [
    "def test4():\n",
    "    a=\"a,e,i,o,u\"\n",
    "    b=input(\"enter your string\")\n",
    "    s=b\n",
    "    for i in b:\n",
    "        if i in a:\n",
    "            s=(s.replace(i,\"o\")\n",
    "               \n",
    "    return(s)\n",
    "    \n",
    "\n",
    "        "
   ]
  },
  {
   "cell_type": "code",
   "execution_count": 135,
   "id": "739762df",
   "metadata": {},
   "outputs": [
    {
     "name": "stdout",
     "output_type": "stream",
     "text": [
      "enter your stringcheese casserole\n",
      "mf\n"
     ]
    },
    {
     "data": {
      "text/plain": [
       "'chooso cossorolo'"
      ]
     },
     "execution_count": 135,
     "metadata": {},
     "output_type": "execute_result"
    }
   ],
   "source": [
    "test4()"
   ]
  },
  {
   "cell_type": "code",
   "execution_count": 72,
   "id": "e8537dd1",
   "metadata": {},
   "outputs": [],
   "source": [
    "#Question5\n",
    "#Create a function that takes a string as input and capitalizes a letter if its ASCII code is even\n",
    "#and returns its lower case version if its ASCII code is odd."
   ]
  },
  {
   "cell_type": "code",
   "execution_count": 66,
   "id": "7bc3165f",
   "metadata": {},
   "outputs": [
    {
     "name": "stdout",
     "output_type": "stream",
     "text": [
      "enter your stringpranjal sharma\n",
      "PRaNJaL sHaRma"
     ]
    }
   ],
   "source": [
    "a=input(\"enter your string\")\n",
    "\n",
    "for i in a: \n",
    "    if ord(i)%2==0: \n",
    "        print(i.capitalize(), end='')\n",
    "    else:\n",
    "        print(i.lower(), end='') \n",
    "         "
   ]
  },
  {
   "cell_type": "code",
   "execution_count": null,
   "id": "38321eb3",
   "metadata": {},
   "outputs": [],
   "source": []
  }
 ],
 "metadata": {
  "kernelspec": {
   "display_name": "Python 3 (ipykernel)",
   "language": "python",
   "name": "python3"
  },
  "language_info": {
   "codemirror_mode": {
    "name": "ipython",
    "version": 3
   },
   "file_extension": ".py",
   "mimetype": "text/x-python",
   "name": "python",
   "nbconvert_exporter": "python",
   "pygments_lexer": "ipython3",
   "version": "3.9.12"
  }
 },
 "nbformat": 4,
 "nbformat_minor": 5
}
