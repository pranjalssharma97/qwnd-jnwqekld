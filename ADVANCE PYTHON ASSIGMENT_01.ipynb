{
 "cells": [
  {
   "cell_type": "code",
   "execution_count": 1,
   "id": "8fea5691",
   "metadata": {},
   "outputs": [],
   "source": [
    "#Q1. What is the purpose of Python;s OOP?"
   ]
  },
  {
   "cell_type": "code",
   "execution_count": 2,
   "id": "3e80cfdc",
   "metadata": {},
   "outputs": [],
   "source": [
    "#ANS 1 THE PURPOSE OF OOPS -OBJECT ORIENTED PROGRAMMING IS TO CLASSIFY OUR CODE IN THR FORM OF  CLASSES AND OBJECTS.\n",
    "# THE MAIN COCNEPT IN OOPS ARE Class\n",
    "#Objects\n",
    "#Polymorphism\n",
    "#Encapsulation\n",
    "#Inheritance\n",
    "#Data Abstraction\n",
    "#The main concept of OOPs is to bind the data and the functions that work on that together as a single unit so that no other part of the code can access this data."
   ]
  },
  {
   "cell_type": "code",
   "execution_count": 3,
   "id": "d3a66b18",
   "metadata": {},
   "outputs": [],
   "source": [
    "#Q2  Where does an inheritance search look for an attribute?"
   ]
  },
  {
   "cell_type": "code",
   "execution_count": 4,
   "id": "9022949b",
   "metadata": {},
   "outputs": [],
   "source": [
    "#ANS2 INHERITANCE SEARCH FROM ITS PARENT CLASS."
   ]
  },
  {
   "cell_type": "code",
   "execution_count": 5,
   "id": "8fb3f158",
   "metadata": {},
   "outputs": [],
   "source": [
    "#Q3 How do you distinguish between a class object and an instance object?"
   ]
  },
  {
   "cell_type": "code",
   "execution_count": 50,
   "id": "a2bb641a",
   "metadata": {},
   "outputs": [],
   "source": [
    "# I WILL EXPLAIN THIS WITH EXAPMLE\n",
    "class hero:\n",
    "    herono_1=\"fsds\"\n",
    "    def __init__(self,a,b,c):\n",
    "        self.a=a\n",
    "        self.b=b\n",
    "        self.c=c\n",
    "    def moviename(self,a,b,c):\n",
    "        self.a=a\n",
    "        self.b=b\n",
    "        self.c=c\n",
    "        "
   ]
  },
  {
   "cell_type": "code",
   "execution_count": 51,
   "id": "a846d82c",
   "metadata": {},
   "outputs": [
    {
     "data": {
      "text/plain": [
       "'fsds'"
      ]
     },
     "execution_count": 51,
     "metadata": {},
     "output_type": "execute_result"
    }
   ],
   "source": [
    "hero.herono_1#this value will be treated as class object, its vlaue will reamain same unless and untill it is changed by using class name."
   ]
  },
  {
   "cell_type": "code",
   "execution_count": 53,
   "id": "6ed777f1",
   "metadata": {},
   "outputs": [],
   "source": [
    "u=hero(1,2,3)"
   ]
  },
  {
   "cell_type": "code",
   "execution_count": 55,
   "id": "72ea6ee2",
   "metadata": {},
   "outputs": [
    {
     "data": {
      "text/plain": [
       "1"
      ]
     },
     "execution_count": 55,
     "metadata": {},
     "output_type": "execute_result"
    }
   ],
   "source": [
    "u.a#this value will change its not static it can only be acess by using a variable and this value will change with another variable."
   ]
  },
  {
   "cell_type": "code",
   "execution_count": 58,
   "id": "a9a58855",
   "metadata": {},
   "outputs": [
    {
     "data": {
      "text/plain": [
       "'fsds'"
      ]
     },
     "execution_count": 58,
     "metadata": {},
     "output_type": "execute_result"
    }
   ],
   "source": [
    "u.herono_1"
   ]
  },
  {
   "cell_type": "code",
   "execution_count": 60,
   "id": "6aa55564",
   "metadata": {},
   "outputs": [],
   "source": [
    "v=hero(4,5,6)"
   ]
  },
  {
   "cell_type": "code",
   "execution_count": 61,
   "id": "c8d16486",
   "metadata": {},
   "outputs": [
    {
     "data": {
      "text/plain": [
       "4"
      ]
     },
     "execution_count": 61,
     "metadata": {},
     "output_type": "execute_result"
    }
   ],
   "source": [
    "v.a"
   ]
  },
  {
   "cell_type": "code",
   "execution_count": 62,
   "id": "77a2aeeb",
   "metadata": {},
   "outputs": [
    {
     "data": {
      "text/plain": [
       "'fsds'"
      ]
     },
     "execution_count": 62,
     "metadata": {},
     "output_type": "execute_result"
    }
   ],
   "source": [
    "v.herono_1#the value of class variable will remain same. with whatever is the object."
   ]
  },
  {
   "cell_type": "code",
   "execution_count": 66,
   "id": "2d89a836",
   "metadata": {},
   "outputs": [],
   "source": [
    "#q4  What makes the first argument in a class’s method function special?"
   ]
  },
  {
   "cell_type": "code",
   "execution_count": null,
   "id": "8077e6f6",
   "metadata": {},
   "outputs": [],
   "source": [
    "#The first parameter in the class method is the class on which you are calling the method, not (necessarily) the class that defines the method. (Having a variable that always holds the same class would probably not be that useful."
   ]
  },
  {
   "cell_type": "code",
   "execution_count": null,
   "id": "913de824",
   "metadata": {},
   "outputs": [],
   "source": []
  },
  {
   "cell_type": "code",
   "execution_count": 63,
   "id": "24b6c09e",
   "metadata": {},
   "outputs": [],
   "source": [
    "#Q5. What is the purpose of the __init__ method?"
   ]
  },
  {
   "cell_type": "code",
   "execution_count": 65,
   "id": "23fb878a",
   "metadata": {},
   "outputs": [],
   "source": [
    "#the init method will give the data to the class, just like a,b,c in above example."
   ]
  },
  {
   "cell_type": "code",
   "execution_count": 67,
   "id": "fea4d8c4",
   "metadata": {},
   "outputs": [],
   "source": [
    "#Q6. What is the process for creating a class instance?"
   ]
  },
  {
   "cell_type": "code",
   "execution_count": 68,
   "id": "48eb78db",
   "metadata": {},
   "outputs": [],
   "source": [
    "# I WILL EXPLAIN THIS WITH EXAPMLE\n",
    "class hero:\n",
    "    herono_1=\"fsds\"\n",
    "    def __init__(self,a,b,c):\n",
    "        self.a=a\n",
    "        self.b=b\n",
    "        self.c=c\n",
    "    def moviename(self,a,b,c):\n",
    "        self.a=a\n",
    "        self.b=b\n",
    "        self.c=c\n",
    "        "
   ]
  },
  {
   "cell_type": "code",
   "execution_count": 69,
   "id": "6f2aa65d",
   "metadata": {},
   "outputs": [
    {
     "data": {
      "text/plain": [
       "'fsds'"
      ]
     },
     "execution_count": 69,
     "metadata": {},
     "output_type": "execute_result"
    }
   ],
   "source": [
    "hero.herono_1#it is a class instance-herono_1"
   ]
  },
  {
   "cell_type": "code",
   "execution_count": 70,
   "id": "5da32c0a",
   "metadata": {},
   "outputs": [],
   "source": [
    "#Q7. What is the process for creating a class?"
   ]
  },
  {
   "cell_type": "code",
   "execution_count": 73,
   "id": "56319fe8",
   "metadata": {},
   "outputs": [],
   "source": [
    "class fruits:\n",
    "    def __init__(self,a,b,c):\n",
    "        self.a=a\n",
    "        self.b=b\n",
    "        self.c=c                #creating class name fruit\n",
    "    def sweet(self):\n",
    "        print(\"this is sweet fruit\")\n",
    "    def sour(self):\n",
    "        print(\"this is sour fruit\")\n",
    "        "
   ]
  },
  {
   "cell_type": "code",
   "execution_count": 75,
   "id": "fc6cc930",
   "metadata": {},
   "outputs": [],
   "source": [
    "u=fruits(\"apple\",\"lemon\",\"banana\")"
   ]
  },
  {
   "cell_type": "code",
   "execution_count": 77,
   "id": "8b6d0b9c",
   "metadata": {},
   "outputs": [
    {
     "data": {
      "text/plain": [
       "'apple'"
      ]
     },
     "execution_count": 77,
     "metadata": {},
     "output_type": "execute_result"
    }
   ],
   "source": [
    "u.a"
   ]
  },
  {
   "cell_type": "code",
   "execution_count": 78,
   "id": "ef81f51d",
   "metadata": {},
   "outputs": [],
   "source": [
    "#Q8. How would you define the superclasses of a class?"
   ]
  },
  {
   "cell_type": "code",
   "execution_count": 86,
   "id": "856067c1",
   "metadata": {},
   "outputs": [],
   "source": [
    "#fromm a class, if we inherit the another class it is known as subclass.\n",
    "#class car:\n",
    "#its sublass will be toyota, maruti etc.\n",
    "#superclass is a class from which many subclass can be created.\n",
    "#the subcclass inherit the characteristics of super class.\n",
    "\n",
    "\n",
    "#we can understand this having one example.\n",
    "\n",
    "class test:\n",
    "    def fun(self):\n",
    "        print(\"hero\")      #test is the superclass and test1 is the subclass\n",
    "        \n",
    "class test1(test):\n",
    "    def fun(self):\n",
    "        print(\"zero\")"
   ]
  },
  {
   "cell_type": "code",
   "execution_count": null,
   "id": "8dea48e7",
   "metadata": {},
   "outputs": [],
   "source": []
  }
 ],
 "metadata": {
  "kernelspec": {
   "display_name": "Python 3 (ipykernel)",
   "language": "python",
   "name": "python3"
  },
  "language_info": {
   "codemirror_mode": {
    "name": "ipython",
    "version": 3
   },
   "file_extension": ".py",
   "mimetype": "text/x-python",
   "name": "python",
   "nbconvert_exporter": "python",
   "pygments_lexer": "ipython3",
   "version": "3.9.12"
  }
 },
 "nbformat": 4,
 "nbformat_minor": 5
}
