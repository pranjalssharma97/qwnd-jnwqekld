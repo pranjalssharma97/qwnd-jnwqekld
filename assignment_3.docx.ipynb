{
 "cells": [
  {
   "cell_type": "code",
   "execution_count": 1,
   "id": "7d8b9696",
   "metadata": {},
   "outputs": [],
   "source": [
    "#1. Why are functions advantageous to have in your programs?"
   ]
  },
  {
   "cell_type": "code",
   "execution_count": 2,
   "id": "8ab6bd33",
   "metadata": {},
   "outputs": [],
   "source": [
    "#ans Functions reduce the need for duplicate code. This makes programs shorter, easier to read, and easier to update."
   ]
  },
  {
   "cell_type": "code",
   "execution_count": 3,
   "id": "16b071c1",
   "metadata": {},
   "outputs": [],
   "source": [
    "#2. When does the code in a function run: when it&#39;s specified or when it&#39;s called?"
   ]
  },
  {
   "cell_type": "code",
   "execution_count": 4,
   "id": "9bc40368",
   "metadata": {},
   "outputs": [],
   "source": [
    "#ans function run when it is called."
   ]
  },
  {
   "cell_type": "code",
   "execution_count": 5,
   "id": "fc0eae3a",
   "metadata": {},
   "outputs": [],
   "source": [
    "#qus3. What statement creates a function?"
   ]
  },
  {
   "cell_type": "code",
   "execution_count": 6,
   "id": "60d3b6d5",
   "metadata": {},
   "outputs": [],
   "source": [
    "#ans def function"
   ]
  },
  {
   "cell_type": "code",
   "execution_count": 7,
   "id": "e1824bc5",
   "metadata": {},
   "outputs": [],
   "source": [
    "#ques4 4. What is the difference between a function and a function call?"
   ]
  },
  {
   "cell_type": "code",
   "execution_count": 8,
   "id": "d56f3121",
   "metadata": {},
   "outputs": [],
   "source": [
    "#ans4 A function is a block of code that does a particular operation and returns a result. \n",
    "#it usually accepts inputs as parameters and returns a result. The parameters are not mandatory. A function call is the code used to pass control to a function.\n"
   ]
  },
  {
   "cell_type": "code",
   "execution_count": 9,
   "id": "d7c8893b",
   "metadata": {},
   "outputs": [],
   "source": [
    "#ques5. How many global scopes are there in a Python program? How many local scopes?"
   ]
  },
  {
   "cell_type": "code",
   "execution_count": 10,
   "id": "d16ca89c",
   "metadata": {},
   "outputs": [],
   "source": [
    "#ans5At any given time during execution, you'll have at most four active Python scopes—local, enclosing, global, and built-in—depending on where you are in the code. On the other hand, you'll always have at least two active scopes, which are the global and built-in scopes.\n"
   ]
  },
  {
   "cell_type": "code",
   "execution_count": 11,
   "id": "6d173772",
   "metadata": {},
   "outputs": [],
   "source": [
    "#q.6. What happens to variables in a local scope when the function call returns?"
   ]
  },
  {
   "cell_type": "code",
   "execution_count": 13,
   "id": "29a3a1d1",
   "metadata": {},
   "outputs": [],
   "source": [
    "#ans6When the execution of the function terminates (returns), the local variables are destroyed. Codelens helps you visualize this because the local variables disappear after the function returns.\n"
   ]
  },
  {
   "cell_type": "code",
   "execution_count": null,
   "id": "9b6937aa",
   "metadata": {},
   "outputs": [],
   "source": [
    "#q7 What is the concept of a return value? Is it possible to have a return value in an expression?"
   ]
  },
  {
   "cell_type": "code",
   "execution_count": 14,
   "id": "996d27e8",
   "metadata": {},
   "outputs": [],
   "source": [
    "#ans7  a value-returning function should include a return statement, containing an expression.\n",
    "#A return is a value that a function returns to the calling script or function when it completes its task. A return value can be any one of the four variable types: handle, integer, object, or stri"
   ]
  },
  {
   "cell_type": "code",
   "execution_count": 15,
   "id": "a2760fef",
   "metadata": {},
   "outputs": [],
   "source": [
    "#q8. If a function does not have a return statement, what is the return value of a call to that function?"
   ]
  },
  {
   "cell_type": "code",
   "execution_count": 16,
   "id": "781cf7cc",
   "metadata": {},
   "outputs": [],
   "source": [
    "#ans8 If no return statement appears in a function definition, control automatically returns to the calling function after the last statement of the called function is executed. In this case, the return value of the called function is undefined."
   ]
  },
  {
   "cell_type": "code",
   "execution_count": 17,
   "id": "f3a23728",
   "metadata": {},
   "outputs": [],
   "source": [
    "#q. 9. How do you make a function variable refer to the global variable?"
   ]
  },
  {
   "cell_type": "code",
   "execution_count": 18,
   "id": "875118d7",
   "metadata": {},
   "outputs": [],
   "source": [
    "#ans9 If you want to refer to a global variable in a function, you can use the global keyword to declare which variables are global"
   ]
  },
  {
   "cell_type": "code",
   "execution_count": 19,
   "id": "ad86c8b0",
   "metadata": {},
   "outputs": [],
   "source": [
    "#q 10. What is the data type of None?"
   ]
  },
  {
   "cell_type": "code",
   "execution_count": 20,
   "id": "d462b11f",
   "metadata": {},
   "outputs": [],
   "source": [
    "#ans10 The None keyword is used to define a null value, or no value at all. None is not the same as 0, False, or an empty string. None is a data type of its own (NoneType) and only None can be None."
   ]
  },
  {
   "cell_type": "code",
   "execution_count": 21,
   "id": "09a44303",
   "metadata": {},
   "outputs": [],
   "source": [
    "#q11 . What does the sentence import areallyourpetsnamederic do?"
   ]
  },
  {
   "cell_type": "code",
   "execution_count": 22,
   "id": "3415e16d",
   "metadata": {},
   "outputs": [],
   "source": [
    "#ans11 imports a module named areallyourpetsnamederic."
   ]
  },
  {
   "cell_type": "code",
   "execution_count": 23,
   "id": "b1ed309e",
   "metadata": {},
   "outputs": [],
   "source": [
    "#q12 . If you had a bacon() feature in a spam module, what would you call it after importing spam?"
   ]
  },
  {
   "cell_type": "code",
   "execution_count": 24,
   "id": "0ec340c1",
   "metadata": {},
   "outputs": [],
   "source": [
    "#ans 12  This function can be called with spam. bacon()."
   ]
  },
  {
   "cell_type": "code",
   "execution_count": 25,
   "id": "ab7731d7",
   "metadata": {},
   "outputs": [],
   "source": [
    "#q13 . What can you do to save a programme from crashing if it encounters an error?"
   ]
  },
  {
   "cell_type": "code",
   "execution_count": 26,
   "id": "9659f9ee",
   "metadata": {},
   "outputs": [],
   "source": [
    "#ans 13 we use try and exception handling."
   ]
  },
  {
   "cell_type": "code",
   "execution_count": 27,
   "id": "5cd9c21b",
   "metadata": {},
   "outputs": [],
   "source": [
    "#q14  What is the purpose of the try clause? What is the purpose of the except clause?"
   ]
  },
  {
   "cell_type": "code",
   "execution_count": null,
   "id": "2dfa356c",
   "metadata": {},
   "outputs": [],
   "source": [
    "#asn14 The try block lets you test a block of code for errors. The except block lets you handle the error."
   ]
  }
 ],
 "metadata": {
  "kernelspec": {
   "display_name": "Python 3 (ipykernel)",
   "language": "python",
   "name": "python3"
  },
  "language_info": {
   "codemirror_mode": {
    "name": "ipython",
    "version": 3
   },
   "file_extension": ".py",
   "mimetype": "text/x-python",
   "name": "python",
   "nbconvert_exporter": "python",
   "pygments_lexer": "ipython3",
   "version": "3.9.12"
  }
 },
 "nbformat": 4,
 "nbformat_minor": 5
}
