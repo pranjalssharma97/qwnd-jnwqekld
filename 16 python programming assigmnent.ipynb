{
 "cells": [
  {
   "cell_type": "code",
   "execution_count": null,
   "id": "323299da",
   "metadata": {},
   "outputs": [],
   "source": [
    "#Question1. Write a function that stutters a word as if someone is struggling to read it. The\n",
    "#first two letters are repeated twice with an ellipsis ... and space after each, and then the\n",
    "#word is pronounced with a question mark ?."
   ]
  },
  {
   "cell_type": "code",
   "execution_count": 2,
   "id": "4761d882",
   "metadata": {},
   "outputs": [],
   "source": [
    "def test1(a):\n",
    "    a=input(\"enter your string\")\n",
    "    c=\"?\"\n",
    "    for i in a:\n",
    "        b=a[0:2]+\"...\"+\" \"\n",
    "    print(b+b+a+c)\n",
    "        "
   ]
  },
  {
   "cell_type": "code",
   "execution_count": 6,
   "id": "2f7259ef",
   "metadata": {},
   "outputs": [
    {
     "name": "stdout",
     "output_type": "stream",
     "text": [
      "enter your stringincredible\n",
      "in... in... incredible?\n"
     ]
    }
   ],
   "source": [
    "test1(a)"
   ]
  },
  {
   "cell_type": "code",
   "execution_count": 7,
   "id": "b3402721",
   "metadata": {},
   "outputs": [],
   "source": [
    "#q2 Question 2.Create a function that takes an angle in radians and returns the corresponding\n",
    "#angle in degrees rounded to one decimal place."
   ]
  },
  {
   "cell_type": "code",
   "execution_count": 12,
   "id": "c5b33f4e",
   "metadata": {},
   "outputs": [],
   "source": [
    "def test2(a):\n",
    "    b=float(a*57.2957795)\n",
    "    print(b)"
   ]
  },
  {
   "cell_type": "code",
   "execution_count": 13,
   "id": "91f85bbe",
   "metadata": {},
   "outputs": [
    {
     "name": "stdout",
     "output_type": "stream",
     "text": [
      "1145.91559\n"
     ]
    }
   ],
   "source": [
    "test2(20)"
   ]
  },
  {
   "cell_type": "code",
   "execution_count": 14,
   "id": "f8e3f6bf",
   "metadata": {},
   "outputs": [],
   "source": [
    "#Question 3. In this challenge, establish if a given integer num is a Curzon number. If 1 plus\n",
    "#2 elevated to num is exactly divisible by 1 plus 2 multiplied by num, then num is a Curzon\n",
    "#number.\n",
    "#Given a non-negative integer num, implement a function that returns True if num is a Curzon\n",
    "#number, or False otherwise."
   ]
  },
  {
   "cell_type": "code",
   "execution_count": 20,
   "id": "ab38628c",
   "metadata": {},
   "outputs": [],
   "source": [
    "def test3(a):\n",
    "    b=2**(a)+1\n",
    "    c=2*(a)+1\n",
    "    if b%c==0:\n",
    "        print(True)\n",
    "    else:\n",
    "        print(False)"
   ]
  },
  {
   "cell_type": "code",
   "execution_count": 24,
   "id": "4a9c0825",
   "metadata": {},
   "outputs": [
    {
     "name": "stdout",
     "output_type": "stream",
     "text": [
      "True\n"
     ]
    }
   ],
   "source": [
    "test3(14)"
   ]
  },
  {
   "cell_type": "code",
   "execution_count": 25,
   "id": "c14b0e34",
   "metadata": {},
   "outputs": [],
   "source": [
    "# Question 4.Given the side length x find the area of a hexagon."
   ]
  },
  {
   "cell_type": "code",
   "execution_count": 26,
   "id": "ce28cf05",
   "metadata": {},
   "outputs": [],
   "source": [
    "def test4(a):\n",
    "    c=(3*1.73205081*a**2)/2\n",
    "    print(c)\n"
   ]
  },
  {
   "cell_type": "code",
   "execution_count": 27,
   "id": "13e1c96f",
   "metadata": {},
   "outputs": [
    {
     "name": "stdout",
     "output_type": "stream",
     "text": [
      "23.382685934999998\n"
     ]
    }
   ],
   "source": [
    "test4(3)"
   ]
  },
  {
   "cell_type": "code",
   "execution_count": 28,
   "id": "49c9ba41",
   "metadata": {},
   "outputs": [],
   "source": [
    "#q5Question 5. Create a function that returns a base-2 (binary) representation of a base-10\n",
    "#(decimal) string number. To convert is simple: ((2) means base-2 and (10) means base-10)\n",
    "##010101001(2) = 1 + 8 + 32 + 128.\n",
    "#Going from right to left, the value of the most right bit is 1, now from that every bit to the left\n",
    "#will be x2 the value, value of an 8 bit binary numbers are (256, 128, 64, 32, 16, 8, 4, 2, 1)."
   ]
  },
  {
   "cell_type": "code",
   "execution_count": 62,
   "id": "f5d2d1ed",
   "metadata": {},
   "outputs": [],
   "source": [
    "def test5(a):\n",
    "    c=0\n",
    "    l=\"\"\n",
    "    while a>0:\n",
    "        c=a%2\n",
    "        a=(a//2)\n",
    "        l=l+str(c)\n",
    "    print(l[::-1])\n",
    "\n",
    "        \n",
    "        \n",
    "        "
   ]
  },
  {
   "cell_type": "code",
   "execution_count": 63,
   "id": "88ed8b05",
   "metadata": {},
   "outputs": [
    {
     "name": "stdout",
     "output_type": "stream",
     "text": [
      "1010\n"
     ]
    }
   ],
   "source": [
    "test5(10)"
   ]
  },
  {
   "cell_type": "code",
   "execution_count": null,
   "id": "3227bcaa",
   "metadata": {},
   "outputs": [],
   "source": []
  },
  {
   "cell_type": "code",
   "execution_count": null,
   "id": "f0f5950c",
   "metadata": {},
   "outputs": [],
   "source": []
  },
  {
   "cell_type": "code",
   "execution_count": null,
   "id": "5c957ca5",
   "metadata": {},
   "outputs": [],
   "source": []
  },
  {
   "cell_type": "code",
   "execution_count": null,
   "id": "9a8f3540",
   "metadata": {},
   "outputs": [],
   "source": []
  },
  {
   "cell_type": "code",
   "execution_count": null,
   "id": "5547471a",
   "metadata": {},
   "outputs": [],
   "source": []
  },
  {
   "cell_type": "code",
   "execution_count": null,
   "id": "bc97a62f",
   "metadata": {},
   "outputs": [],
   "source": []
  },
  {
   "cell_type": "code",
   "execution_count": null,
   "id": "a566a9e2",
   "metadata": {},
   "outputs": [],
   "source": []
  },
  {
   "cell_type": "code",
   "execution_count": null,
   "id": "82876b0a",
   "metadata": {},
   "outputs": [],
   "source": []
  },
  {
   "cell_type": "code",
   "execution_count": 44,
   "id": "0e7f4003",
   "metadata": {},
   "outputs": [
    {
     "name": "stdout",
     "output_type": "stream",
     "text": [
      "1"
     ]
    }
   ],
   "source": [
    "test5()"
   ]
  },
  {
   "cell_type": "code",
   "execution_count": null,
   "id": "70fe385d",
   "metadata": {},
   "outputs": [],
   "source": []
  }
 ],
 "metadata": {
  "kernelspec": {
   "display_name": "Python 3 (ipykernel)",
   "language": "python",
   "name": "python3"
  },
  "language_info": {
   "codemirror_mode": {
    "name": "ipython",
    "version": 3
   },
   "file_extension": ".py",
   "mimetype": "text/x-python",
   "name": "python",
   "nbconvert_exporter": "python",
   "pygments_lexer": "ipython3",
   "version": "3.9.12"
  }
 },
 "nbformat": 4,
 "nbformat_minor": 5
}
