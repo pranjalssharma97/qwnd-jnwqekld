{
 "cells": [
  {
   "cell_type": "code",
   "execution_count": 1,
   "id": "9ec0f186",
   "metadata": {},
   "outputs": [],
   "source": [
    "#Question 1\n",
    "#Create a function that takes a number as an argument and returns True or False depending\n",
    "#on whether the number is symmetrical or not. A number is symmetrical when it is the same as\n",
    "# reverse."
   ]
  },
  {
   "cell_type": "code",
   "execution_count": 121,
   "id": "d4084b29",
   "metadata": {},
   "outputs": [],
   "source": [
    "def test():\n",
    "    l=[]\n",
    "    l1=[]\n",
    "    a=input(\"enter your number\")\n",
    "    l.extend(a)\n",
    "    l.reverse()\n",
    "    l1.extend(a)\n",
    "    if [l]==[l1]:\n",
    "        print(True)\n",
    "    else:\n",
    "        print(False)\n",
    "    \n",
    "        \n",
    "        \n",
    "        \n",
    "    \n",
    "    \n",
    "    \n",
    "    \n",
    "    "
   ]
  },
  {
   "cell_type": "code",
   "execution_count": 125,
   "id": "38ae034e",
   "metadata": {},
   "outputs": [
    {
     "name": "stdout",
     "output_type": "stream",
     "text": [
      "enter your number7227\n",
      "True\n"
     ]
    }
   ],
   "source": [
    "test()"
   ]
  },
  {
   "cell_type": "code",
   "execution_count": 129,
   "id": "f7b84edb",
   "metadata": {},
   "outputs": [],
   "source": [
    "#q2Given a string of numbers separated by a comma and space, return the product of the\n",
    "#numbers.\n",
    "\n",
    "\n"
   ]
  },
  {
   "cell_type": "code",
   "execution_count": 132,
   "id": "85874707",
   "metadata": {},
   "outputs": [
    {
     "name": "stdout",
     "output_type": "stream",
     "text": [
      "enter your string seperated by comma and space to get multiplication of it1234\n",
      "24\n"
     ]
    }
   ],
   "source": [
    "a=input(\"enter your string seperated by comma and space to get multiplication of it\")\n",
    "l=[]\n",
    "l.extend(a)\n",
    "a=1\n",
    "for i in l:\n",
    "    a*=int(i)\n",
    "print(a)\n",
    "    \n"
   ]
  },
  {
   "cell_type": "code",
   "execution_count": null,
   "id": "72efcc15",
   "metadata": {},
   "outputs": [],
   "source": [
    "#Question 3\n",
    "#Create a function that squares every digit of a number.\n",
    "#Examples\n",
    "#square_digits(9119) ➞ 811181\n",
    "#square_digits(2483) ➞ 416649\n",
    "#square_digits(3212) ➞ 9414"
   ]
  },
  {
   "cell_type": "code",
   "execution_count": 149,
   "id": "34e7f61d",
   "metadata": {},
   "outputs": [],
   "source": [
    "def test3():\n",
    "    a=input()\n",
    "    l=[]\n",
    "    l1=[]\n",
    "    l2=[]\n",
    "    l.extend(a)\n",
    "    a=1\n",
    "    for i in l:\n",
    "        a=int(i)**2\n",
    "        l1.append(a)\n",
    "    b=\"\"\n",
    "    for i in l1:\n",
    "        b+=str(i)\n",
    "    print(b)\n",
    "            \n",
    "            \n",
    "            \n",
    "        \n",
    "    \n",
    "    "
   ]
  },
  {
   "cell_type": "code",
   "execution_count": 150,
   "id": "70fc748e",
   "metadata": {},
   "outputs": [
    {
     "name": "stdout",
     "output_type": "stream",
     "text": [
      "123\n",
      "149\n"
     ]
    }
   ],
   "source": [
    "test3()"
   ]
  },
  {
   "cell_type": "code",
   "execution_count": null,
   "id": "1b4ca530",
   "metadata": {},
   "outputs": [],
   "source": []
  },
  {
   "cell_type": "code",
   "execution_count": 22,
   "id": "7b50e3f0",
   "metadata": {},
   "outputs": [],
   "source": [
    "#5 Create a function that returns the mean of all digits.\n",
    "#Examples\n",
    "#mean(42) ➞ 3\n",
    "#mean(12345) ➞ 3\n",
    "#mean(666) ➞ 6"
   ]
  },
  {
   "cell_type": "code",
   "execution_count": 7,
   "id": "a0b1825c",
   "metadata": {},
   "outputs": [],
   "source": [
    "def test5():\n",
    "    l=[]\n",
    "    a=(input(\"enter the digit to get mean of them\"))\n",
    "    l.extend(a)\n",
    "    a=0\n",
    "    for i in (l):\n",
    "        a+=int(i)\n",
    "    c=(a)/len(l)\n",
    "    print(c)\n",
    "        \n",
    "        \n",
    "    \n",
    "        \n",
    "    \n",
    "    \n",
    "        \n",
    "    \n",
    "    "
   ]
  },
  {
   "cell_type": "code",
   "execution_count": 12,
   "id": "dcd1e270",
   "metadata": {},
   "outputs": [
    {
     "name": "stdout",
     "output_type": "stream",
     "text": [
      "enter the digit to get mean of them42\n",
      "3.0\n"
     ]
    }
   ],
   "source": [
    "test5()"
   ]
  },
  {
   "cell_type": "markdown",
   "id": "4b7d62ab",
   "metadata": {},
   "source": [
    "#Question 4\n",
    "Create a function that sorts a list and removes all duplicate items from it.\n",
    "Examples\n",
    "setify([1, 3, 3, 5, 5]) ➞ [1, 3, 5]\n",
    "setify([4, 4, 4, 4]) ➞ [4]\n",
    "setify([5, 7, 8, 9, 10, 15]) ➞ [5, 7, 8, 9, 10, 15]\n",
    "setify([3, 3, 3, 2, 1]) ➞ [1, 2, 3]"
   ]
  },
  {
   "cell_type": "code",
   "execution_count": 156,
   "id": "78d9fdb1",
   "metadata": {},
   "outputs": [],
   "source": [
    "def test4():\n",
    "    a=(input(\"enter the list\"))\n",
    "    b= a.split(\",\")\n",
    "    l=[]\n",
    "    for i in b:\n",
    "        l.append(int(i))\n",
    "    l=set(l)\n",
    "    d=sorted(list(l))\n",
    "    \n",
    "        \n",
    "\n",
    "    \n",
    "  \n",
    "    \n",
    "    print(d)"
   ]
  },
  {
   "cell_type": "code",
   "execution_count": 158,
   "id": "585e8066",
   "metadata": {},
   "outputs": [
    {
     "name": "stdout",
     "output_type": "stream",
     "text": [
      "enter the list11,23,13,1,31,33,33,12,1,3133,3\n",
      "[1, 3, 11, 12, 13, 23, 31, 33, 3133]\n"
     ]
    }
   ],
   "source": [
    "test4()"
   ]
  },
  {
   "cell_type": "code",
   "execution_count": null,
   "id": "4748e848",
   "metadata": {},
   "outputs": [],
   "source": []
  }
 ],
 "metadata": {
  "kernelspec": {
   "display_name": "Python 3 (ipykernel)",
   "language": "python",
   "name": "python3"
  },
  "language_info": {
   "codemirror_mode": {
    "name": "ipython",
    "version": 3
   },
   "file_extension": ".py",
   "mimetype": "text/x-python",
   "name": "python",
   "nbconvert_exporter": "python",
   "pygments_lexer": "ipython3",
   "version": "3.9.12"
  }
 },
 "nbformat": 4,
 "nbformat_minor": 5
}
