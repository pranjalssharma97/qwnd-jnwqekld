{
 "cells": [
  {
   "cell_type": "code",
   "execution_count": 1,
   "id": "1447d1eb",
   "metadata": {},
   "outputs": [],
   "source": [
    "#1. What is the result of the code, and why?"
   ]
  },
  {
   "cell_type": "code",
   "execution_count": 3,
   "id": "8cc3a72e",
   "metadata": {},
   "outputs": [
    {
     "name": "stdout",
     "output_type": "stream",
     "text": [
      "1 2 8\n"
     ]
    }
   ],
   "source": [
    "def func(a,b=6,c=8):\n",
    "    print(a,b,c)\n",
    "func(1,2)\n",
    "#we have created code a , b and c and we are printing it, we have defined the value b and c as 8 globally, but locally we are overwriting the value of a and b as 1 and 2 and printing the vaue of c as 8."
   ]
  },
  {
   "cell_type": "code",
   "execution_count": 4,
   "id": "33ea02bb",
   "metadata": {},
   "outputs": [],
   "source": [
    "#2.  What is the result of this code, and why?"
   ]
  },
  {
   "cell_type": "code",
   "execution_count": 5,
   "id": "80350a23",
   "metadata": {},
   "outputs": [],
   "source": [
    "def func(a,b,c=5):\n",
    "    print(a,b,c)\n"
   ]
  },
  {
   "cell_type": "code",
   "execution_count": 7,
   "id": "afd0f178",
   "metadata": {},
   "outputs": [
    {
     "name": "stdout",
     "output_type": "stream",
     "text": [
      "1 2 3\n"
     ]
    }
   ],
   "source": [
    "func(1,c=3,b=2)#THE VALUE OF A WILL BE 1, THE VALUE OF B WILL BE 2 AND THE VALUE OF C WOLL BE 3, BECAUSE WE HAVE OVERWRITTEN IT."
   ]
  },
  {
   "cell_type": "code",
   "execution_count": 8,
   "id": "e6efb7df",
   "metadata": {},
   "outputs": [],
   "source": [
    "#3. How about this code: what is its result, and why?"
   ]
  },
  {
   "cell_type": "code",
   "execution_count": 9,
   "id": "5e4e7c73",
   "metadata": {},
   "outputs": [],
   "source": [
    "def func(a,*pargs):\n",
    "    print(a,pargs)\n",
    "    "
   ]
  },
  {
   "cell_type": "code",
   "execution_count": 11,
   "id": "35194efb",
   "metadata": {},
   "outputs": [
    {
     "name": "stdout",
     "output_type": "stream",
     "text": [
      "1 (2, 3)\n"
     ]
    }
   ],
   "source": [
    "func(1,2,3)#the value of a will be 1 according to postional argument and the value of *argument will be 2 and 3. the value will be 2 and 3 will be in tuple."
   ]
  },
  {
   "cell_type": "code",
   "execution_count": 12,
   "id": "f585666f",
   "metadata": {},
   "outputs": [],
   "source": [
    "#4. What does this code print, and why?"
   ]
  },
  {
   "cell_type": "code",
   "execution_count": 14,
   "id": "be8880ca",
   "metadata": {},
   "outputs": [],
   "source": [
    "def func(a,**kargs):\n",
    "    print(a,kargs)#**Kargs will accept the value in key value pair, and the first value will be automatically will be a."
   ]
  },
  {
   "cell_type": "code",
   "execution_count": 15,
   "id": "78edc507",
   "metadata": {},
   "outputs": [
    {
     "name": "stdout",
     "output_type": "stream",
     "text": [
      "1 {'c': 3, 'b': 2}\n"
     ]
    }
   ],
   "source": [
    "func(a=1,c=3,b=2)"
   ]
  },
  {
   "cell_type": "code",
   "execution_count": 16,
   "id": "08b57b27",
   "metadata": {},
   "outputs": [],
   "source": [
    "#5. What gets printed by this, and explain?"
   ]
  },
  {
   "cell_type": "code",
   "execution_count": 17,
   "id": "408305e6",
   "metadata": {},
   "outputs": [],
   "source": [
    "def func(a,b,c=8,d=5):\n",
    "    print(a,b,c,d)"
   ]
  },
  {
   "cell_type": "code",
   "execution_count": 18,
   "id": "b8562a89",
   "metadata": {},
   "outputs": [
    {
     "name": "stdout",
     "output_type": "stream",
     "text": [
      "1 5 6 5\n"
     ]
    }
   ],
   "source": [
    "func(1,*(5,6))#the value of *(5,6) will be treated as b=5,c=6 and the value will be d automatically."
   ]
  },
  {
   "cell_type": "code",
   "execution_count": 20,
   "id": "587486c8",
   "metadata": {},
   "outputs": [
    {
     "name": "stdout",
     "output_type": "stream",
     "text": [
      "5 6\n"
     ]
    }
   ],
   "source": [
    "print(*(5,6))#also can be understand by this method."
   ]
  },
  {
   "cell_type": "code",
   "execution_count": 21,
   "id": "dabc67f0",
   "metadata": {},
   "outputs": [],
   "source": [
    "#6.  what is the result of this, and explain?"
   ]
  },
  {
   "cell_type": "code",
   "execution_count": 37,
   "id": "b50ade8d",
   "metadata": {},
   "outputs": [],
   "source": [
    "def func(a,b,c):\n",
    "    a=2\n",
    "    b[0]='x'\n",
    "    c['a']='y'\n",
    "    "
   ]
  },
  {
   "cell_type": "code",
   "execution_count": 38,
   "id": "a4962b37",
   "metadata": {},
   "outputs": [],
   "source": [
    "l=1\n",
    "m=[1]\n",
    "n={'a':0}\n",
    "    \n",
    "func(l,m,n)"
   ]
  },
  {
   "cell_type": "code",
   "execution_count": null,
   "id": "0edd1385",
   "metadata": {},
   "outputs": [],
   "source": []
  }
 ],
 "metadata": {
  "kernelspec": {
   "display_name": "Python 3 (ipykernel)",
   "language": "python",
   "name": "python3"
  },
  "language_info": {
   "codemirror_mode": {
    "name": "ipython",
    "version": 3
   },
   "file_extension": ".py",
   "mimetype": "text/x-python",
   "name": "python",
   "nbconvert_exporter": "python",
   "pygments_lexer": "ipython3",
   "version": "3.9.12"
  }
 },
 "nbformat": 4,
 "nbformat_minor": 5
}
