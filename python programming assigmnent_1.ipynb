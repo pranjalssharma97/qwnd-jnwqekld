{
 "cells": [
  {
   "cell_type": "code",
   "execution_count": 1,
   "id": "b8c1952f",
   "metadata": {},
   "outputs": [],
   "source": [
    "#1. Write a Python program to print hello python?\n"
   ]
  },
  {
   "cell_type": "code",
   "execution_count": 2,
   "id": "5cc2caf4",
   "metadata": {},
   "outputs": [
    {
     "name": "stdout",
     "output_type": "stream",
     "text": [
      "hello pyhton\n"
     ]
    }
   ],
   "source": [
    "#1 ans\n",
    "a= \"hello pyhton\"\n",
    "print(a)"
   ]
  },
  {
   "cell_type": "code",
   "execution_count": 3,
   "id": "227afdc6",
   "metadata": {},
   "outputs": [],
   "source": [
    "#2. Write a Python program to do arithmetical operations addition and division.?"
   ]
  },
  {
   "cell_type": "code",
   "execution_count": 11,
   "id": "6bf9fc68",
   "metadata": {},
   "outputs": [
    {
     "data": {
      "text/plain": [
       "(5, 6)"
      ]
     },
     "execution_count": 11,
     "metadata": {},
     "output_type": "execute_result"
    }
   ],
   "source": [
    "#2 ans.\n",
    "b=2+3\n",
    "c=2*3\n",
    "\n",
    "b,c"
   ]
  },
  {
   "cell_type": "code",
   "execution_count": 12,
   "id": "b1277b3c",
   "metadata": {},
   "outputs": [],
   "source": [
    "#3. Write a Python program to find the area of a triangle?"
   ]
  },
  {
   "cell_type": "code",
   "execution_count": 80,
   "id": "33ae2f91",
   "metadata": {},
   "outputs": [],
   "source": [
    "#ans.3\n",
    "def test1(base,height):\n",
    "       for i in base,height:\n",
    "            i=1/2*base*height\n",
    "            return(i)\n"
   ]
  },
  {
   "cell_type": "code",
   "execution_count": 82,
   "id": "5b02ae78",
   "metadata": {},
   "outputs": [
    {
     "data": {
      "text/plain": [
       "3.0"
      ]
     },
     "execution_count": 82,
     "metadata": {},
     "output_type": "execute_result"
    }
   ],
   "source": [
    "test1(2,3)"
   ]
  },
  {
   "cell_type": "code",
   "execution_count": 83,
   "id": "b7d0585e",
   "metadata": {},
   "outputs": [],
   "source": [
    "#4. Write a Python program to swap two variables?"
   ]
  },
  {
   "cell_type": "code",
   "execution_count": 90,
   "id": "a7ef1bd2",
   "metadata": {},
   "outputs": [],
   "source": [
    "#ans4\n",
    "a=1234\n",
    "b=2323\n",
    "a,b=b,a\n"
   ]
  },
  {
   "cell_type": "code",
   "execution_count": 91,
   "id": "0b80cb1f",
   "metadata": {},
   "outputs": [
    {
     "data": {
      "text/plain": [
       "2323"
      ]
     },
     "execution_count": 91,
     "metadata": {},
     "output_type": "execute_result"
    }
   ],
   "source": [
    "a"
   ]
  },
  {
   "cell_type": "code",
   "execution_count": 92,
   "id": "fdfddbf8",
   "metadata": {},
   "outputs": [
    {
     "data": {
      "text/plain": [
       "1234"
      ]
     },
     "execution_count": 92,
     "metadata": {},
     "output_type": "execute_result"
    }
   ],
   "source": [
    "b"
   ]
  },
  {
   "cell_type": "code",
   "execution_count": 93,
   "id": "3a9c686a",
   "metadata": {},
   "outputs": [],
   "source": [
    "#5. Write a Python program to generate a random number?"
   ]
  },
  {
   "cell_type": "code",
   "execution_count": 96,
   "id": "78a4511a",
   "metadata": {},
   "outputs": [
    {
     "name": "stdout",
     "output_type": "stream",
     "text": [
      "0.955598497097219\n"
     ]
    }
   ],
   "source": [
    "import random\n",
    "num = random.random()\n",
    "print(num)"
   ]
  },
  {
   "cell_type": "code",
   "execution_count": null,
   "id": "1d79d929",
   "metadata": {},
   "outputs": [],
   "source": []
  }
 ],
 "metadata": {
  "kernelspec": {
   "display_name": "Python 3 (ipykernel)",
   "language": "python",
   "name": "python3"
  },
  "language_info": {
   "codemirror_mode": {
    "name": "ipython",
    "version": 3
   },
   "file_extension": ".py",
   "mimetype": "text/x-python",
   "name": "python",
   "nbconvert_exporter": "python",
   "pygments_lexer": "ipython3",
   "version": "3.9.12"
  }
 },
 "nbformat": 4,
 "nbformat_minor": 5
}
