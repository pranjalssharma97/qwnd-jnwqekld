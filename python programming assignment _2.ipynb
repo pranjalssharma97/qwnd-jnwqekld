{
 "cells": [
  {
   "cell_type": "code",
   "execution_count": 1,
   "id": "970b3cc1",
   "metadata": {},
   "outputs": [],
   "source": [
    "#1. Write a Python program to convert kilometers to miles?"
   ]
  },
  {
   "cell_type": "code",
   "execution_count": 8,
   "id": "778d1840",
   "metadata": {},
   "outputs": [],
   "source": [
    "#1. \n",
    "def test1(a):\n",
    "    l=[]\n",
    "    b=0.62137119*a\n",
    "    l.append(b)\n",
    "    \n",
    "    return(l)"
   ]
  },
  {
   "cell_type": "code",
   "execution_count": 9,
   "id": "366af593",
   "metadata": {},
   "outputs": [
    {
     "data": {
      "text/plain": [
       "[144.15811607999999]"
      ]
     },
     "execution_count": 9,
     "metadata": {},
     "output_type": "execute_result"
    }
   ],
   "source": [
    "test1(232)"
   ]
  },
  {
   "cell_type": "code",
   "execution_count": 11,
   "id": "12b0a18c",
   "metadata": {},
   "outputs": [],
   "source": [
    "#2.  Write a Python program to convert Celsius to Fahrenheit?"
   ]
  },
  {
   "cell_type": "code",
   "execution_count": 19,
   "id": "9eb8ef80",
   "metadata": {},
   "outputs": [],
   "source": [
    "#ans2\n",
    "def test2(c):\n",
    "    l1=[]\n",
    "    d=c*1.8+32\n",
    "    l1.append(d)\n",
    "    return(l1)"
   ]
  },
  {
   "cell_type": "code",
   "execution_count": 20,
   "id": "b68589c5",
   "metadata": {},
   "outputs": [
    {
     "data": {
      "text/plain": [
       "[53.6]"
      ]
     },
     "execution_count": 20,
     "metadata": {},
     "output_type": "execute_result"
    }
   ],
   "source": [
    "test2(12)"
   ]
  },
  {
   "cell_type": "code",
   "execution_count": 21,
   "id": "3305f1e1",
   "metadata": {},
   "outputs": [],
   "source": [
    "#3. 3. Write a Python program to display calendar?"
   ]
  },
  {
   "cell_type": "code",
   "execution_count": 28,
   "id": "1077ff99",
   "metadata": {},
   "outputs": [
    {
     "name": "stdout",
     "output_type": "stream",
     "text": [
      "   December 2022\n",
      "Mo Tu We Th Fr Sa Su\n",
      "          1  2  3  4\n",
      " 5  6  7  8  9 10 11\n",
      "12 13 14 15 16 17 18\n",
      "19 20 21 22 23 24 25\n",
      "26 27 28 29 30 31\n",
      "\n"
     ]
    }
   ],
   "source": [
    "# Program to display calendar of the given month and year\n",
    "\n",
    "\n",
    "import calendar\n",
    "\n",
    "yy = 2022  \n",
    "mm = 12   \n",
    "\n",
    "\n",
    "print(calendar.month(yy, mm))"
   ]
  },
  {
   "cell_type": "code",
   "execution_count": 29,
   "id": "7b57e5fa",
   "metadata": {},
   "outputs": [],
   "source": [
    "#4. Write a Python program to solve quadratic equation?"
   ]
  },
  {
   "cell_type": "code",
   "execution_count": 46,
   "id": "7e074472",
   "metadata": {},
   "outputs": [],
   "source": [
    "#ans.4\n",
    "def test3 (a,b,c):\n",
    "        d=(-b +(b ** 2 - 4 * a * c) ** 0.5) / (2 * a),(-b -(b ** 2 - 4 * a * c) ** 0.5)\n",
    "        return(d)"
   ]
  },
  {
   "cell_type": "code",
   "execution_count": 47,
   "id": "8b8bdace",
   "metadata": {},
   "outputs": [
    {
     "data": {
      "text/plain": [
       "((-0.0833333333333333+0.4930066485916347j),\n",
       " (-2.000000000000001-11.832159566199232j))"
      ]
     },
     "execution_count": 47,
     "metadata": {},
     "output_type": "execute_result"
    }
   ],
   "source": [
    "test3(12,2,3)"
   ]
  },
  {
   "cell_type": "code",
   "execution_count": 48,
   "id": "bb8ebf34",
   "metadata": {},
   "outputs": [],
   "source": [
    "#5 . Write a Python program to swap two variables without temp variable?"
   ]
  },
  {
   "cell_type": "code",
   "execution_count": 51,
   "id": "18904247",
   "metadata": {},
   "outputs": [],
   "source": [
    " a=\"sudh\"\n",
    " b=\"pranjal\"\n",
    "a,b=b,a"
   ]
  },
  {
   "cell_type": "code",
   "execution_count": 52,
   "id": "77d9f4ac",
   "metadata": {},
   "outputs": [
    {
     "data": {
      "text/plain": [
       "'pranjal'"
      ]
     },
     "execution_count": 52,
     "metadata": {},
     "output_type": "execute_result"
    }
   ],
   "source": [
    "a"
   ]
  },
  {
   "cell_type": "code",
   "execution_count": 53,
   "id": "ee82d1fc",
   "metadata": {},
   "outputs": [
    {
     "data": {
      "text/plain": [
       "'sudh'"
      ]
     },
     "execution_count": 53,
     "metadata": {},
     "output_type": "execute_result"
    }
   ],
   "source": [
    "b"
   ]
  },
  {
   "cell_type": "code",
   "execution_count": null,
   "id": "3730c31b",
   "metadata": {},
   "outputs": [],
   "source": []
  }
 ],
 "metadata": {
  "kernelspec": {
   "display_name": "Python 3 (ipykernel)",
   "language": "python",
   "name": "python3"
  },
  "language_info": {
   "codemirror_mode": {
    "name": "ipython",
    "version": 3
   },
   "file_extension": ".py",
   "mimetype": "text/x-python",
   "name": "python",
   "nbconvert_exporter": "python",
   "pygments_lexer": "ipython3",
   "version": "3.9.12"
  }
 },
 "nbformat": 4,
 "nbformat_minor": 5
}
