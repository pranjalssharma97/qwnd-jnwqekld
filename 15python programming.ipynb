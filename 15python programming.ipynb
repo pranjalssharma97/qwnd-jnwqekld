{
 "cells": [
  {
   "cell_type": "code",
   "execution_count": 1,
   "id": "2d729cd5",
   "metadata": {},
   "outputs": [],
   "source": [
    "#Question 1:\n",
    "#Please write a program using generator to print the numbers which can be divisible by 5 and\n",
    "#7 between 0 and n in comma separated form while n is input by console."
   ]
  },
  {
   "cell_type": "code",
   "execution_count": 38,
   "id": "c9fcf7de",
   "metadata": {},
   "outputs": [],
   "source": [
    "def test1():\n",
    "    a=int(input(\"enter your number\"))\n",
    "    \n",
    "    for i in range(0,a):\n",
    "         if (i%5)==0 and (i%7)==0:\n",
    "            yield(i)\n"
   ]
  },
  {
   "cell_type": "code",
   "execution_count": 39,
   "id": "c5e26bfb",
   "metadata": {},
   "outputs": [
    {
     "name": "stdout",
     "output_type": "stream",
     "text": [
      "enter your number100\n",
      "0\n",
      "35\n",
      "70\n"
     ]
    }
   ],
   "source": [
    "for i in test1():\n",
    "    print(i)"
   ]
  },
  {
   "cell_type": "code",
   "execution_count": 34,
   "id": "dbbb7575",
   "metadata": {},
   "outputs": [],
   "source": [
    "#q2 Question 2:\n",
    "#Please write a program using generator to print the even numbers between 0 and n in comma\n",
    "#separated form while n is input by console."
   ]
  },
  {
   "cell_type": "code",
   "execution_count": 52,
   "id": "3f104875",
   "metadata": {},
   "outputs": [],
   "source": [
    "#ans2 \n",
    "def test2():\n",
    "    a=int(input())\n",
    "    for i in range(0,a+1):\n",
    "        if (i)%2==0:\n",
    "            yield(i)\n",
    "    \n",
    "        "
   ]
  },
  {
   "cell_type": "code",
   "execution_count": 53,
   "id": "44d7ad5e",
   "metadata": {},
   "outputs": [
    {
     "name": "stdout",
     "output_type": "stream",
     "text": [
      "10\n",
      "0\n",
      "2\n",
      "4\n",
      "6\n",
      "8\n",
      "10\n"
     ]
    }
   ],
   "source": [
    "for i in test2():\n",
    "    print(i)"
   ]
  },
  {
   "cell_type": "code",
   "execution_count": 54,
   "id": "f1602ce7",
   "metadata": {},
   "outputs": [],
   "source": [
    "#q3 Question 3:\n",
    "#The Fibonacci Sequence is computed based on the following formula:\n",
    "#f(n)=0 if n=0\n",
    "#f(n)=1 if n=1\n",
    "#f(n)=f(n-1)+f(n-2) if n&gt;1\n",
    "#Please write a program using list comprehension to print the Fibonacci Sequence in comma\n",
    "#separated form with a given n input by console."
   ]
  },
  {
   "cell_type": "code",
   "execution_count": null,
   "id": "3f17d600",
   "metadata": {},
   "outputs": [],
   "source": [
    "n=int(input())\n",
    "a=1\n",
    "b=1\n",
    "[print (a,i)  for i in  range(n)  (a,b)==(b,a+b)]"
   ]
  },
  {
   "cell_type": "code",
   "execution_count": 32,
   "id": "430b8341",
   "metadata": {},
   "outputs": [],
   "source": [
    "#q4 Question 4:\n",
    "#Assuming that we have some email addresses in the &quot;username@companyname.com&quot; format,\n",
    "#please write program to print the user name of a given email address. Both user names and\n",
    "#company names are composed of letters only.\n",
    "#Example:\n",
    "#If the following email address is given as input to the program:\n",
    "#john@google.com\n",
    "#Then, the output of the program should be:\n",
    "#john"
   ]
  },
  {
   "cell_type": "code",
   "execution_count": 75,
   "id": "c4d4c640",
   "metadata": {},
   "outputs": [
    {
     "name": "stdout",
     "output_type": "stream",
     "text": [
      "enter your email idjohn@google.com\n",
      "john"
     ]
    }
   ],
   "source": [
    "a=input(\"enter your email id\")\n",
    "for i in a:\n",
    "    if i==\"@\":\n",
    "        break\n",
    "    print(i,end=\"\")\n",
    "    \n",
    "    "
   ]
  },
  {
   "cell_type": "code",
   "execution_count": 76,
   "id": "09bf0682",
   "metadata": {},
   "outputs": [],
   "source": [
    "#q5 Define a class named Shape and its subclass Square. The Square class has an init function\n",
    "#which takes a length as argument. Both classes have a area function which can print the area\n",
    "#of the shape where Shape&#39;s area is 0 by default."
   ]
  },
  {
   "cell_type": "code",
   "execution_count": 24,
   "id": "464a3a61",
   "metadata": {},
   "outputs": [],
   "source": [
    "class shape:\n",
    "    def area(self):\n",
    "        self.a=0\n",
    "        print(\"the area is\",self.a)\n",
    "        \n",
    "\n",
    "\n",
    "\n",
    "\n",
    "class square:\n",
    "    def __init__(self,*a):\n",
    "        self.a=a\n",
    "    def area(self):\n",
    "        print(\"area of the shape\")"
   ]
  },
  {
   "cell_type": "code",
   "execution_count": 9,
   "id": "4d173d3c",
   "metadata": {},
   "outputs": [],
   "source": [
    "v=shape()"
   ]
  },
  {
   "cell_type": "code",
   "execution_count": 12,
   "id": "ff73c81a",
   "metadata": {},
   "outputs": [
    {
     "name": "stdout",
     "output_type": "stream",
     "text": [
      "the area is 0\n"
     ]
    }
   ],
   "source": [
    "v.area()"
   ]
  },
  {
   "cell_type": "code",
   "execution_count": 18,
   "id": "6cb10de1",
   "metadata": {},
   "outputs": [],
   "source": [
    "u=square()"
   ]
  },
  {
   "cell_type": "code",
   "execution_count": 23,
   "id": "7af993e5",
   "metadata": {},
   "outputs": [
    {
     "name": "stdout",
     "output_type": "stream",
     "text": [
      "area of the shape\n"
     ]
    }
   ],
   "source": [
    "u.area(1)"
   ]
  },
  {
   "cell_type": "code",
   "execution_count": null,
   "id": "cf0b0307",
   "metadata": {},
   "outputs": [],
   "source": []
  }
 ],
 "metadata": {
  "kernelspec": {
   "display_name": "Python 3 (ipykernel)",
   "language": "python",
   "name": "python3"
  },
  "language_info": {
   "codemirror_mode": {
    "name": "ipython",
    "version": 3
   },
   "file_extension": ".py",
   "mimetype": "text/x-python",
   "name": "python",
   "nbconvert_exporter": "python",
   "pygments_lexer": "ipython3",
   "version": "3.9.12"
  }
 },
 "nbformat": 4,
 "nbformat_minor": 5
}
