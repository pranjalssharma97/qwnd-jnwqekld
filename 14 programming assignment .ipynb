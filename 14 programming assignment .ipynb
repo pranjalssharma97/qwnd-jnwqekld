{
 "cells": [
  {
   "cell_type": "code",
   "execution_count": 1,
   "id": "268e8b07",
   "metadata": {},
   "outputs": [],
   "source": [
    "#Question 1:\n",
    "#Define a class with a generator which can iterate the numbers, which are divisible by\n",
    "#7, between a given range 0 and n."
   ]
  },
  {
   "cell_type": "code",
   "execution_count": 50,
   "id": "498dd086",
   "metadata": {},
   "outputs": [],
   "source": [
    "class itereators:\n",
    "    def __init__(self,a):\n",
    "        self.a=a\n",
    "        \n",
    "    def no_divisible(self,a):\n",
    "        for i in range(1,a+1):\n",
    "            if i%7==0:\n",
    "                yield(i)"
   ]
  },
  {
   "cell_type": "code",
   "execution_count": 51,
   "id": "e9604ec5",
   "metadata": {},
   "outputs": [],
   "source": [
    "u=itereators(1)"
   ]
  },
  {
   "cell_type": "code",
   "execution_count": 55,
   "id": "b3948708",
   "metadata": {},
   "outputs": [],
   "source": [
    "b=u.no_divisible(20)"
   ]
  },
  {
   "cell_type": "code",
   "execution_count": 56,
   "id": "4488764d",
   "metadata": {},
   "outputs": [
    {
     "data": {
      "text/plain": [
       "7"
      ]
     },
     "execution_count": 56,
     "metadata": {},
     "output_type": "execute_result"
    }
   ],
   "source": [
    "next(b)"
   ]
  },
  {
   "cell_type": "code",
   "execution_count": 57,
   "id": "8712b8be",
   "metadata": {},
   "outputs": [
    {
     "data": {
      "text/plain": [
       "14"
      ]
     },
     "execution_count": 57,
     "metadata": {},
     "output_type": "execute_result"
    }
   ],
   "source": [
    "next(b)"
   ]
  },
  {
   "cell_type": "code",
   "execution_count": 59,
   "id": "40f36335",
   "metadata": {},
   "outputs": [],
   "source": [
    "#q2 Question 2:\n",
    "#Write a program to compute the frequency of the words from the input. The output\n",
    "#should output after sorting the key alphanumerically.\n",
    "#Suppose the following input is supplied to the program:\n",
    "#New to Python or choosing between Python 2 and Python 3? Read Python 2 or\n",
    "#Python 3.\n",
    "#Then, the output should be:\n",
    "#2:2\n",
    "#3.:1\n",
    "#3?:1\n",
    "#New:1\n",
    "#Python:5\n",
    "#Read:1\n",
    "#and:1\n",
    "#between:1\n",
    "#choosing:1\n",
    "#or:2\n",
    "#to:1"
   ]
  },
  {
   "cell_type": "code",
   "execution_count": 142,
   "id": "a6e632c1",
   "metadata": {},
   "outputs": [],
   "source": [
    "#ans2\n",
    "def frequency(input):\n",
    "    freq = {}\n",
    "\n",
    "    for word in input.split():\n",
    "        freq[word] = freq.get(word, 0) + 1\n",
    "\n",
    "    words = list(freq.keys())\n",
    "    words.sort()\n",
    "\n",
    "    for w in words:\n",
    "        print(f'{w}:{freq[w]}')\n",
    "\n",
    "\n",
    "\n"
   ]
  },
  {
   "cell_type": "code",
   "execution_count": 61,
   "id": "1b01034a",
   "metadata": {},
   "outputs": [],
   "source": [
    "#q3 Question 3:\n",
    "\n",
    "#Define a class Person and its two child classes: Male and Female. All classes have a\n",
    "#method &quot;getGender&quot; which can print &quot;Male&quot; for Male class and &quot;Female&quot; for Female\n",
    "#class."
   ]
  },
  {
   "cell_type": "code",
   "execution_count": 92,
   "id": "9541b746",
   "metadata": {},
   "outputs": [],
   "source": [
    "class person():\n",
    "    def getgender(self):\n",
    "        print(\"gender\")\n",
    "    \n",
    "        \n",
    "        \n",
    "class male(person):\n",
    "    def getgender(self):\n",
    "        print(\"male\")\n",
    "    \n",
    "    \n",
    "    \n",
    "class feamle(person):\n",
    "    def getgender(self):\n",
    "        print(\"female\")"
   ]
  },
  {
   "cell_type": "code",
   "execution_count": 93,
   "id": "19a5c39e",
   "metadata": {},
   "outputs": [],
   "source": [
    "v=person()"
   ]
  },
  {
   "cell_type": "code",
   "execution_count": 94,
   "id": "c913f565",
   "metadata": {},
   "outputs": [
    {
     "name": "stdout",
     "output_type": "stream",
     "text": [
      "gender\n"
     ]
    }
   ],
   "source": [
    "v.getgender()"
   ]
  },
  {
   "cell_type": "code",
   "execution_count": 95,
   "id": "411395e6",
   "metadata": {},
   "outputs": [],
   "source": [
    "u=male()"
   ]
  },
  {
   "cell_type": "code",
   "execution_count": 96,
   "id": "ed493e1e",
   "metadata": {},
   "outputs": [
    {
     "name": "stdout",
     "output_type": "stream",
     "text": [
      "male\n"
     ]
    }
   ],
   "source": [
    "u.getgender()"
   ]
  },
  {
   "cell_type": "code",
   "execution_count": 130,
   "id": "39dbdfb8",
   "metadata": {},
   "outputs": [],
   "source": [
    "#q5Question 5:\n",
    "##Please write a program to generate all sentences where subject is in [&quot;I&quot;, &quot;You&quot;] and\n",
    "#verb is in [&quot;Play&quot;, &quot;Love&quot;] and the object is in [&quot;Hockey&quot;,&quot;Football&quot;]."
   ]
  },
  {
   "cell_type": "code",
   "execution_count": 131,
   "id": "58158a28",
   "metadata": {},
   "outputs": [
    {
     "name": "stdout",
     "output_type": "stream",
     "text": [
      "hello world!hello world!hello world!hello world!\n"
     ]
    }
   ],
   "source": [
    "import zlib\n",
    "\n",
    "a = \"hello world!hello world!hello world!hello world!\"\n",
    "a = zlib.compress(a.encode())\n",
    "print(zlib.decompress(a).decode()) "
   ]
  },
  {
   "cell_type": "code",
   "execution_count": 103,
   "id": "ab315580",
   "metadata": {},
   "outputs": [],
   "source": [
    "#q6:\n",
    "#Please write a binary search function which searches an item in a sorted list. The\n",
    "#function should return the index of element to be searched in the list."
   ]
  },
  {
   "cell_type": "code",
   "execution_count": 116,
   "id": "6a0006b8",
   "metadata": {},
   "outputs": [],
   "source": [
    "l1=[1313,1,23,23,3,1,23]"
   ]
  },
  {
   "cell_type": "code",
   "execution_count": 129,
   "id": "36770fee",
   "metadata": {},
   "outputs": [
    {
     "name": "stdout",
     "output_type": "stream",
     "text": [
      "1\n",
      "1\n"
     ]
    }
   ],
   "source": [
    "b=sorted(l1)\n",
    "n=int(input())\n",
    "l=0\n",
    "u=len(b)-1\n",
    "while l<=u:\n",
    "    mid=(l+u)//2\n",
    "    if b[mid]==n:\n",
    "        print(mid)\n",
    "        break\n",
    "    else:\n",
    "        if b[mid]<n:\n",
    "            b=mid\n",
    "        else:\n",
    "            u=mid\n",
    "        \n",
    "        "
   ]
  },
  {
   "cell_type": "code",
   "execution_count": 132,
   "id": "e1554432",
   "metadata": {},
   "outputs": [],
   "source": [
    "#Question 4:\n",
    "#Please write a program to generate all sentences where subject is in [&quot;I&quot;, &quot;You&quot;] and\n",
    "#verb is in [&quot;Play&quot;, &quot;Love&quot;] and the object is in [&quot;Hockey&quot;,&quot;Football&quot;]."
   ]
  },
  {
   "cell_type": "code",
   "execution_count": 134,
   "id": "4da4c2ff",
   "metadata": {},
   "outputs": [
    {
     "name": "stdout",
     "output_type": "stream",
     "text": [
      "i play hockey\n",
      "i play football\n",
      "i love hockey\n",
      "i love football\n",
      "you play hockey\n",
      "you play football\n",
      "you love hockey\n",
      "you love football\n"
     ]
    }
   ],
   "source": [
    "subject=[\"i\",\"you\"]\n",
    "verb=[\"play\",\"love\"]\n",
    "obbject=[\"hockey\",\"football\"]\n",
    "for i in subject:\n",
    "    for j in verb:\n",
    "        for s in obbject:\n",
    "            print(i,j,s)\n"
   ]
  },
  {
   "cell_type": "code",
   "execution_count": null,
   "id": "c946feeb",
   "metadata": {},
   "outputs": [],
   "source": []
  }
 ],
 "metadata": {
  "kernelspec": {
   "display_name": "Python 3 (ipykernel)",
   "language": "python",
   "name": "python3"
  },
  "language_info": {
   "codemirror_mode": {
    "name": "ipython",
    "version": 3
   },
   "file_extension": ".py",
   "mimetype": "text/x-python",
   "name": "python",
   "nbconvert_exporter": "python",
   "pygments_lexer": "ipython3",
   "version": "3.9.12"
  }
 },
 "nbformat": 4,
 "nbformat_minor": 5
}
