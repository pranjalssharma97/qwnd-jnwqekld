{
 "cells": [
  {
   "cell_type": "markdown",
   "id": "2a7331cf",
   "metadata": {},
   "source": [
    "1. Write a Python program to reverse a string without using any built-in string reversal functions.\n",
    "2. Implement a function to check if a given string is a palindrome.\n",
    "3. Write a program to find the largest element in a given list.\n",
    "4. Implement a function to count the occurrence of each element in a list.\n",
    "5. Write a Python program to find the second largest number in a list.\n",
    "6. Implement a function to remove duplicate elements from a list.\n",
    "7. Write a program to calculate the factorial of a given number.\n",
    "8. Implement a function to check if a given number is prime.\n",
    "9. Write a Python program to sort a list of integers in ascending order.\n",
    "10. Implement a function to find the sum of all numbers in a list.\n",
    "11. Write a program to find the common elements between two lists.\n",
    "12. Implement a function to check if a given string is an anagram of another string.\n",
    "13. Write a Python program to generate all permutations of a given string.\n",
    "14. Implement a function to calculate the Fibonacci sequence up to a given number of terms.\n",
    "15. Write a program to find the median of a list of numbers.\n",
    "16. Implement a function to check if a given list is sorted in non-decreasing order.\n",
    "17. Write a Python program to find the intersection of two lists.\n",
    "18. Implement a function to find the maximum subarray sum in a given list.\n",
    "19. Write a program to remove all vowels from a given string.\n",
    "20. Implement a function to reverse the order of words in a given sentence.\n",
    "21. Write a Python program to check if two strings are anagrams of each other.\n",
    "22. Implement a function to find the first non-repeating character in a string.\n",
    "23. Write a program to find the prime factors of a given number.\n",
    "24. Implement a function to check if a given number is a power of two.\n",
    "25. Write a Python program to merge two sorted lists into a single sorted list.\n",
    "26. Implement a function to find the mode of a list of numbers.\n",
    "27. Write a program to find the greatest common divisor (GCD) of two numbers.\n",
    "28. Implement a function to calculate the square root of a given number.\n",
    "29. Write a Python program to check if a given string is a valid palindrome ignoring non-alphanumeric characters.\n",
    "30. Implement a function to find the minimum element in a rotated sorted list.\n",
    "31. Write a program to find the sum of all even numbers in a list.\n",
    "32. Implement a function to calculate the power of a number using recursion.\n",
    "33. Write a Python program to remove duplicates from a list while preserving the order.\n",
    "34. Implement a function to find the longest common prefix among a list of strings.\n",
    "35. Write a program to check if a given number is a perfect square.\n",
    "36. Implement a function to calculate the product of all elements in a list.\n",
    "37. Write a Python program to reverse the order of words in a sentence while preserving the word order.\n",
    "38. Implement a function to find the missing number in a given list of consecutive numbers.\n",
    "39. Write a program to find the sum of digits of a given number.\n",
    "40. Implement a function to check if a given string is a valid palindrome considering case sensitivity.\n",
    "41. Write a Python program to find the smallest missing positive integer in a list.\n",
    "42. Implement a function to find the longest palindrome substring in a given string.\n",
    "43. Write a program to find the number of occurrences of a given element in a list.\n",
    "44. Implement a function to check if a given number is a perfect number.\n",
    "45. Write a Python program to remove all duplicates from a string.\n",
    "46. Implement a function to find the first missing positive\n",
    "\n"
   ]
  },
  {
   "cell_type": "code",
   "execution_count": 1,
   "id": "dc96e665",
   "metadata": {},
   "outputs": [
    {
     "name": "stdout",
     "output_type": "stream",
     "text": [
      "!dlroW ,olleH\n"
     ]
    }
   ],
   "source": [
    "#ans1\n",
    "def reverse_string(string):\n",
    "    reversed_string = \"\"\n",
    "    for i in range(len(string) - 1, -1, -1):\n",
    "        reversed_string += string[i]\n",
    "    return reversed_string\n",
    "\n",
    "\n",
    "print(reverse_string(\"Hello, World!\"))  # Output: \"!dlroW ,olleH\"\n"
   ]
  },
  {
   "cell_type": "code",
   "execution_count": 2,
   "id": "39897737",
   "metadata": {},
   "outputs": [
    {
     "name": "stdout",
     "output_type": "stream",
     "text": [
      "True\n",
      "False\n"
     ]
    }
   ],
   "source": [
    "#ans2 \n",
    "def is_palindrome(string):\n",
    "    reversed_string = reverse_string(string)\n",
    "    return string == reversed_string\n",
    "\n",
    "print(is_palindrome(\"racecar\"))  # Output: True\n",
    "print(is_palindrome(\"hello\"))    # Output: False\n"
   ]
  },
  {
   "cell_type": "code",
   "execution_count": 3,
   "id": "d6b287f2",
   "metadata": {},
   "outputs": [
    {
     "name": "stdout",
     "output_type": "stream",
     "text": [
      "9\n"
     ]
    }
   ],
   "source": [
    "#asn3\n",
    "def find_largest_element(lst):\n",
    "    largest = lst[0]\n",
    "    for num in lst:\n",
    "        if num > largest:\n",
    "            largest = num\n",
    "    return largest\n",
    "\n",
    "print(find_largest_element([4, 9, 2, 7, 5]))  \n"
   ]
  },
  {
   "cell_type": "code",
   "execution_count": 4,
   "id": "489227fc",
   "metadata": {},
   "outputs": [
    {
     "name": "stdout",
     "output_type": "stream",
     "text": [
      "{1: 2, 2: 2, 3: 3, 4: 1}\n"
     ]
    }
   ],
   "source": [
    "#ans 4\n",
    "def count_occurrences(lst):\n",
    "    occurrence_count = {}\n",
    "    for item in lst:\n",
    "        occurrence_count[item] = occurrence_count.get(item, 0) + 1\n",
    "    return occurrence_count\n",
    "\n",
    "\n",
    "print(count_occurrences([1, 2, 3, 2, 1, 3, 3, 4]))  \n"
   ]
  },
  {
   "cell_type": "code",
   "execution_count": 5,
   "id": "6c482e63",
   "metadata": {},
   "outputs": [
    {
     "name": "stdout",
     "output_type": "stream",
     "text": [
      "7\n"
     ]
    }
   ],
   "source": [
    "#ans 5\n",
    "def find_second_largest(lst):\n",
    "    largest = lst[0]\n",
    "    second_largest = float('-inf')\n",
    "    for num in lst:\n",
    "        if num > largest:\n",
    "            second_largest = largest\n",
    "            largest = num\n",
    "        elif num > second_largest and num != largest:\n",
    "            second_largest = num\n",
    "    return second_largest\n",
    "\n",
    "\n",
    "print(find_second_largest([4, 9, 2, 7, 5]))  \n"
   ]
  },
  {
   "cell_type": "code",
   "execution_count": 6,
   "id": "8a0ba78c",
   "metadata": {},
   "outputs": [
    {
     "name": "stdout",
     "output_type": "stream",
     "text": [
      "[1, 2, 3, 4]\n"
     ]
    }
   ],
   "source": [
    "#asn6\n",
    "def remove_duplicates(lst):\n",
    "    return list(set(lst))\n",
    "\n",
    "\n",
    "print(remove_duplicates([1, 2, 3, 2, 1, 3, 3, 4]))  # Output: [1, 2, 3, 4]\n"
   ]
  },
  {
   "cell_type": "code",
   "execution_count": 7,
   "id": "49f6bd05",
   "metadata": {},
   "outputs": [
    {
     "name": "stdout",
     "output_type": "stream",
     "text": [
      "120\n"
     ]
    }
   ],
   "source": [
    "#ans 7\n",
    "def factorial(n):\n",
    "    if n == 0:\n",
    "        return 1\n",
    "    else:\n",
    "        return n * factorial(n - 1)\n",
    "\n",
    "\n",
    "print(factorial(5))  # Output: 120\n"
   ]
  },
  {
   "cell_type": "code",
   "execution_count": 8,
   "id": "d5943a88",
   "metadata": {},
   "outputs": [
    {
     "name": "stdout",
     "output_type": "stream",
     "text": [
      "True\n",
      "False\n"
     ]
    }
   ],
   "source": [
    "#ans 8\n",
    "def is_prime(n):\n",
    "    if n < 2:\n",
    "        return False\n",
    "    for i in range(2, int(n ** 0.5) + 1):\n",
    "        if n % i == 0:\n",
    "            return False\n",
    "    return True\n",
    "\n",
    "# Example usage:\n",
    "print(is_prime(17))  \n",
    "print(is_prime(25))  \n"
   ]
  },
  {
   "cell_type": "code",
   "execution_count": 9,
   "id": "ef27a3dc",
   "metadata": {},
   "outputs": [
    {
     "name": "stdout",
     "output_type": "stream",
     "text": [
      "[1, 2, 4, 5, 7]\n"
     ]
    }
   ],
   "source": [
    "#ans 9\n",
    "def sort_list(lst):\n",
    "    return sorted(lst)\n",
    "\n",
    "\n",
    "print(sort_list([4, 2, 7, 1, 5]))  \n"
   ]
  },
  {
   "cell_type": "code",
   "execution_count": 10,
   "id": "7de7ca90",
   "metadata": {},
   "outputs": [
    {
     "name": "stdout",
     "output_type": "stream",
     "text": [
      "15\n"
     ]
    }
   ],
   "source": [
    "#ans 10\n",
    "def find_sum(lst):\n",
    "    return sum(lst)\n",
    "\n",
    "\n",
    "print(find_sum([1, 2, 3, 4, 5]))  \n"
   ]
  },
  {
   "cell_type": "code",
   "execution_count": 11,
   "id": "4f1ae76c",
   "metadata": {},
   "outputs": [
    {
     "name": "stdout",
     "output_type": "stream",
     "text": [
      "[3, 4]\n"
     ]
    }
   ],
   "source": [
    "#ans11\n",
    "def find_common_elements(lst1, lst2):\n",
    "    return list(set(lst1) & set(lst2))\n",
    "\n",
    "\n",
    "print(find_common_elements([1, 2, 3, 4], [3, 4, 5, 6]))  # Output: [3, 4]\n"
   ]
  },
  {
   "cell_type": "code",
   "execution_count": 12,
   "id": "cae70125",
   "metadata": {},
   "outputs": [
    {
     "name": "stdout",
     "output_type": "stream",
     "text": [
      "True\n",
      "False\n"
     ]
    }
   ],
   "source": [
    "#ans 12\n",
    "def is_anagram(str1, str2):\n",
    "    return sorted(str1) == sorted(str2)\n",
    "\n",
    "\n",
    "print(is_anagram(\"listen\", \"silent\"))  \n",
    "print(is_anagram(\"hello\", \"world\"))    \n"
   ]
  },
  {
   "cell_type": "code",
   "execution_count": 13,
   "id": "1705599b",
   "metadata": {},
   "outputs": [
    {
     "name": "stdout",
     "output_type": "stream",
     "text": [
      "['abc', 'acb', 'bac', 'bca', 'cab', 'cba']\n"
     ]
    }
   ],
   "source": [
    "#ans 13\n",
    "def generate_permutations(string):\n",
    "    if len(string) == 1:\n",
    "        return [string]\n",
    "    permutations = []\n",
    "    for i in range(len(string)):\n",
    "        char = string[i]\n",
    "        remaining_chars = string[:i] + string[i+1:]\n",
    "        for perm in generate_permutations(remaining_chars):\n",
    "            permutations.append(char + perm)\n",
    "    return permutations\n",
    "\n",
    "\n",
    "print(generate_permutations(\"abc\"))  \n"
   ]
  },
  {
   "cell_type": "code",
   "execution_count": 14,
   "id": "111ed9eb",
   "metadata": {},
   "outputs": [
    {
     "name": "stdout",
     "output_type": "stream",
     "text": [
      "[0, 1, 1, 2, 3, 5, 8, 13, 21, 34]\n"
     ]
    }
   ],
   "source": [
    "#ans 14\n",
    "def fibonacci_sequence(n):\n",
    "    sequence = [0, 1]\n",
    "    for i in range(2, n):\n",
    "        sequence.append(sequence[i-1] + sequence[i-2])\n",
    "    return sequence\n",
    "\n",
    "\n",
    "print(fibonacci_sequence(10))  \n"
   ]
  },
  {
   "cell_type": "code",
   "execution_count": 15,
   "id": "0d129fbf",
   "metadata": {},
   "outputs": [
    {
     "name": "stdout",
     "output_type": "stream",
     "text": [
      "3\n"
     ]
    }
   ],
   "source": [
    "#ans 15\n",
    "def find_median(lst):\n",
    "    sorted_list = sorted(lst)\n",
    "    length = len(sorted_list)\n",
    "    if length % 2 == 0:\n",
    "        mid1 = sorted_list[length // 2 - 1]\n",
    "        mid2 = sorted_list[length // 2]\n",
    "        median = (mid1 + mid2) / 2\n",
    "    else:\n",
    "        median = sorted_list[length // 2]\n",
    "    return median\n",
    "\n",
    "\n",
    "print(find_median([1, 3, 5, 2, 4]))  \n"
   ]
  },
  {
   "cell_type": "code",
   "execution_count": 16,
   "id": "71fdde89",
   "metadata": {},
   "outputs": [
    {
     "name": "stdout",
     "output_type": "stream",
     "text": [
      "True\n",
      "False\n"
     ]
    }
   ],
   "source": [
    "#ans 16\n",
    "def is_sorted(lst):\n",
    "    return all(lst[i] <= lst[i+1] for i in range(len(lst)-1))\n",
    "\n",
    "\n",
    "print(is_sorted([1, 2, 3, 4, 5]))   \n",
    "print(is_sorted([4, 2, 7, 1, 5]))   "
   ]
  },
  {
   "cell_type": "code",
   "execution_count": 17,
   "id": "ac7e2776",
   "metadata": {},
   "outputs": [
    {
     "name": "stdout",
     "output_type": "stream",
     "text": [
      "[3, 4]\n"
     ]
    }
   ],
   "source": [
    "#ans 17\n",
    "def find_intersection(lst1, lst2):\n",
    "    return list(set(lst1) & set(lst2))\n",
    "\n",
    "\n",
    "print(find_intersection([1, 2, 3, 4], [3, 4, 5, 6]))  "
   ]
  },
  {
   "cell_type": "code",
   "execution_count": 18,
   "id": "30575f94",
   "metadata": {},
   "outputs": [
    {
     "name": "stdout",
     "output_type": "stream",
     "text": [
      "6\n"
     ]
    }
   ],
   "source": [
    "#ans 18\n",
    "def find_max_subarray_sum(lst):\n",
    "    max_sum = float('-inf')\n",
    "    current_sum = 0\n",
    "    for num in lst:\n",
    "        current_sum = max(num, current_sum + num)\n",
    "        max_sum = max(max_sum, current_sum)\n",
    "    return max_sum\n",
    "\n",
    "\n",
    "print(find_max_subarray_sum([-2, 1, -3, 4, -1, 2, 1, -5, 4]))  \n"
   ]
  },
  {
   "cell_type": "code",
   "execution_count": 19,
   "id": "8b81e64c",
   "metadata": {},
   "outputs": [
    {
     "name": "stdout",
     "output_type": "stream",
     "text": [
      "Hll, Wrld!\n"
     ]
    }
   ],
   "source": [
    "#ans19\n",
    "def remove_vowels(string):\n",
    "    vowels = ['a', 'e', 'i', 'o', 'u']\n",
    "    return ''.join(char for char in string if char.lower() not in vowels)\n",
    "\n",
    "# Example usage:\n",
    "print(remove_vowels(\"Hello, World!\"))  "
   ]
  },
  {
   "cell_type": "code",
   "execution_count": 20,
   "id": "f8555c8e",
   "metadata": {},
   "outputs": [
    {
     "name": "stdout",
     "output_type": "stream",
     "text": [
      "World! Hello,\n"
     ]
    }
   ],
   "source": [
    "#ans 20\n",
    "def reverse_sentence(sentence):\n",
    "    words = sentence.split()\n",
    "    reversed_words = words[::-1]\n",
    "    return ' '.join(reversed_words)\n",
    "\n",
    "print(reverse_sentence(\"Hello, World!\"))  \n"
   ]
  },
  {
   "cell_type": "code",
   "execution_count": 21,
   "id": "bb2d790f",
   "metadata": {},
   "outputs": [
    {
     "name": "stdout",
     "output_type": "stream",
     "text": [
      "True\n",
      "False\n"
     ]
    }
   ],
   "source": [
    "#ans 21\n",
    "def are_anagrams(str1, str2):\n",
    "    return sorted(str1) == sorted(str2)\n",
    "\n",
    "# Example usage:\n",
    "print(are_anagrams(\"listen\", \"silent\"))  \n",
    "print(are_anagrams(\"hello\", \"world\"))    \n"
   ]
  },
  {
   "cell_type": "code",
   "execution_count": 22,
   "id": "88205d66",
   "metadata": {},
   "outputs": [
    {
     "name": "stdout",
     "output_type": "stream",
     "text": [
      "c\n"
     ]
    }
   ],
   "source": [
    "#ans 22\n",
    "def find_first_non_repeating_char(string):\n",
    "    char_count = {}\n",
    "    for char in string:\n",
    "        char_count[char] = char_count.get(char, 0) + 1\n",
    "    for char in string:\n",
    "        if char_count[char] == 1:\n",
    "            return char\n",
    "    return None\n",
    "\n",
    "\n",
    "print(find_first_non_repeating_char(\"aabbcdd\")) "
   ]
  },
  {
   "cell_type": "code",
   "execution_count": 23,
   "id": "260c24ca",
   "metadata": {},
   "outputs": [
    {
     "name": "stdout",
     "output_type": "stream",
     "text": [
      "[2, 2, 3, 7]\n"
     ]
    }
   ],
   "source": [
    "#ans 23\n",
    "def find_prime_factors(n):\n",
    "    factors = []\n",
    "    i = 2\n",
    "    while i <= n:\n",
    "        if n % i == 0:\n",
    "            factors.append(i)\n",
    "            n //= i\n",
    "        else:\n",
    "            i += 1\n",
    "    return factors\n",
    "\n",
    "\n",
    "print(find_prime_factors(84))  "
   ]
  },
  {
   "cell_type": "code",
   "execution_count": 24,
   "id": "51cc18d0",
   "metadata": {},
   "outputs": [
    {
     "name": "stdout",
     "output_type": "stream",
     "text": [
      "True\n",
      "False\n"
     ]
    }
   ],
   "source": [
    "#ans 24\n",
    "def is_power_of_two(n):\n",
    "    if n <= 0:\n",
    "        return False\n",
    "    while n % 2 == 0:\n",
    "        n //= 2\n",
    "    return n == 1\n",
    "\n",
    "# Example usage:\n",
    "print(is_power_of_two(16))  \n",
    "print(is_power_of_two(12))  \n"
   ]
  },
  {
   "cell_type": "code",
   "execution_count": 25,
   "id": "4134f283",
   "metadata": {},
   "outputs": [
    {
     "name": "stdout",
     "output_type": "stream",
     "text": [
      "[1, 2, 3, 4, 5, 6]\n"
     ]
    }
   ],
   "source": [
    "#ans 25\n",
    "def merge_sorted_lists(lst1, lst2):\n",
    "    merged = []\n",
    "    i = 0\n",
    "    j = 0\n",
    "    while i < len(lst1) and j < len(lst2):\n",
    "        if lst1[i] < lst2[j]:\n",
    "            merged.append(lst1[i])\n",
    "            i += 1\n",
    "        else:\n",
    "            merged.append(lst2[j])\n",
    "            j += 1\n",
    "    merged.extend(lst1[i:])\n",
    "    merged.extend(lst2[j:])\n",
    "    return merged\n",
    "\n",
    "\n",
    "print(merge_sorted_lists([1, 3, 5], [2, 4, 6]))  \n"
   ]
  },
  {
   "cell_type": "code",
   "execution_count": 26,
   "id": "20841742",
   "metadata": {},
   "outputs": [
    {
     "name": "stdout",
     "output_type": "stream",
     "text": [
      "[3]\n"
     ]
    }
   ],
   "source": [
    "#ans 26\n",
    "from collections import Counter\n",
    "\n",
    "def find_mode(lst):\n",
    "    counter = Counter(lst)\n",
    "    max_count = max(counter.values())\n",
    "    modes = [num for num, count in counter.items() if count == max_count]\n",
    "    return modes\n",
    "\n",
    "\n",
    "print(find_mode([1, 2, 3, 2, 1, 3, 3, 4])) \n"
   ]
  },
  {
   "cell_type": "code",
   "execution_count": 27,
   "id": "0acf52a3",
   "metadata": {},
   "outputs": [
    {
     "name": "stdout",
     "output_type": "stream",
     "text": [
      "12\n"
     ]
    }
   ],
   "source": [
    "#ans 27\n",
    "def find_gcd(a, b):\n",
    "    while b != 0:\n",
    "        a, b = b, a % b\n",
    "    return a\n",
    "\n",
    "print(find_gcd(24, 36))  "
   ]
  },
  {
   "cell_type": "code",
   "execution_count": 28,
   "id": "71039126",
   "metadata": {},
   "outputs": [
    {
     "name": "stdout",
     "output_type": "stream",
     "text": [
      "4.0\n"
     ]
    }
   ],
   "source": [
    "#ans 28\n",
    "def calculate_square_root(n):\n",
    "    if n < 0:\n",
    "        raise ValueError(\"Square root is not defined for negative numbers\")\n",
    "    guess = n\n",
    "    while True:\n",
    "        next_guess = 0.5 * (guess + n / guess)\n",
    "        if abs(guess - next_guess) < 1e-9:\n",
    "            return next_guess\n",
    "        guess = next_guess\n",
    "\n",
    "\n",
    "print(calculate_square_root(16))  \n"
   ]
  },
  {
   "cell_type": "code",
   "execution_count": 29,
   "id": "8d433394",
   "metadata": {},
   "outputs": [
    {
     "name": "stdout",
     "output_type": "stream",
     "text": [
      "True\n",
      "False\n"
     ]
    }
   ],
   "source": [
    "#ans 29\n",
    "import re\n",
    "\n",
    "def is_valid_palindrome(string):\n",
    "    alphanumeric_string = re.sub(r'[^a-zA-Z0-9]', '', string.lower())\n",
    "    return alphanumeric_string == alphanumeric_string[::-1]\n",
    "\n",
    "\n",
    "print(is_valid_palindrome(\"A man, a plan, a canal: Panama\"))  \n",
    "print(is_valid_palindrome(\"race a car\"))                     "
   ]
  },
  {
   "cell_type": "code",
   "execution_count": 30,
   "id": "eb26a05c",
   "metadata": {},
   "outputs": [
    {
     "name": "stdout",
     "output_type": "stream",
     "text": [
      "0\n"
     ]
    }
   ],
   "source": [
    "#ans 30\n",
    "def find_min_in_rotated_list(lst):\n",
    "    left = 0\n",
    "    right = len(lst) - 1\n",
    "    while left < right:\n",
    "        mid = (left + right) // 2\n",
    "        if lst[mid] > lst[right]:\n",
    "            left = mid + 1\n",
    "        else:\n",
    "            right = mid\n",
    "    return lst[left]\n",
    "\n",
    "\n",
    "print(find_min_in_rotated_list([4, 5, 6, 7, 0, 1, 2]))"
   ]
  },
  {
   "cell_type": "code",
   "execution_count": 31,
   "id": "ca6f11cf",
   "metadata": {},
   "outputs": [
    {
     "name": "stdout",
     "output_type": "stream",
     "text": [
      "12\n"
     ]
    }
   ],
   "source": [
    "#ans31\n",
    "def find_sum_of_evens(lst):\n",
    "    return sum(num for num in lst if num % 2 == 0)\n",
    "\n",
    "\n",
    "print(find_sum_of_evens([1, 2, 3, 4, 5, 6])) "
   ]
  },
  {
   "cell_type": "code",
   "execution_count": 32,
   "id": "cc425e14",
   "metadata": {},
   "outputs": [
    {
     "name": "stdout",
     "output_type": "stream",
     "text": [
      "32\n"
     ]
    }
   ],
   "source": [
    "#ans 32\n",
    "def calculate_power(base, exponent):\n",
    "    if exponent == 0:\n",
    "        return 1\n",
    "    if exponent < 0:\n",
    "        return 1 / calculate_power(base, -exponent)\n",
    "    if exponent % 2 == 0:\n",
    "        half_power = calculate_power(base, exponent // 2)\n",
    "        return half_power * half_power\n",
    "    else:\n",
    "        return base * calculate_power(base, exponent - 1)\n",
    "\n",
    "\n",
    "print(calculate_power(2, 5)) "
   ]
  },
  {
   "cell_type": "code",
   "execution_count": 33,
   "id": "3486c229",
   "metadata": {},
   "outputs": [
    {
     "name": "stdout",
     "output_type": "stream",
     "text": [
      "[1, 2, 3, 4]\n"
     ]
    }
   ],
   "source": [
    "#ans 33\n",
    "def remove_duplicates_preserve_order(lst):\n",
    "    seen = set()\n",
    "    return [x for x in lst if not (x in seen or seen.add(x))]\n",
    "\n",
    "print(remove_duplicates_preserve_order([1, 2, 3, 2, 1, 3, 3, 4]))  "
   ]
  },
  {
   "cell_type": "code",
   "execution_count": 34,
   "id": "dc373857",
   "metadata": {},
   "outputs": [
    {
     "name": "stdout",
     "output_type": "stream",
     "text": [
      "fl\n"
     ]
    }
   ],
   "source": [
    "#ans 34\n",
    "def find_longest_common_prefix(strings):\n",
    "    if not strings:\n",
    "        return \"\"\n",
    "    shortest = min(strings, key=len)\n",
    "    for i, char in enumerate(shortest):\n",
    "        for string in strings:\n",
    "            if string[i] != char:\n",
    "                return shortest[:i]\n",
    "    return shortest\n",
    "\n",
    "\n",
    "print(find_longest_common_prefix([\"flower\", \"flow\", \"flight\"]))  \n",
    "\n"
   ]
  },
  {
   "cell_type": "code",
   "execution_count": 35,
   "id": "5358196e",
   "metadata": {},
   "outputs": [
    {
     "name": "stdout",
     "output_type": "stream",
     "text": [
      "True\n",
      "False\n"
     ]
    }
   ],
   "source": [
    "#ans 35\n",
    "def is_perfect_square(n):\n",
    "    if n < 0:\n",
    "        return False\n",
    "    root = int(n ** 0.5)\n",
    "    return root * root == n\n",
    "\n",
    "\n",
    "print(is_perfect_square(16))  \n",
    "print(is_perfect_square(17))  \n"
   ]
  },
  {
   "cell_type": "code",
   "execution_count": 36,
   "id": "a1afa2ba",
   "metadata": {},
   "outputs": [
    {
     "name": "stdout",
     "output_type": "stream",
     "text": [
      "120\n"
     ]
    }
   ],
   "source": [
    "#ans 36\n",
    "def calculate_product(lst):\n",
    "    product = 1\n",
    "    for num in lst:\n",
    "        product *= num\n",
    "    return product\n",
    "\n",
    "\n",
    "print(calculate_product([1, 2, 3, 4, 5]))  \n"
   ]
  },
  {
   "cell_type": "code",
   "execution_count": 37,
   "id": "5e08f0e4",
   "metadata": {},
   "outputs": [
    {
     "name": "stdout",
     "output_type": "stream",
     "text": [
      "World! Hello,\n"
     ]
    }
   ],
   "source": [
    "#ans 37\n",
    "def reverse_sentence_preserve_order(sentence):\n",
    "    words = sentence.split()\n",
    "    reversed_words = words[::-1]\n",
    "    reversed_sentence = []\n",
    "    for word in words:\n",
    "        reversed_sentence.append(reversed_words.pop(0))\n",
    "    return ' '.join(reversed_sentence)\n",
    "\n",
    "\n",
    "print(reverse_sentence_preserve_order(\"Hello, World!\")) "
   ]
  },
  {
   "cell_type": "code",
   "execution_count": 38,
   "id": "f5ab478e",
   "metadata": {},
   "outputs": [
    {
     "name": "stdout",
     "output_type": "stream",
     "text": [
      "4\n"
     ]
    }
   ],
   "source": [
    "#ans 38\n",
    "def find_missing_number(lst):\n",
    "    n = len(lst) + 1\n",
    "    total_sum = n * (n + 1) // 2\n",
    "    list_sum = sum(lst)\n",
    "    return total_sum - list_sum\n",
    "\n",
    "print(find_missing_number([1, 2, 3, 5]))  "
   ]
  },
  {
   "cell_type": "code",
   "execution_count": 39,
   "id": "8ddbe0ab",
   "metadata": {},
   "outputs": [
    {
     "name": "stdout",
     "output_type": "stream",
     "text": [
      "15\n"
     ]
    }
   ],
   "source": [
    "#ans 39\n",
    "def find_digit_sum(n):\n",
    "    digit_sum = 0\n",
    "    while n > 0:\n",
    "        digit_sum += n % 10\n",
    "        n //= 10\n",
    "    return digit_sum\n",
    "\n",
    "\n",
    "print(find_digit_sum(12345))  \n"
   ]
  },
  {
   "cell_type": "code",
   "execution_count": 40,
   "id": "2aa77e51",
   "metadata": {},
   "outputs": [
    {
     "name": "stdout",
     "output_type": "stream",
     "text": [
      "True\n",
      "False\n"
     ]
    }
   ],
   "source": [
    "#ans 40\n",
    "def is_valid_palindrome_case_sensitive(string):\n",
    "    return string == string[::-1]\n",
    "\n",
    "\n",
    "print(is_valid_palindrome_case_sensitive(\"level\"))  \n",
    "print(is_valid_palindrome_case_sensitive(\"Hello\")) \n"
   ]
  },
  {
   "cell_type": "code",
   "execution_count": 41,
   "id": "2cab6385",
   "metadata": {},
   "outputs": [
    {
     "name": "stdout",
     "output_type": "stream",
     "text": [
      "5\n"
     ]
    }
   ],
   "source": [
    "#ans 41\n",
    "def find_smallest_missing_positive(lst):\n",
    "    if not lst:\n",
    "        return 1\n",
    "    lst_set = set(lst)\n",
    "    max_num = max(lst)\n",
    "    for i in range(1, max_num + 2):\n",
    "        if i not in lst_set:\n",
    "            return i\n",
    "\n",
    "\n",
    "print(find_smallest_missing_positive([1, 3, 6, 4, 1, 2]))  "
   ]
  },
  {
   "cell_type": "code",
   "execution_count": 42,
   "id": "ab3dcbe4",
   "metadata": {},
   "outputs": [
    {
     "name": "stdout",
     "output_type": "stream",
     "text": [
      "bab\n"
     ]
    }
   ],
   "source": [
    "#ans 42\n",
    "def find_longest_palindrome_substring(string):\n",
    "    if len(string) < 2:\n",
    "        return string\n",
    "    longest = \"\"\n",
    "    for i in range(len(string)):\n",
    "        odd_palindrome = expand_from_center(string, i, i)\n",
    "        even_palindrome = expand_from_center(string, i, i + 1)\n",
    "        longest = max(longest, odd_palindrome, even_palindrome, key=len)\n",
    "    return longest\n",
    "\n",
    "def expand_from_center(string, left, right):\n",
    "    while left >= 0 and right < len(string) and string[left] == string[right]:\n",
    "        left -= 1\n",
    "        right += 1\n",
    "    return string[left + 1: right]\n",
    "\n",
    "\n",
    "print(find_longest_palindrome_substring(\"babad\")) \n"
   ]
  },
  {
   "cell_type": "code",
   "execution_count": 43,
   "id": "6491a528",
   "metadata": {},
   "outputs": [
    {
     "name": "stdout",
     "output_type": "stream",
     "text": [
      "3\n"
     ]
    }
   ],
   "source": [
    "#ans 43\n",
    "def count_occurrences(lst, element):\n",
    "    return lst.count(element)\n",
    "\n",
    "\n",
    "print(count_occurrences([1, 2, 3, 2, 1, 3, 3, 4], 3))  \n"
   ]
  },
  {
   "cell_type": "code",
   "execution_count": 44,
   "id": "b87ab678",
   "metadata": {},
   "outputs": [
    {
     "name": "stdout",
     "output_type": "stream",
     "text": [
      "True\n",
      "False\n"
     ]
    }
   ],
   "source": [
    "#ans 44\n",
    "def is_perfect_number(n):\n",
    "    if n < 2:\n",
    "        return False\n",
    "    divisors = [1]\n",
    "    for i in range(2, int(n ** 0.5) + 1):\n",
    "        if n % i == 0:\n",
    "            divisors.append(i)\n",
    "            divisors.append(n // i)\n",
    "    return sum(divisors) == n\n",
    "\n",
    "print(is_perfect_number(28))  \n",
    "print(is_perfect_number(12))  \n",
    "\n"
   ]
  },
  {
   "cell_type": "code",
   "execution_count": 45,
   "id": "b0f7c18d",
   "metadata": {},
   "outputs": [
    {
     "name": "stdout",
     "output_type": "stream",
     "text": [
      "oe! W,drlH\n"
     ]
    }
   ],
   "source": [
    "#ans 45\n",
    "def remove_duplicates_from_string(string):\n",
    "    return ''.join(set(string))\n",
    "\n",
    "\n",
    "print(remove_duplicates_from_string(\"Hello, World!\"))  \n"
   ]
  },
  {
   "cell_type": "code",
   "execution_count": 46,
   "id": "8f1b32f1",
   "metadata": {},
   "outputs": [
    {
     "name": "stdout",
     "output_type": "stream",
     "text": [
      "4\n"
     ]
    }
   ],
   "source": [
    "#ans 46\n",
    "def find_first_missing_positive(lst):\n",
    "    for i in range(1, len(lst) + 2):\n",
    "        if i not in lst:\n",
    "            return i\n",
    "\n",
    "# Example usage:\n",
    "print(find_first_missing_positive([1, 2, 3, 5]))  "
   ]
  },
  {
   "cell_type": "code",
   "execution_count": null,
   "id": "ac7d0e52",
   "metadata": {},
   "outputs": [],
   "source": []
  }
 ],
 "metadata": {
  "kernelspec": {
   "display_name": "Python 3 (ipykernel)",
   "language": "python",
   "name": "python3"
  },
  "language_info": {
   "codemirror_mode": {
    "name": "ipython",
    "version": 3
   },
   "file_extension": ".py",
   "mimetype": "text/x-python",
   "name": "python",
   "nbconvert_exporter": "python",
   "pygments_lexer": "ipython3",
   "version": "3.10.9"
  }
 },
 "nbformat": 4,
 "nbformat_minor": 5
}
