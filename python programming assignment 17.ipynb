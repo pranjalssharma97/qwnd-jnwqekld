{
 "cells": [
  {
   "cell_type": "code",
   "execution_count": 1,
   "id": "72cc6854",
   "metadata": {},
   "outputs": [],
   "source": [
    "#Question2. Create a function that returns True if a given inequality expression is correct and\n",
    "#False otherwise."
   ]
  },
  {
   "cell_type": "code",
   "execution_count": 4,
   "id": "7741d513",
   "metadata": {},
   "outputs": [],
   "source": [
    "def test1(*a):\n",
    "    return(a)"
   ]
  },
  {
   "cell_type": "code",
   "execution_count": 8,
   "id": "ba73873e",
   "metadata": {},
   "outputs": [
    {
     "data": {
      "text/plain": [
       "(True,)"
      ]
     },
     "execution_count": 8,
     "metadata": {},
     "output_type": "execute_result"
    }
   ],
   "source": [
    "test1(11>7>3)"
   ]
  },
  {
   "cell_type": "code",
   "execution_count": 9,
   "id": "937ce612",
   "metadata": {},
   "outputs": [],
   "source": [
    "#q1Question1. Create a function that takes three arguments a, b, c and returns the sum of the\n",
    "#numbers that are evenly divided by c from the range a, b inclusive."
   ]
  },
  {
   "cell_type": "code",
   "execution_count": 107,
   "id": "0b1a8f79",
   "metadata": {},
   "outputs": [],
   "source": [
    "def test2(a,b,c):\n",
    "    l=[]\n",
    "    for i in range(a,b+1):\n",
    "        z=0\n",
    "        if i%(c)==0:\n",
    "            l.append(i)\n",
    "    z=0\n",
    "    for i in l:\n",
    "        z+=i\n",
    "    print(z)\n",
    "        \n",
    "            "
   ]
  },
  {
   "cell_type": "code",
   "execution_count": 110,
   "id": "46d2e016",
   "metadata": {},
   "outputs": [
    {
     "name": "stdout",
     "output_type": "stream",
     "text": [
      "18\n"
     ]
    }
   ],
   "source": [
    "test2(1,10,3)"
   ]
  },
  {
   "cell_type": "code",
   "execution_count": 111,
   "id": "3146cf26",
   "metadata": {},
   "outputs": [],
   "source": [
    "#Question3. Create a function that replaces all the vowels in a string with a specified character."
   ]
  },
  {
   "cell_type": "code",
   "execution_count": 84,
   "id": "39e448d4",
   "metadata": {},
   "outputs": [],
   "source": [
    "def test3():\n",
    "    a=input(\"enter your string\")\n",
    "    b=\"aeiou\"\n",
    "    for i in a:\n",
    "        if i in b:\n",
    "            print(\"*\",end=\"\")\n",
    "        else:\n",
    "            print(i,end=\"\")\n",
    "            \n",
    "            \n",
    "            \n",
    "        "
   ]
  },
  {
   "cell_type": "code",
   "execution_count": 85,
   "id": "4321c7df",
   "metadata": {},
   "outputs": [
    {
     "name": "stdout",
     "output_type": "stream",
     "text": [
      "enter your stringminnie mouse\n",
      "m*nn** m**s*"
     ]
    }
   ],
   "source": [
    "test3()"
   ]
  },
  {
   "cell_type": "code",
   "execution_count": 57,
   "id": "49dcd9c1",
   "metadata": {},
   "outputs": [],
   "source": [
    "#Question4. Write a function that calculates the factorial of a number recursively.\n",
    "#Examples\n",
    "#factorial(5) ➞ 120\n",
    "#factorial(3) ➞ 6\n",
    "#factorial(1) ➞ 1\n",
    "#factorial(0) ➞ 1"
   ]
  },
  {
   "cell_type": "code",
   "execution_count": 65,
   "id": "260b3a1e",
   "metadata": {},
   "outputs": [],
   "source": [
    "def test4(a):\n",
    "    b=1\n",
    "    for i in range(1,a+1):\n",
    "        b*=i\n",
    "        i=i+1\n",
    "    print(b)"
   ]
  },
  {
   "cell_type": "code",
   "execution_count": 66,
   "id": "725d42e5",
   "metadata": {},
   "outputs": [
    {
     "name": "stdout",
     "output_type": "stream",
     "text": [
      "120\n"
     ]
    }
   ],
   "source": [
    "test4(5)"
   ]
  },
  {
   "cell_type": "code",
   "execution_count": 67,
   "id": "afc7c3ee",
   "metadata": {},
   "outputs": [],
   "source": [
    "#Question 5\n",
    "##Hamming distance is the number of characters that differ between two strings.\n",
    "#To illustrate:\n",
    "#String1: &quot;abcbba&quot;\n",
    "#String2: &quot;abcbda&quot;\n",
    "#Hamming Distance: 1 - &quot;b&quot; vs. &quot;d&quot; is the only difference.\n",
    "#Create a function that computes the hamming distance between two strings."
   ]
  },
  {
   "cell_type": "code",
   "execution_count": 83,
   "id": "a2227b59",
   "metadata": {},
   "outputs": [
    {
     "name": "stdout",
     "output_type": "stream",
     "text": [
      "5.0\n"
     ]
    }
   ],
   "source": [
    "\n",
    "from scipy.spatial.distance import hamming\n",
    "\n",
    "string1 = 'abcde'\n",
    "string2 = 'bcdef'\n",
    "\n",
    "hamming_distance = hamming(list(string1), list(string2)) * len(string1)\n",
    "\n",
    "print(hamming_distance)\n",
    "\n"
   ]
  },
  {
   "cell_type": "code",
   "execution_count": null,
   "id": "a220a893",
   "metadata": {},
   "outputs": [],
   "source": []
  }
 ],
 "metadata": {
  "kernelspec": {
   "display_name": "Python 3 (ipykernel)",
   "language": "python",
   "name": "python3"
  },
  "language_info": {
   "codemirror_mode": {
    "name": "ipython",
    "version": 3
   },
   "file_extension": ".py",
   "mimetype": "text/x-python",
   "name": "python",
   "nbconvert_exporter": "python",
   "pygments_lexer": "ipython3",
   "version": "3.9.12"
  }
 },
 "nbformat": 4,
 "nbformat_minor": 5
}
