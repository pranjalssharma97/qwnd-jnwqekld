{
 "cells": [
  {
   "cell_type": "code",
   "execution_count": 1,
   "id": "4bbf8131",
   "metadata": {},
   "outputs": [],
   "source": [
    "#1. Write a Python program to find sum of elements in list?"
   ]
  },
  {
   "cell_type": "code",
   "execution_count": 19,
   "id": "21c27190",
   "metadata": {},
   "outputs": [
    {
     "name": "stdout",
     "output_type": "stream",
     "text": [
      "[2, 4, 6, 8]\n"
     ]
    }
   ],
   "source": [
    "\n",
    "l=[1,2,3,4]\n",
    "l1=[]\n",
    "for i in l:\n",
    "    i=i+i\n",
    "    l1.append(i)\n",
    "print(l1)\n",
    "             \n",
    "                \n"
   ]
  },
  {
   "cell_type": "code",
   "execution_count": 3,
   "id": "151b24ce",
   "metadata": {},
   "outputs": [],
   "source": [
    "#2. Write a Python program to Multiply all numbers in the list?\n"
   ]
  },
  {
   "cell_type": "code",
   "execution_count": 243,
   "id": "2c8f4c83",
   "metadata": {},
   "outputs": [],
   "source": [
    "l=[11,23,23,2]\n",
    "l1=[]\n",
    "for i in l:\n",
    "    a=1\n",
    "    i=0\n",
    "    while i<len(l):\n",
    "        a*=l[i]\n",
    "        i=i+1\n",
    "        if i==len(l):\n",
    "            break\n",
    "l1.append (a)\n"
   ]
  },
  {
   "cell_type": "code",
   "execution_count": 245,
   "id": "a1e79b3d",
   "metadata": {},
   "outputs": [
    {
     "data": {
      "text/plain": [
       "[11638]"
      ]
     },
     "execution_count": 245,
     "metadata": {},
     "output_type": "execute_result"
    }
   ],
   "source": [
    "l1"
   ]
  },
  {
   "cell_type": "code",
   "execution_count": 43,
   "id": "59e9f959",
   "metadata": {},
   "outputs": [],
   "source": [
    "#3. Write a Python program to find smallest number in a list?"
   ]
  },
  {
   "cell_type": "code",
   "execution_count": 71,
   "id": "f843828e",
   "metadata": {},
   "outputs": [
    {
     "name": "stdout",
     "output_type": "stream",
     "text": [
      "1\n"
     ]
    }
   ],
   "source": [
    "l=[111,332,1221222,3233442,3,121323,213223,2,1.97,12223,1,313,12,3,4,2324,23,422222,3,12,3]\n",
    "print(min(l))"
   ]
  },
  {
   "cell_type": "code",
   "execution_count": 72,
   "id": "75cdae7c",
   "metadata": {},
   "outputs": [],
   "source": [
    "#4. Write a Python program to find largest number in a list?\n"
   ]
  },
  {
   "cell_type": "code",
   "execution_count": 94,
   "id": "085d31bb",
   "metadata": {},
   "outputs": [
    {
     "name": "stdout",
     "output_type": "stream",
     "text": [
      "3233442\n"
     ]
    }
   ],
   "source": [
    "#4\n",
    "l=[111,332,1221222,3233442,3,121323,213223,2,1.97,12223,1,313,12,3,4,2324,23,422222,3,12,3]\n",
    "print(max(l))\n"
   ]
  },
  {
   "cell_type": "code",
   "execution_count": 76,
   "id": "00af395f",
   "metadata": {},
   "outputs": [],
   "source": [
    "#5. Write a Python program to find second largest number in a list?"
   ]
  },
  {
   "cell_type": "code",
   "execution_count": 124,
   "id": "5c1ed2fe",
   "metadata": {},
   "outputs": [
    {
     "name": "stdout",
     "output_type": "stream",
     "text": [
      "4\n",
      "4\n",
      "4\n",
      "4\n"
     ]
    }
   ],
   "source": [
    "#5\n",
    "l=[1,2,3,4,5]\n",
    "l.remove(max(l))\n",
    "for i in l:\n",
    "    print(max(l))"
   ]
  },
  {
   "cell_type": "code",
   "execution_count": 248,
   "id": "8c7645ca",
   "metadata": {},
   "outputs": [],
   "source": [
    "#6. Write a Python program to find N largest elements from a list?\n"
   ]
  },
  {
   "cell_type": "markdown",
   "id": "dcb960a7",
   "metadata": {},
   "source": [
    "# "
   ]
  },
  {
   "cell_type": "code",
   "execution_count": 260,
   "id": "2b524bc6",
   "metadata": {},
   "outputs": [
    {
     "name": "stdout",
     "output_type": "stream",
     "text": [
      "[6, 7, 8]\n"
     ]
    }
   ],
   "source": [
    "l=[1,2,3,4,5,6,7,8]\n",
    "\n",
    "n = 3\n",
    " \n",
    "l.sort()\n",
    "print(l[-n:])\n",
    " \n"
   ]
  },
  {
   "cell_type": "code",
   "execution_count": 126,
   "id": "ebb27396",
   "metadata": {},
   "outputs": [],
   "source": [
    "#7. Write a Python program to print even numbers in a list?"
   ]
  },
  {
   "cell_type": "code",
   "execution_count": 136,
   "id": "74cabcdb",
   "metadata": {},
   "outputs": [
    {
     "name": "stdout",
     "output_type": "stream",
     "text": [
      "2\n",
      "2\n",
      "12\n",
      "22\n",
      "100\n",
      "1212\n",
      "22\n",
      "2\n",
      "0\n"
     ]
    }
   ],
   "source": [
    "l=[111,2,2,12,22,100,1212,213,22,333,1,2,123,0]\n",
    "for i in l:\n",
    "    if i%2==0 or i==0:\n",
    "        print(i)\n"
   ]
  },
  {
   "cell_type": "code",
   "execution_count": null,
   "id": "f2c74311",
   "metadata": {},
   "outputs": [],
   "source": [
    "#8. Write a Python program to print odd numbers in a List?"
   ]
  },
  {
   "cell_type": "code",
   "execution_count": 138,
   "id": "ac30911f",
   "metadata": {},
   "outputs": [
    {
     "name": "stdout",
     "output_type": "stream",
     "text": [
      "111\n",
      "213\n",
      "333\n",
      "1\n",
      "123\n"
     ]
    }
   ],
   "source": [
    "l=[111,2,2,12,22,100,1212,213,22,333,1,2,123,0]\n",
    "for i in l:\n",
    "    if i%2!=0 or i==1:\n",
    "        print(i)\n"
   ]
  },
  {
   "cell_type": "code",
   "execution_count": 139,
   "id": "f3427f8b",
   "metadata": {},
   "outputs": [],
   "source": [
    "#9.  Write a Python program to Remove empty List from List?"
   ]
  },
  {
   "cell_type": "code",
   "execution_count": 247,
   "id": "82ca60cd",
   "metadata": {},
   "outputs": [
    {
     "data": {
      "text/plain": [
       "[112, 'abs', 1212, (1, 2, 3), 23223, [1, 2, 3, 4]]"
      ]
     },
     "execution_count": 247,
     "metadata": {},
     "output_type": "execute_result"
    }
   ],
   "source": [
    "l=[112,\"abs\",1212,(1,2,3),[],23223,[1,2,3,4]]\n",
    "l.remove([])\n",
    "l    \n",
    "         \n",
    "    "
   ]
  },
  {
   "cell_type": "code",
   "execution_count": 167,
   "id": "fe4a58ce",
   "metadata": {},
   "outputs": [],
   "source": [
    "#10. Write a Python program to Cloning or Copying a list?"
   ]
  },
  {
   "cell_type": "code",
   "execution_count": 170,
   "id": "e6273fc2",
   "metadata": {},
   "outputs": [
    {
     "data": {
      "text/plain": [
       "[[1, 2, 2, 21, 2, 2, 12, 2, 2, 1, 'weqw', 'ed3e']]"
      ]
     },
     "execution_count": 170,
     "metadata": {},
     "output_type": "execute_result"
    }
   ],
   "source": [
    "l=[1,2,2,21,2,2,12,2,2,1,\"weqw\",\"ed3e\"]\n",
    "l1=[]\n",
    "l1.append(l)\n",
    "l1"
   ]
  },
  {
   "cell_type": "code",
   "execution_count": 171,
   "id": "090861e2",
   "metadata": {},
   "outputs": [],
   "source": [
    "#11. Write a Python program to Count occurrences of an element in a list?"
   ]
  },
  {
   "cell_type": "code",
   "execution_count": 177,
   "id": "10aa1b88",
   "metadata": {},
   "outputs": [
    {
     "data": {
      "text/plain": [
       "5"
      ]
     },
     "execution_count": 177,
     "metadata": {},
     "output_type": "execute_result"
    }
   ],
   "source": [
    "l=[1,2,2,2,2,3,2,12,21,\"sudh\",\"deded\",\"pranjal\",[1,2,3,3]]      #counting occurence for 2\n",
    "l.count(2)"
   ]
  }
 ],
 "metadata": {
  "kernelspec": {
   "display_name": "Python 3 (ipykernel)",
   "language": "python",
   "name": "python3"
  },
  "language_info": {
   "codemirror_mode": {
    "name": "ipython",
    "version": 3
   },
   "file_extension": ".py",
   "mimetype": "text/x-python",
   "name": "python",
   "nbconvert_exporter": "python",
   "pygments_lexer": "ipython3",
   "version": "3.9.12"
  }
 },
 "nbformat": 4,
 "nbformat_minor": 5
}
