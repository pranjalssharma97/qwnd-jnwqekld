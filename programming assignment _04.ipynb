{
 "cells": [
  {
   "cell_type": "markdown",
   "id": "6c6993a0",
   "metadata": {},
   "source": [
    "1. Write a Python Program to Find the Factorial of a Number?"
   ]
  },
  {
   "cell_type": "code",
   "execution_count": 31,
   "id": "8f862f9b",
   "metadata": {},
   "outputs": [],
   "source": [
    "def test1(n):\n",
    "    \n",
    "            if n==0:\n",
    "                print(\"the factorial of zero is 1\")\n",
    "            elif n==1:\n",
    "                print(\"the factorail of one is 1\")\n",
    "            elif n>1:\n",
    "                fact=1\n",
    "                while n>1:\n",
    "                    fact*=n\n",
    "                    n-=1\n",
    "                return fact"
   ]
  },
  {
   "cell_type": "code",
   "execution_count": 35,
   "id": "77c62072",
   "metadata": {},
   "outputs": [
    {
     "data": {
      "text/plain": [
       "720"
      ]
     },
     "execution_count": 35,
     "metadata": {},
     "output_type": "execute_result"
    }
   ],
   "source": [
    "test1(6)"
   ]
  },
  {
   "cell_type": "code",
   "execution_count": null,
   "id": "fc736523",
   "metadata": {},
   "outputs": [],
   "source": [
    "#2. Write a Python Program to Display the multiplication Table?"
   ]
  },
  {
   "cell_type": "code",
   "execution_count": 36,
   "id": "c9f9cc82",
   "metadata": {},
   "outputs": [
    {
     "name": "stdout",
     "output_type": "stream",
     "text": [
      "2\n",
      "4\n",
      "6\n",
      "8\n",
      "10\n",
      "12\n",
      "14\n",
      "16\n",
      "18\n",
      "20\n"
     ]
    }
   ],
   "source": [
    "a=int(input())\n",
    "if a>1:\n",
    "    for i in range(2,11):\n",
    "        multi=(a*i)\n",
    "        print(multi)"
   ]
  },
  {
   "cell_type": "code",
   "execution_count": null,
   "id": "6fcaff4d",
   "metadata": {},
   "outputs": [],
   "source": [
    "#3 . Write a Python Program to Print the Fibonacci sequence?"
   ]
  },
  {
   "cell_type": "code",
   "execution_count": 37,
   "id": "5c465197",
   "metadata": {},
   "outputs": [],
   "source": [
    "def test1(n):\n",
    "    a=1\n",
    "    b=1\n",
    "    for i in range(n):\n",
    "        yield(a,i)\n",
    "        a ,b=b, a+b\n",
    "\n",
    "    "
   ]
  },
  {
   "cell_type": "code",
   "execution_count": 38,
   "id": "9b8878af",
   "metadata": {},
   "outputs": [
    {
     "name": "stdout",
     "output_type": "stream",
     "text": [
      "(1, 0)\n",
      "(1, 1)\n",
      "(2, 2)\n",
      "(3, 3)\n",
      "(5, 4)\n",
      "(8, 5)\n",
      "(13, 6)\n",
      "(21, 7)\n",
      "(34, 8)\n",
      "(55, 9)\n",
      "(89, 10)\n",
      "(144, 11)\n",
      "(233, 12)\n",
      "(377, 13)\n",
      "(610, 14)\n",
      "(987, 15)\n",
      "(1597, 16)\n",
      "(2584, 17)\n",
      "(4181, 18)\n",
      "(6765, 19)\n",
      "(10946, 20)\n",
      "(17711, 21)\n"
     ]
    }
   ],
   "source": [
    "for i in test1(22):\n",
    "    print(i)"
   ]
  },
  {
   "cell_type": "code",
   "execution_count": null,
   "id": "58d0a0b1",
   "metadata": {},
   "outputs": [],
   "source": [
    "#4. Write a Python Program to Check Armstrong Number?"
   ]
  },
  {
   "cell_type": "code",
   "execution_count": 26,
   "id": "6a2a54d1",
   "metadata": {
    "scrolled": false
   },
   "outputs": [
    {
     "name": "stdout",
     "output_type": "stream",
     "text": [
      "Enter a number: 153\n",
      "153 is an Armstrong number\n"
     ]
    }
   ],
   "source": [
    "# Python program to check if the number is an Armstrong number or not\n",
    "\n",
    "\n",
    "num = int(input(\"Enter a number: \"))\n",
    "\n",
    "\n",
    "sum = 0\n",
    "\n",
    "\n",
    "temp = num\n",
    "while temp > 0:\n",
    "   digit = temp % 10\n",
    "   sum += digit ** 3\n",
    "   temp //= 10\n",
    "\n",
    "\n",
    "if num == sum:\n",
    "   print(num,\"is an Armstrong number\")\n",
    "else:\n",
    "   print(num,\"is not an Armstrong number\")"
   ]
  },
  {
   "cell_type": "code",
   "execution_count": null,
   "id": "5560b219",
   "metadata": {},
   "outputs": [],
   "source": []
  },
  {
   "cell_type": "code",
   "execution_count": null,
   "id": "b4edb379",
   "metadata": {},
   "outputs": [],
   "source": []
  },
  {
   "cell_type": "code",
   "execution_count": null,
   "id": "50123379",
   "metadata": {},
   "outputs": [],
   "source": []
  },
  {
   "cell_type": "code",
   "execution_count": null,
   "id": "fa960019",
   "metadata": {},
   "outputs": [],
   "source": []
  },
  {
   "cell_type": "code",
   "execution_count": null,
   "id": "42c5962d",
   "metadata": {},
   "outputs": [],
   "source": []
  },
  {
   "cell_type": "code",
   "execution_count": null,
   "id": "d6273ecd",
   "metadata": {},
   "outputs": [],
   "source": []
  },
  {
   "cell_type": "code",
   "execution_count": null,
   "id": "003a08f7",
   "metadata": {},
   "outputs": [],
   "source": []
  },
  {
   "cell_type": "code",
   "execution_count": null,
   "id": "c5c32642",
   "metadata": {},
   "outputs": [],
   "source": []
  },
  {
   "cell_type": "code",
   "execution_count": null,
   "id": "b34b9495",
   "metadata": {},
   "outputs": [],
   "source": [
    "#6Write a Python Program to Find the Sum of Natural Numbers?"
   ]
  },
  {
   "cell_type": "code",
   "execution_count": 3,
   "id": "00f146d5",
   "metadata": {},
   "outputs": [
    {
     "name": "stdout",
     "output_type": "stream",
     "text": [
      "4\n",
      "10\n"
     ]
    }
   ],
   "source": [
    "n=(int(input()))\n",
    "if n<0:\n",
    "    print(\"please enter a positive no\")\n",
    "else:\n",
    "    if n>0:\n",
    "        sum=0\n",
    "        while n>0:\n",
    "            sum=sum+n\n",
    "            n=n-1\n",
    "        print(sum)\n",
    "\n"
   ]
  },
  {
   "cell_type": "code",
   "execution_count": null,
   "id": "6b4d0174",
   "metadata": {},
   "outputs": [],
   "source": []
  },
  {
   "cell_type": "code",
   "execution_count": null,
   "id": "b6de6c07",
   "metadata": {},
   "outputs": [],
   "source": []
  },
  {
   "cell_type": "code",
   "execution_count": null,
   "id": "14e25d79",
   "metadata": {},
   "outputs": [],
   "source": []
  },
  {
   "cell_type": "code",
   "execution_count": null,
   "id": "80cfb91d",
   "metadata": {},
   "outputs": [],
   "source": []
  }
 ],
 "metadata": {
  "kernelspec": {
   "display_name": "Python 3 (ipykernel)",
   "language": "python",
   "name": "python3"
  },
  "language_info": {
   "codemirror_mode": {
    "name": "ipython",
    "version": 3
   },
   "file_extension": ".py",
   "mimetype": "text/x-python",
   "name": "python",
   "nbconvert_exporter": "python",
   "pygments_lexer": "ipython3",
   "version": "3.9.12"
  }
 },
 "nbformat": 4,
 "nbformat_minor": 5
}
