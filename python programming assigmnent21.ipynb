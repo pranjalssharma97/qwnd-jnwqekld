{
 "cells": [
  {
   "cell_type": "code",
   "execution_count": 1,
   "id": "65b6ee77",
   "metadata": {},
   "outputs": [],
   "source": [
    "#Question1\n",
    "#Write a function that takes a list and a number as arguments. Add the number to the end of\n",
    "# list, then remove the first element of the list. The function should then return the updated\n",
    "#list."
   ]
  },
  {
   "cell_type": "code",
   "execution_count": 104,
   "id": "e2a8c813",
   "metadata": {},
   "outputs": [],
   "source": [
    "def test1(*args,a):\n",
    "    l=list(args)\n",
    "    l.remove(l[0])\n",
    "    l1=[]\n",
    "    l1.append(a)\n",
    "    print(l+l1)\n",
    "    \n",
    "    \n",
    "   \n",
    "    \n",
    "    \n",
    "    \n",
    "    \n",
    "    "
   ]
  },
  {
   "cell_type": "code",
   "execution_count": 105,
   "id": "f510fd00",
   "metadata": {},
   "outputs": [
    {
     "name": "stdout",
     "output_type": "stream",
     "text": [
      "[6, 7, 8, 9, 1]\n"
     ]
    }
   ],
   "source": [
    "test1(5,6,7,8,9,a=1)"
   ]
  },
  {
   "cell_type": "code",
   "execution_count": 106,
   "id": "724770e0",
   "metadata": {},
   "outputs": [],
   "source": [
    "#question2Create the function that takes a list of dictionaries and returns the sum of people&#39;s budgets."
   ]
  },
  {
   "cell_type": "code",
   "execution_count": null,
   "id": "93a0294f",
   "metadata": {},
   "outputs": [],
   "source": []
  },
  {
   "cell_type": "code",
   "execution_count": 28,
   "id": "d389a015",
   "metadata": {},
   "outputs": [],
   "source": [
    "def test2(a):\n",
    "    sum=0\n",
    "    for i in a:\n",
    "        sum+=i[\"budget\"]\n",
    "    print(sum)\n"
   ]
  },
  {
   "cell_type": "code",
   "execution_count": 37,
   "id": "ebf5ef29",
   "metadata": {},
   "outputs": [
    {
     "name": "stdout",
     "output_type": "stream",
     "text": [
      "65700\n"
     ]
    }
   ],
   "source": [
    "test2([{ \"name\": \"John\", \"age\": 21, \"budget\": 23000 },\n",
    "{ \"name\": \"Steve\", \"age\": 32, \"budget\": 40000 },\n",
    "{ \"name\": \"Martin\", \"age\": 16, \"budget\": 2700 }])"
   ]
  },
  {
   "cell_type": "code",
   "execution_count": null,
   "id": "6eb697dd",
   "metadata": {},
   "outputs": [],
   "source": []
  },
  {
   "cell_type": "code",
   "execution_count": 16,
   "id": "46f32a0f",
   "metadata": {},
   "outputs": [],
   "source": [
    "#3Question3\n",
    "#Create a function that takes a string and returns a string with its letters in alphabetical order."
   ]
  },
  {
   "cell_type": "code",
   "execution_count": 188,
   "id": "9fe31830",
   "metadata": {},
   "outputs": [],
   "source": [
    "def test3(a):\n",
    "    sorted(a)\n",
    "    c=\"\"\n",
    "    z=c.join(sorted(a))\n",
    "    return(z)\n",
    "    \n",
    "    \n"
   ]
  },
  {
   "cell_type": "code",
   "execution_count": 216,
   "id": "2f8d8033",
   "metadata": {},
   "outputs": [
    {
     "data": {
      "text/plain": [
       "'ehllo'"
      ]
     },
     "execution_count": 216,
     "metadata": {},
     "output_type": "execute_result"
    }
   ],
   "source": [
    "test3(\"hello\")"
   ]
  },
  {
   "cell_type": "code",
   "execution_count": null,
   "id": "744ff9e2",
   "metadata": {},
   "outputs": [],
   "source": [
    "#question4Create a function that accepts the principal p, the term in years t, the interest rate r, and the\n",
    "#number of compounding periods per year n. The function returns the value at the end of term\n",
    "#rounded to the nearest cent."
   ]
  },
  {
   "cell_type": "code",
   "execution_count": 271,
   "id": "ecb5290f",
   "metadata": {},
   "outputs": [],
   "source": [
    "def test4():\n",
    "    p=int(input(\"enter the principal amount\"))\n",
    "    r=float(input(\"enter the interese rate\"))\n",
    "    t=int(input(\"the terms in year\"))\n",
    "    print(\"compoud_interest\" , end=\"\")\n",
    "    print(p*(1+(r/100))**t)\n",
    "    "
   ]
  },
  {
   "cell_type": "code",
   "execution_count": 273,
   "id": "82d25932",
   "metadata": {},
   "outputs": [
    {
     "name": "stdout",
     "output_type": "stream",
     "text": [
      "enter the principal amount100\n",
      "enter the interese rate5.00\n",
      "the terms in year1\n",
      "compoud_interest105.0\n"
     ]
    }
   ],
   "source": [
    "test4()"
   ]
  },
  {
   "cell_type": "code",
   "execution_count": 191,
   "id": "a4837e3e",
   "metadata": {},
   "outputs": [],
   "source": [
    "# Question5\n",
    "#Write a function that takes a list of elements and returns only the integers."
   ]
  },
  {
   "cell_type": "code",
   "execution_count": 18,
   "id": "251a9ca7",
   "metadata": {},
   "outputs": [],
   "source": [
    "def test5(a):\n",
    "    l=[]\n",
    "    for i in (a):\n",
    "        if type(i)==int:\n",
    "            l.append(i)\n",
    "    print(l)\n",
    "              \n",
    "        \n"
   ]
  },
  {
   "cell_type": "code",
   "execution_count": 19,
   "id": "e5bd5dad",
   "metadata": {},
   "outputs": [
    {
     "name": "stdout",
     "output_type": "stream",
     "text": [
      "[132, 12133]\n"
     ]
    }
   ],
   "source": [
    "test5([\"pranjal\",132,12133,\"wdef\"])"
   ]
  },
  {
   "cell_type": "code",
   "execution_count": null,
   "id": "e7727382",
   "metadata": {},
   "outputs": [],
   "source": []
  }
 ],
 "metadata": {
  "kernelspec": {
   "display_name": "Python 3 (ipykernel)",
   "language": "python",
   "name": "python3"
  },
  "language_info": {
   "codemirror_mode": {
    "name": "ipython",
    "version": 3
   },
   "file_extension": ".py",
   "mimetype": "text/x-python",
   "name": "python",
   "nbconvert_exporter": "python",
   "pygments_lexer": "ipython3",
   "version": "3.9.12"
  }
 },
 "nbformat": 4,
 "nbformat_minor": 5
}
