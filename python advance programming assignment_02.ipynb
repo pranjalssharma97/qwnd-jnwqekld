{
 "cells": [
  {
   "cell_type": "code",
   "execution_count": 1,
   "id": "06a1205a",
   "metadata": {},
   "outputs": [],
   "source": [
    "#Q1. What is the relationship between classes and modules?"
   ]
  },
  {
   "cell_type": "code",
   "execution_count": 2,
   "id": "6aff6b8a",
   "metadata": {},
   "outputs": [],
   "source": [
    "# 1.we can import both classes and modules, we can directly import class but we can make a subclass of it. whereas we can directly import the module.\n",
    "#2. both have functions in them, inside a classes there are function whereas inside a module there are function.\n",
    "#3. classes can genereate instances(objects) whereas module cant generate it.\n",
    "#4. we can pack the etire class in the module, but viceversa is not possible."
   ]
  },
  {
   "cell_type": "code",
   "execution_count": 3,
   "id": "7aed5213",
   "metadata": {},
   "outputs": [],
   "source": [
    "#Q2. How do you make instances and classes?"
   ]
  },
  {
   "cell_type": "code",
   "execution_count": 4,
   "id": "3324bbd5",
   "metadata": {},
   "outputs": [],
   "source": [
    "# i am explaining it with the exapmple.\n",
    "class test:\n",
    "    def __init__(self,a,b,c):\n",
    "        self.a=a\n",
    "        self.b=b\n",
    "        self.c=c\n",
    "        "
   ]
  },
  {
   "cell_type": "code",
   "execution_count": 6,
   "id": "a5a47231",
   "metadata": {},
   "outputs": [],
   "source": [
    "u=test(1,2,3)"
   ]
  },
  {
   "cell_type": "code",
   "execution_count": 9,
   "id": "e272a3d1",
   "metadata": {},
   "outputs": [
    {
     "data": {
      "text/plain": [
       "1"
      ]
     },
     "execution_count": 9,
     "metadata": {},
     "output_type": "execute_result"
    }
   ],
   "source": [
    "u.a        #here the instances are a,b,c. its value will keep on changing when a assign a new variable."
   ]
  },
  {
   "cell_type": "code",
   "execution_count": 10,
   "id": "3722173d",
   "metadata": {},
   "outputs": [
    {
     "data": {
      "text/plain": [
       "2"
      ]
     },
     "execution_count": 10,
     "metadata": {},
     "output_type": "execute_result"
    }
   ],
   "source": [
    "u.b"
   ]
  },
  {
   "cell_type": "code",
   "execution_count": 11,
   "id": "d34d6f5e",
   "metadata": {},
   "outputs": [],
   "source": [
    "#Q3. Where and how should be class attributes created?"
   ]
  },
  {
   "cell_type": "code",
   "execution_count": 15,
   "id": "027d5b1a",
   "metadata": {},
   "outputs": [],
   "source": [
    "#how the class attributes are created i will explain with the exapmle.\n",
    "class test:\n",
    "    hero=\"qwwe\"             #the class variable/static variable are created outside the method but inside a class.\n",
    "    def movie(self):\n",
    "        print(\"all star\")"
   ]
  },
  {
   "cell_type": "code",
   "execution_count": 16,
   "id": "c7fb5b59",
   "metadata": {},
   "outputs": [
    {
     "data": {
      "text/plain": [
       "'qwwe'"
      ]
     },
     "execution_count": 16,
     "metadata": {},
     "output_type": "execute_result"
    }
   ],
   "source": [
    "test.hero    #hero is our class attribute, its value will not change untill we change with the class name. object value will keep on changing with diffrernet variable but not with class value."
   ]
  },
  {
   "cell_type": "code",
   "execution_count": 17,
   "id": "85b881ac",
   "metadata": {},
   "outputs": [],
   "source": [
    "#Q4. Where and how are instance attributes created?"
   ]
  },
  {
   "cell_type": "code",
   "execution_count": 19,
   "id": "91da0daf",
   "metadata": {},
   "outputs": [],
   "source": [
    "class test:\n",
    "    hero=\"qwwe\"             #the instance/object variable are created inside the function. or constructor.\n",
    "    def __init__(self,a,b,c):\n",
    "        self.a=a\n",
    "        self.b=b\n",
    "        self.c=c"
   ]
  },
  {
   "cell_type": "code",
   "execution_count": 21,
   "id": "c8bca5dc",
   "metadata": {},
   "outputs": [],
   "source": [
    "u=test(1,2,3)"
   ]
  },
  {
   "cell_type": "code",
   "execution_count": 23,
   "id": "f576d092",
   "metadata": {},
   "outputs": [
    {
     "data": {
      "text/plain": [
       "1"
      ]
     },
     "execution_count": 23,
     "metadata": {},
     "output_type": "execute_result"
    }
   ],
   "source": [
    "u.a     #here the a, b and c are the instances, its value will keep on changing as we change the variable."
   ]
  },
  {
   "cell_type": "code",
   "execution_count": 24,
   "id": "2295f11f",
   "metadata": {},
   "outputs": [],
   "source": [
    "#Q5. What does the term &quot;self&quot; in a Python class mean?"
   ]
  },
  {
   "cell_type": "code",
   "execution_count": 25,
   "id": "7eef4145",
   "metadata": {},
   "outputs": [],
   "source": [
    "#the term self is reffered as the cursor, refrence that which are giving.\n",
    "#we can access different different values in the classes.\n",
    "#its points the current object or cursor.\n",
    "#its a convention not a keyword, we can use anyother name also.\n",
    "#self is the first argument to be passed in init."
   ]
  },
  {
   "cell_type": "code",
   "execution_count": 1,
   "id": "c7ef957c",
   "metadata": {},
   "outputs": [],
   "source": [
    "#q6  How does a Python class handle operator overloading?"
   ]
  },
  {
   "cell_type": "code",
   "execution_count": null,
   "id": "4aabb5ec",
   "metadata": {},
   "outputs": [],
   "source": [
    "#we can understand this by having one example\n",
    "# + is used to add 2+3, \"2\"+\"3\",L+11 so + is ob=verlaoded by int class,str class.\n",
    "# same buil in function can be used with different purpose in differndifferent classes."
   ]
  },
  {
   "cell_type": "code",
   "execution_count": 40,
   "id": "aa7dd398",
   "metadata": {},
   "outputs": [],
   "source": [
    "class test:                                      #this is the sample class that i have created.\n",
    "    def fun(self):\n",
    "        print(\"this is my sample class\")"
   ]
  },
  {
   "cell_type": "code",
   "execution_count": 41,
   "id": "030ed578",
   "metadata": {},
   "outputs": [],
   "source": [
    "t=test()"
   ]
  },
  {
   "cell_type": "code",
   "execution_count": 42,
   "id": "e83e4e4b",
   "metadata": {},
   "outputs": [
    {
     "name": "stdout",
     "output_type": "stream",
     "text": [
      "<__main__.test object at 0x000001FC65DBB9D0>\n"
     ]
    }
   ],
   "source": [
    "print(t)    #we are getting a hexidecimal code, so my aim is to get a menaingful message because as we know python internally take them as str, but in our class we have not defined Anythin for str\n",
    "                  #we will overload our class to get a meaningful message, so weill overload it with str and init.\n"
   ]
  },
  {
   "cell_type": "code",
   "execution_count": 14,
   "id": "51488359",
   "metadata": {},
   "outputs": [],
   "source": [
    "class test:\n",
    "    def fun(self):\n",
    "        print(\"this is my sample class\")\n",
    "    def __str__(self):\n",
    "        return \"fsdsd\""
   ]
  },
  {
   "cell_type": "code",
   "execution_count": 15,
   "id": "2b9da7da",
   "metadata": {},
   "outputs": [],
   "source": [
    "t=test()"
   ]
  },
  {
   "cell_type": "code",
   "execution_count": 16,
   "id": "3369c9a1",
   "metadata": {},
   "outputs": [
    {
     "name": "stdout",
     "output_type": "stream",
     "text": [
      "fsdsd\n"
     ]
    }
   ],
   "source": [
    "print(t)   # we have sucefully overloaded our function with str."
   ]
  },
  {
   "cell_type": "code",
   "execution_count": null,
   "id": "83a151a0",
   "metadata": {},
   "outputs": [],
   "source": [
    "#Q7. When do you consider allowing operator overloading of your classes?"
   ]
  },
  {
   "cell_type": "code",
   "execution_count": 44,
   "id": "c5316c71",
   "metadata": {},
   "outputs": [],
   "source": [
    "#we consider for overloading is when there is a need in our result, when we cant perfrom a task so then go in our class and add necessary things\n",
    "#it can be easily understand by the code above."
   ]
  },
  {
   "cell_type": "code",
   "execution_count": 45,
   "id": "0fe8db27",
   "metadata": {},
   "outputs": [],
   "source": [
    "#Q8. What is the most popular form of operator overloading?"
   ]
  },
  {
   "cell_type": "code",
   "execution_count": null,
   "id": "13740174",
   "metadata": {},
   "outputs": [],
   "source": [
    "#The most frequent instance is the adding up operator ‘+’, where it can be used for the usual addition and also for combining two different strings"
   ]
  },
  {
   "cell_type": "code",
   "execution_count": 28,
   "id": "14b01611",
   "metadata": {},
   "outputs": [],
   "source": [
    "#Q9. What are the two most important concepts to grasp in order to comprehend Python OOP code?"
   ]
  },
  {
   "cell_type": "code",
   "execution_count": null,
   "id": "3b6b65ec",
   "metadata": {},
   "outputs": [],
   "source": [
    "#the two most important concept is of classes and object."
   ]
  }
 ],
 "metadata": {
  "kernelspec": {
   "display_name": "Python 3 (ipykernel)",
   "language": "python",
   "name": "python3"
  },
  "language_info": {
   "codemirror_mode": {
    "name": "ipython",
    "version": 3
   },
   "file_extension": ".py",
   "mimetype": "text/x-python",
   "name": "python",
   "nbconvert_exporter": "python",
   "pygments_lexer": "ipython3",
   "version": "3.9.12"
  }
 },
 "nbformat": 4,
 "nbformat_minor": 5
}
