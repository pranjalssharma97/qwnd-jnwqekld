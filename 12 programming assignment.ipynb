{
 "cells": [
  {
   "cell_type": "code",
   "execution_count": 1,
   "id": "7af4740b",
   "metadata": {},
   "outputs": [],
   "source": [
    "#1. Write a Python program to Extract Unique values dictionary values?"
   ]
  },
  {
   "cell_type": "code",
   "execution_count": 3,
   "id": "b57b4a36",
   "metadata": {},
   "outputs": [
    {
     "data": {
      "text/plain": [
       "[123, 1212, 12123, 12123, 12312]"
      ]
     },
     "execution_count": 3,
     "metadata": {},
     "output_type": "execute_result"
    }
   ],
   "source": [
    "#ans1\n",
    "d={\"a\":123,\"c\":12312,\"b\":1212,\"d\":12123,\"qwe\":12123}\n",
    "sorted(d.values())"
   ]
  },
  {
   "cell_type": "code",
   "execution_count": 4,
   "id": "cecd24f5",
   "metadata": {},
   "outputs": [],
   "source": [
    "#2. Write a Python program to find the sum of all items in a dictionary?\n"
   ]
  },
  {
   "cell_type": "code",
   "execution_count": 10,
   "id": "804075e8",
   "metadata": {},
   "outputs": [
    {
     "name": "stdout",
     "output_type": "stream",
     "text": [
      "37893\n"
     ]
    }
   ],
   "source": [
    "d={\"a\":123,\"c\":12312,\"b\":1212,\"d\":12123,\"qwe\":12123}\n",
    "b=sorted(d.values())\n",
    "a=0\n",
    "for i in range(0,len(b)):\n",
    "    a+=b[i]\n",
    "print(a)\n",
    "    "
   ]
  },
  {
   "cell_type": "code",
   "execution_count": 11,
   "id": "5cb348db",
   "metadata": {},
   "outputs": [],
   "source": [
    "#3  Write a Python program to Merging two Dictionaries?"
   ]
  },
  {
   "cell_type": "code",
   "execution_count": 14,
   "id": "9c63fd00",
   "metadata": {},
   "outputs": [
    {
     "data": {
      "text/plain": [
       "{'a': 123,\n",
       " 'c': 12312,\n",
       " 'b': 1212,\n",
       " 'd': 12123,\n",
       " 'qwe': 12123,\n",
       " 'e': 121331,\n",
       " 'f': 1213,\n",
       " 'g': 1213341}"
      ]
     },
     "execution_count": 14,
     "metadata": {},
     "output_type": "execute_result"
    }
   ],
   "source": [
    "#3 \n",
    "d={\"a\":123,\"c\":12312,\"b\":1212,\"d\":12123,\"qwe\":12123}\n",
    "e={\"e\":121331,\"f\":1213,\"g\":1213341}\n",
    "d.update(e)\n",
    "d"
   ]
  },
  {
   "cell_type": "code",
   "execution_count": 15,
   "id": "a9967a55",
   "metadata": {},
   "outputs": [],
   "source": [
    "#4  Write a Python program to convert key-values list to flat dictionary?"
   ]
  },
  {
   "cell_type": "code",
   "execution_count": 60,
   "id": "baebcd9f",
   "metadata": {},
   "outputs": [
    {
     "name": "stdout",
     "output_type": "stream",
     "text": [
      "{'a': 12, 'b': 1, 'c': 21, 'd': 3, 'e': 1}\n"
     ]
    }
   ],
   "source": [
    "key=[\"a\",\"b\",\"c\",\"d\",\"e\"]\n",
    "value=[12,1,21,3,1]\n",
    "a=dict(zip(key,value))\n",
    "print(a)"
   ]
  },
  {
   "cell_type": "code",
   "execution_count": 33,
   "id": "82c51d2a",
   "metadata": {},
   "outputs": [],
   "source": [
    "#7  Write a Python program to sort Python Dictionaries by Key or Value?"
   ]
  },
  {
   "cell_type": "code",
   "execution_count": 35,
   "id": "f0d536f5",
   "metadata": {},
   "outputs": [
    {
     "data": {
      "text/plain": [
       "['a', 'b', 'c', 'd', 'qwe']"
      ]
     },
     "execution_count": 35,
     "metadata": {},
     "output_type": "execute_result"
    }
   ],
   "source": [
    "d={\"a\":123,\"c\":12312,\"b\":1212,\"d\":12123,\"qwe\":12123}\n",
    "sorted(d)"
   ]
  },
  {
   "cell_type": "code",
   "execution_count": 61,
   "id": "8fede1fa",
   "metadata": {},
   "outputs": [],
   "source": [
    "#5  Write a Python program to insertion at the beginning in OrderedDict?"
   ]
  },
  {
   "cell_type": "code",
   "execution_count": 81,
   "id": "a35b96c0",
   "metadata": {},
   "outputs": [
    {
     "ename": "SyntaxError",
     "evalue": "invalid syntax (1376385172.py, line 2)",
     "output_type": "error",
     "traceback": [
      "\u001b[1;36m  Input \u001b[1;32mIn [81]\u001b[1;36m\u001b[0m\n\u001b[1;33m    d=orderedDict{\"a\":12313,\"b\":1223134,\"c\":12123213,\"d\":12131333}\u001b[0m\n\u001b[1;37m                 ^\u001b[0m\n\u001b[1;31mSyntaxError\u001b[0m\u001b[1;31m:\u001b[0m invalid syntax\n"
     ]
    }
   ],
   "source": [
    "from collections import OrderedDict\n",
    "d={\"a\":12313,\"b\":1223134,\"c\":12123213,\"d\":12131333}\n",
    "e={\"z\":1213,\"qw\":121313}\n",
    "e.update(d)\n"
   ]
  },
  {
   "cell_type": "code",
   "execution_count": 78,
   "id": "9395f053",
   "metadata": {},
   "outputs": [
    {
     "data": {
      "text/plain": [
       "{'z': 1213,\n",
       " 'qw': 121313,\n",
       " 'a': 12313,\n",
       " 'b': 1223134,\n",
       " 'c': 12123213,\n",
       " 'd': 12131333}"
      ]
     },
     "execution_count": 78,
     "metadata": {},
     "output_type": "execute_result"
    }
   ],
   "source": [
    "e"
   ]
  },
  {
   "cell_type": "code",
   "execution_count": 79,
   "id": "74266033",
   "metadata": {},
   "outputs": [],
   "source": [
    "#6  Write a Python program to check order of character in string using OrderedDict()?"
   ]
  },
  {
   "cell_type": "code",
   "execution_count": 83,
   "id": "2be15f87",
   "metadata": {},
   "outputs": [
    {
     "name": "stdout",
     "output_type": "stream",
     "text": [
      "true\n"
     ]
    }
   ],
   "source": [
    "\n",
    "\n",
    "from collections import OrderedDict \n",
    "  \n",
    "def checkOrder(input, pattern): \n",
    "      \n",
    "    dict = OrderedDict.fromkeys(input) \n",
    "  \n",
    "    \n",
    "    ptrlen = 0\n",
    "    for key,value in dict.items(): \n",
    "        if (key == pattern[ptrlen]): \n",
    "            ptrlen = ptrlen + 1\n",
    "       \n",
    "        if (ptrlen == (len(pattern))): \n",
    "            return 'true'\n",
    "\n",
    "    return 'false'\n",
    "  \n",
    "\n",
    "if __name__ == \"__main__\": \n",
    "    input = 'engineers rock'\n",
    "    pattern = 'er'\n",
    "    print (checkOrder(input,pattern)) \n",
    "\n"
   ]
  },
  {
   "cell_type": "code",
   "execution_count": null,
   "id": "0f6f7bc2",
   "metadata": {},
   "outputs": [],
   "source": []
  }
 ],
 "metadata": {
  "kernelspec": {
   "display_name": "Python 3 (ipykernel)",
   "language": "python",
   "name": "python3"
  },
  "language_info": {
   "codemirror_mode": {
    "name": "ipython",
    "version": 3
   },
   "file_extension": ".py",
   "mimetype": "text/x-python",
   "name": "python",
   "nbconvert_exporter": "python",
   "pygments_lexer": "ipython3",
   "version": "3.9.12"
  }
 },
 "nbformat": 4,
 "nbformat_minor": 5
}
