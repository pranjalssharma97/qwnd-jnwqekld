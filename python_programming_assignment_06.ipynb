{
 "cells": [
  {
   "cell_type": "code",
   "execution_count": 1,
   "id": "59507a46",
   "metadata": {},
   "outputs": [],
   "source": [
    "#1. Write a Python Program to Display Fibonacci Sequence Using Recursion?"
   ]
  },
  {
   "cell_type": "code",
   "execution_count": 137,
   "id": "4b731dad",
   "metadata": {},
   "outputs": [],
   "source": [
    "def test1(n):\n",
    "    a=1\n",
    "    b=1\n",
    "    for i in range(n):\n",
    "        print (a,i)\n",
    "        a,b=b,a+b\n",
    "   "
   ]
  },
  {
   "cell_type": "code",
   "execution_count": 138,
   "id": "712f7101",
   "metadata": {},
   "outputs": [
    {
     "name": "stdout",
     "output_type": "stream",
     "text": [
      "1 0\n",
      "1 1\n",
      "2 2\n",
      "3 3\n",
      "5 4\n",
      "8 5\n",
      "13 6\n",
      "21 7\n",
      "34 8\n",
      "55 9\n",
      "89 10\n",
      "144 11\n"
     ]
    }
   ],
   "source": [
    "test1(12)"
   ]
  },
  {
   "cell_type": "code",
   "execution_count": 37,
   "id": "b8295fbf",
   "metadata": {},
   "outputs": [],
   "source": [
    "#2. Write a Python Program to Find Factorial of Number Using Recursion?"
   ]
  },
  {
   "cell_type": "code",
   "execution_count": 109,
   "id": "f2379d4e",
   "metadata": {},
   "outputs": [],
   "source": [
    "def test2(n):\n",
    "    if type(n)==int:\n",
    "        i=1\n",
    "        \n",
    "        while n>1:\n",
    "            i*=n\n",
    "            n=n-1\n",
    "            if n==0:\n",
    "                break\n",
    "        print(i)\n",
    "        \n",
    "            "
   ]
  },
  {
   "cell_type": "code",
   "execution_count": 117,
   "id": "cadcb7de",
   "metadata": {},
   "outputs": [
    {
     "name": "stdout",
     "output_type": "stream",
     "text": [
      "120\n"
     ]
    }
   ],
   "source": [
    "test2(5)"
   ]
  },
  {
   "cell_type": "code",
   "execution_count": 46,
   "id": "be7644b1",
   "metadata": {},
   "outputs": [],
   "source": [
    "#3. Write a Python Program to calculate your Body Mass Index?"
   ]
  },
  {
   "cell_type": "code",
   "execution_count": 60,
   "id": "6ed14115",
   "metadata": {},
   "outputs": [
    {
     "name": "stdout",
     "output_type": "stream",
     "text": [
      "enter your height in meter1.83\n",
      "enter your weight in kg91\n",
      "bodymassindex is 27.173101615455817 kg/m*2\n"
     ]
    }
   ],
   "source": [
    "height=float(input(\"enter your height in meter\"))\n",
    "weight=float(input(\"enter your weight in kg\"))\n",
    "i=(weight/height**2)\n",
    "print(\"bodymassindex is\", i,\"kg/m*2\")"
   ]
  },
  {
   "cell_type": "code",
   "execution_count": null,
   "id": "bbc4eb91",
   "metadata": {},
   "outputs": [],
   "source": [
    "#4. Write a Python Program to calculate the natural logarithm of any number?"
   ]
  },
  {
   "cell_type": "code",
   "execution_count": 66,
   "id": "a768fcfc",
   "metadata": {},
   "outputs": [
    {
     "name": "stdout",
     "output_type": "stream",
     "text": [
      "enter the number1212\n",
      "the  natural log of the number is 7.10002716662926\n"
     ]
    }
   ],
   "source": [
    "a=int(input(\"enter the number\"))\n",
    "import math\n",
    "i=math.log(a)\n",
    "print(\"the  natural log of the number is\",i)"
   ]
  },
  {
   "cell_type": "code",
   "execution_count": 61,
   "id": "9ef54de8",
   "metadata": {},
   "outputs": [],
   "source": [
    "#5 . Write a Python Program for cube sum of first n natural numbers?"
   ]
  },
  {
   "cell_type": "code",
   "execution_count": 101,
   "id": "43871ed6",
   "metadata": {},
   "outputs": [
    {
     "name": "stdout",
     "output_type": "stream",
     "text": [
      "enter the number upto which you have to find the cube of number4\n",
      "the cube sum of first natural number that you have entered is 100\n"
     ]
    }
   ],
   "source": [
    "n=int(input(\"enter the number upto which you have to find the cube of number\"))\n",
    "if type(n)==int:\n",
    "    i=0\n",
    "    while n>0:\n",
    "        i+=n**3\n",
    "        n=n-1\n",
    "        if n==0:\n",
    "            break\n",
    "    print(\"the cube sum of first natural number that you have entered is\",i)\n",
    "    "
   ]
  },
  {
   "cell_type": "code",
   "execution_count": null,
   "id": "73fb747f",
   "metadata": {},
   "outputs": [],
   "source": []
  }
 ],
 "metadata": {
  "kernelspec": {
   "display_name": "Python 3 (ipykernel)",
   "language": "python",
   "name": "python3"
  },
  "language_info": {
   "codemirror_mode": {
    "name": "ipython",
    "version": 3
   },
   "file_extension": ".py",
   "mimetype": "text/x-python",
   "name": "python",
   "nbconvert_exporter": "python",
   "pygments_lexer": "ipython3",
   "version": "3.9.12"
  }
 },
 "nbformat": 4,
 "nbformat_minor": 5
}
