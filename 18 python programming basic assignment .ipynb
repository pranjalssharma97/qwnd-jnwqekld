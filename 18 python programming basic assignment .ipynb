{
 "cells": [
  {
   "cell_type": "code",
   "execution_count": 1,
   "id": "113c7b84",
   "metadata": {},
   "outputs": [],
   "source": [
    "#Question 1\n",
    "#Create a function that takes a list of non-negative integers and strings and return a new list\n",
    "#without the strings."
   ]
  },
  {
   "cell_type": "code",
   "execution_count": 16,
   "id": "cf4f1155",
   "metadata": {},
   "outputs": [],
   "source": [
    "#ans1\n",
    "def test1(a):\n",
    "    l=[]\n",
    "    for i in a:\n",
    "        if type(i)==int:\n",
    "            l.append(i)\n",
    "    print(l)"
   ]
  },
  {
   "cell_type": "code",
   "execution_count": 17,
   "id": "9267ad86",
   "metadata": {},
   "outputs": [
    {
     "name": "stdout",
     "output_type": "stream",
     "text": [
      "[1, 2, 3, 12]\n"
     ]
    }
   ],
   "source": [
    "test1([1,2,3,\"ewdu\",\"wewer\",12])"
   ]
  },
  {
   "cell_type": "code",
   "execution_count": 18,
   "id": "22bede6b",
   "metadata": {},
   "outputs": [],
   "source": [
    "#q2 Question 2\n",
    "#The &quot;Reverser&quot; takes a string as input and returns that string in reverse order, with the\n",
    "#opposite case."
   ]
  },
  {
   "cell_type": "code",
   "execution_count": 29,
   "id": "079599c5",
   "metadata": {},
   "outputs": [],
   "source": [
    "def test2():\n",
    "    a=input()\n",
    "    b=a[::-1]\n",
    "    c=b.swapcase()\n",
    "    print(c)\n"
   ]
  },
  {
   "cell_type": "code",
   "execution_count": 31,
   "id": "478ef096",
   "metadata": {},
   "outputs": [
    {
     "name": "stdout",
     "output_type": "stream",
     "text": [
      "Pranjal\n",
      "LAJNARp\n"
     ]
    }
   ],
   "source": [
    "test2()"
   ]
  },
  {
   "cell_type": "code",
   "execution_count": 32,
   "id": "eacfd32d",
   "metadata": {},
   "outputs": [],
   "source": [
    "#q4 Question 4\n",
    "#Write a function that calculates the factorial of a number recursively.\n",
    "#Examples\n",
    "#factorial(5) ➞ 120\n",
    "#factorial(3) ➞ 6\n",
    "#factorial(1) ➞ 1\n",
    "#factorial(0) ➞ 1"
   ]
  },
  {
   "cell_type": "code",
   "execution_count": 55,
   "id": "898a6cdc",
   "metadata": {},
   "outputs": [],
   "source": [
    "def test4(a):\n",
    "    if a==0:\n",
    "        print(1)\n",
    "    else:\n",
    "            b=1\n",
    "            for i in range(1,a+1):\n",
    "                b*=i\n",
    "                i=i+1\n",
    "            print(b)\n",
    "        \n",
    "    "
   ]
  },
  {
   "cell_type": "code",
   "execution_count": 58,
   "id": "c8655aa9",
   "metadata": {},
   "outputs": [
    {
     "name": "stdout",
     "output_type": "stream",
     "text": [
      "120\n"
     ]
    }
   ],
   "source": [
    "test4(5)"
   ]
  },
  {
   "cell_type": "code",
   "execution_count": 59,
   "id": "ad195029",
   "metadata": {},
   "outputs": [],
   "source": [
    "#q5 Question 5\n",
    "#Write a function that moves all elements of one type to the end of the list."
   ]
  },
  {
   "cell_type": "code",
   "execution_count": 76,
   "id": "7cf6c505",
   "metadata": {},
   "outputs": [
    {
     "name": "stdout",
     "output_type": "stream",
     "text": [
      "[1, 23, 2, 12, 3, 2, 2]\n"
     ]
    }
   ],
   "source": [
    "l=[1,2,2,23,2,12,3]\n",
    "l1=[]\n",
    "for i in l:\n",
    "    if l.count(i)>1:\n",
    "        l1.append(i)\n",
    "        l.remove(i)\n",
    "print(l+l1)\n",
    "        \n",
    "        "
   ]
  },
  {
   "cell_type": "code",
   "execution_count": 91,
   "id": "43b2a526",
   "metadata": {},
   "outputs": [],
   "source": [
    "def test5(a):\n",
    "    l1=[]\n",
    "    for i in a  :\n",
    "        if a.count(i)>1:\n",
    "            l1.append(i)\n",
    "            a.remove(i)\n",
    "    print(a+l1)\n",
    "        \n",
    "            \n",
    "            \n",
    "        "
   ]
  },
  {
   "cell_type": "code",
   "execution_count": 92,
   "id": "424f7866",
   "metadata": {},
   "outputs": [
    {
     "name": "stdout",
     "output_type": "stream",
     "text": [
      "[1, 22, 321, 11, 32, 2, 2, 2]\n"
     ]
    }
   ],
   "source": [
    "test5([1,2,22,2,321,11,32,2])\n"
   ]
  },
  {
   "cell_type": "code",
   "execution_count": null,
   "id": "ec5ff7c4",
   "metadata": {},
   "outputs": [],
   "source": []
  }
 ],
 "metadata": {
  "kernelspec": {
   "display_name": "Python 3 (ipykernel)",
   "language": "python",
   "name": "python3"
  },
  "language_info": {
   "codemirror_mode": {
    "name": "ipython",
    "version": 3
   },
   "file_extension": ".py",
   "mimetype": "text/x-python",
   "name": "python",
   "nbconvert_exporter": "python",
   "pygments_lexer": "ipython3",
   "version": "3.9.12"
  }
 },
 "nbformat": 4,
 "nbformat_minor": 5
}
