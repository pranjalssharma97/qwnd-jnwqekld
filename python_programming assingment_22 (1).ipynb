{
 "cells": [
  {
   "cell_type": "code",
   "execution_count": null,
   "id": "c4360f07",
   "metadata": {},
   "outputs": [],
   "source": [
    "#Question5\n",
    "#Create a function that takes a string and returns True or False, depending on whether the\n",
    "#characters are in order or not.\n",
    "#Examples\n",
    "#is_in_order(&quot;abc&quot;) ➞ True\n",
    "#is_in_order(&quot;edabit&quot;) ➞ False\n",
    "#is_in_order(&quot;123&quot;) ➞ True\n",
    "#is_in_order(&quot;xyzz&quot;) ➞ True\n",
    "#Notes\n",
    "#You don&#39;t have to handle empty strings."
   ]
  },
  {
   "cell_type": "code",
   "execution_count": 4,
   "id": "67e95b2e",
   "metadata": {
    "scrolled": true
   },
   "outputs": [],
   "source": [
    "def test1():\n",
    "    a=input()\n",
    "    b=''.join(sorted(a))\n",
    "    if a==b:\n",
    "        print(\"True\")\n",
    "    else:\n",
    "        print(\"false\")\n",
    " "
   ]
  },
  {
   "cell_type": "code",
   "execution_count": 5,
   "id": "e3aab01c",
   "metadata": {},
   "outputs": [
    {
     "name": "stdout",
     "output_type": "stream",
     "text": [
      "qwert\n",
      "false\n"
     ]
    }
   ],
   "source": [
    "test1()"
   ]
  },
  {
   "cell_type": "code",
   "execution_count": null,
   "id": "d04a46af",
   "metadata": {},
   "outputs": [],
   "source": [
    "#q4An isogram is a word that has no duplicate letters. Create a function that takes a string and\n",
    "#returns either True or False depending on whether or not."
   ]
  },
  {
   "cell_type": "code",
   "execution_count": 6,
   "id": "6676c2df",
   "metadata": {},
   "outputs": [
    {
     "name": "stdout",
     "output_type": "stream",
     "text": [
      "pranjal\n",
      "False\n"
     ]
    }
   ],
   "source": [
    "a=input()\n",
    "l=[]\n",
    "l1=[]\n",
    "for i in a:\n",
    "    l.extend(i)\n",
    "b=set(a)\n",
    "l1.extend(b)\n",
    "if len(l)==len(l1):\n",
    "    print(True)\n",
    "else:\n",
    "    print(False)\n",
    "\n",
    "\n"
   ]
  },
  {
   "cell_type": "code",
   "execution_count": null,
   "id": "a783eb89",
   "metadata": {},
   "outputs": [],
   "source": [
    "#q3A group of friends have decided to start a secret society. The name will be the first letter of\n",
    "#each of their names, sorted in alphabetical order.\n",
    "#Create a function that takes in a list of names and returns the name of the secret society."
   ]
  },
  {
   "cell_type": "code",
   "execution_count": 12,
   "id": "122c74ee",
   "metadata": {},
   "outputs": [],
   "source": [
    "def test3():\n",
    "    l=[]\n",
    "    a=input(\"enter your names to create society\")\n",
    "    b=(a.split(\",\"))\n",
    "    for i in b:\n",
    "        l.append(i[0])\n",
    "    l.sort()\n",
    "    print(l)\n",
    "    \n"
   ]
  },
  {
   "cell_type": "code",
   "execution_count": 13,
   "id": "f6455794",
   "metadata": {},
   "outputs": [
    {
     "name": "stdout",
     "output_type": "stream",
     "text": [
      "enter your names to create societypranjal,cutie,sharma\n",
      "['c', 'p', 's']\n"
     ]
    }
   ],
   "source": [
    "test3()"
   ]
  },
  {
   "cell_type": "code",
   "execution_count": null,
   "id": "1639091b",
   "metadata": {},
   "outputs": [],
   "source": [
    "#Question2\n",
    "#Create a function that takes in two lists and returns True if the second list follows the first list\n",
    "#by one element, and False otherwise. In other words, determine if the second list is the first\n",
    "#list shifted to the right by 1."
   ]
  },
  {
   "cell_type": "code",
   "execution_count": 7,
   "id": "336b5141",
   "metadata": {},
   "outputs": [],
   "source": [
    "def funct(a,b):\n",
    "    if type(a)==list and type(b)==list:\n",
    "        for i in a:\n",
    "             if a[0]==b[1]:\n",
    "                print(True)\n",
    "                break\n",
    "             else:\n",
    "                print(False)\n",
    "                \n",
    "           "
   ]
  },
  {
   "cell_type": "code",
   "execution_count": 8,
   "id": "000eb7cb",
   "metadata": {},
   "outputs": [
    {
     "name": "stdout",
     "output_type": "stream",
     "text": [
      "True\n"
     ]
    }
   ],
   "source": [
    "funct([1,2],[5,1])"
   ]
  },
  {
   "cell_type": "code",
   "execution_count": null,
   "id": "ccd2d2ec",
   "metadata": {},
   "outputs": [],
   "source": [
    "#Question1\n",
    "#Create a function that takes three parameters where:\n",
    "# x is the start of the range (inclusive).\n",
    "# y is the end of the range (inclusive).\n",
    "## n is the divisor to be checked against.\n",
    "#Return an ordered list with numbers in the range that are divisible by the third parameter n.\n",
    "#Return an empty list if there are no numbers that are divisible by n."
   ]
  },
  {
   "cell_type": "code",
   "execution_count": 9,
   "id": "7b31dbb4",
   "metadata": {},
   "outputs": [
    {
     "name": "stdout",
     "output_type": "stream",
     "text": [
      "enter the number1\n",
      "enter the number10\n",
      "enter the number3\n",
      "[3, 6, 9]\n"
     ]
    }
   ],
   "source": [
    "x=int(input(\"enter the number\"))\n",
    "y=int(input(\"enter the number\"))\n",
    "n=int(input(\"enter the number\"))\n",
    "l=[]\n",
    "for i in range(x,y+1):\n",
    "    if (i%n)==0:\n",
    "        l.append(i)\n",
    "print(l)\n",
    "        "
   ]
  },
  {
   "cell_type": "code",
   "execution_count": null,
   "id": "4e0161e9",
   "metadata": {},
   "outputs": [],
   "source": []
  },
  {
   "cell_type": "code",
   "execution_count": null,
   "id": "48d9d3eb",
   "metadata": {},
   "outputs": [],
   "source": []
  }
 ],
 "metadata": {
  "kernelspec": {
   "display_name": "Python 3 (ipykernel)",
   "language": "python",
   "name": "python3"
  },
  "language_info": {
   "codemirror_mode": {
    "name": "ipython",
    "version": 3
   },
   "file_extension": ".py",
   "mimetype": "text/x-python",
   "name": "python",
   "nbconvert_exporter": "python",
   "pygments_lexer": "ipython3",
   "version": "3.9.12"
  }
 },
 "nbformat": 4,
 "nbformat_minor": 5
}
