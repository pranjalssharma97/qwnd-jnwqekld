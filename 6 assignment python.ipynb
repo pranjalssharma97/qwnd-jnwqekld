{
 "cells": [
  {
   "cell_type": "code",
   "execution_count": 1,
   "id": "90bdd8eb",
   "metadata": {},
   "outputs": [],
   "source": [
    "#1. What are escape characters, and how do you use them?"
   ]
  },
  {
   "cell_type": "code",
   "execution_count": 43,
   "id": "87e42bdc",
   "metadata": {},
   "outputs": [
    {
     "name": "stdout",
     "output_type": "stream",
     "text": [
      "hello whats up\n",
      "hello what's up\n",
      "hello what\"s up\n",
      "hello whats\n",
      " up\n",
      "hello\twhatsup\n"
     ]
    }
   ],
   "source": [
    "#it starts with baack slash\n",
    "#To insert characters that are illegal in a string, use an escape character.\n",
    "\n",
    "#An escape character is a backslash \\ followed by the character you want to insert.\n",
    "print('hello whats up')\n",
    "print('hello what\\'s up')#give single'\n",
    "print('hello what\\\"s up')#gives double''\n",
    "print('hello whats\\n up')#gives newline \\n\n",
    "print('hello\\twhatsup')#gives space \n"
   ]
  },
  {
   "cell_type": "code",
   "execution_count": 44,
   "id": "75f92330",
   "metadata": {},
   "outputs": [],
   "source": [
    "#2. What do the escape characters n and t stand for?"
   ]
  },
  {
   "cell_type": "code",
   "execution_count": 45,
   "id": "1b937d33",
   "metadata": {},
   "outputs": [],
   "source": [
    "#n stands for new line(to print from a new line), whereas t stands for a tab.(to give space of 3)\n"
   ]
  },
  {
   "cell_type": "code",
   "execution_count": 46,
   "id": "5e680bea",
   "metadata": {},
   "outputs": [],
   "source": [
    "#3. What is the way to include backslash characters in a string?\n"
   ]
  },
  {
   "cell_type": "code",
   "execution_count": 47,
   "id": "723b3558",
   "metadata": {},
   "outputs": [
    {
     "name": "stdout",
     "output_type": "stream",
     "text": [
      "hello wor\\ld\n"
     ]
    }
   ],
   "source": [
    "#ans3 we use backlash by using \\\\\n",
    "print('hello wor\\\\ld')"
   ]
  },
  {
   "cell_type": "code",
   "execution_count": 48,
   "id": "fd3dab8e",
   "metadata": {},
   "outputs": [],
   "source": [
    "# 4. The string &quot;Howl&#39;s Moving Castle&quot; is a correct value. Why isn&#39;t the single quote character in the\n",
    "#word Howl&#39;s not escaped a problem?"
   ]
  },
  {
   "cell_type": "code",
   "execution_count": 52,
   "id": "bc63fc8d",
   "metadata": {},
   "outputs": [
    {
     "name": "stdout",
     "output_type": "stream",
     "text": [
      "howl's moving castle\n"
     ]
    }
   ],
   "source": [
    "s='howl\\'s moving castle'\n",
    "print(s)\n",
    "#the single character is not a problem because we have used escape sequence character(\\')"
   ]
  },
  {
   "cell_type": "code",
   "execution_count": 53,
   "id": "8f54ad1e",
   "metadata": {},
   "outputs": [],
   "source": [
    "#5. How do you write a string of newlines if you don&#39;t want to use the n character?"
   ]
  },
  {
   "cell_type": "code",
   "execution_count": 58,
   "id": "e8e43a61",
   "metadata": {},
   "outputs": [],
   "source": [
    " #With triple-quoted string literals"
   ]
  },
  {
   "cell_type": "code",
   "execution_count": 2,
   "id": "3aa0afa1",
   "metadata": {},
   "outputs": [],
   "source": [
    "#6  What are the values of the given expressions?"
   ]
  },
  {
   "cell_type": "code",
   "execution_count": 4,
   "id": "9bcbda33",
   "metadata": {},
   "outputs": [
    {
     "data": {
      "text/plain": [
       "'e'"
      ]
     },
     "execution_count": 4,
     "metadata": {},
     "output_type": "execute_result"
    }
   ],
   "source": [
    "#ans6 \n",
    "'hello world!'[1]"
   ]
  },
  {
   "cell_type": "code",
   "execution_count": 5,
   "id": "36839c2a",
   "metadata": {},
   "outputs": [
    {
     "data": {
      "text/plain": [
       "'hello'"
      ]
     },
     "execution_count": 5,
     "metadata": {},
     "output_type": "execute_result"
    }
   ],
   "source": [
    "'hello world!'[0:5]"
   ]
  },
  {
   "cell_type": "code",
   "execution_count": 6,
   "id": "579f6b16",
   "metadata": {},
   "outputs": [
    {
     "data": {
      "text/plain": [
       "'hello'"
      ]
     },
     "execution_count": 6,
     "metadata": {},
     "output_type": "execute_result"
    }
   ],
   "source": [
    "'hello world!'[:5]"
   ]
  },
  {
   "cell_type": "code",
   "execution_count": 7,
   "id": "92affa5e",
   "metadata": {},
   "outputs": [
    {
     "data": {
      "text/plain": [
       "'lo world!'"
      ]
     },
     "execution_count": 7,
     "metadata": {},
     "output_type": "execute_result"
    }
   ],
   "source": [
    "'hello world!'[3:]"
   ]
  },
  {
   "cell_type": "code",
   "execution_count": 9,
   "id": "fab33f22",
   "metadata": {},
   "outputs": [],
   "source": [
    "#7 7. What are the values of the following expressions?\n",
    "#&#39;Hello&#39;.upper()\n",
    "#&#39;Hello&#39;.upper().isupper()\n",
    "#&#39;Hello&#39;.upper().lower()"
   ]
  },
  {
   "cell_type": "code",
   "execution_count": 13,
   "id": "4c786414",
   "metadata": {},
   "outputs": [
    {
     "data": {
      "text/plain": [
       "'HELLO'"
      ]
     },
     "execution_count": 13,
     "metadata": {},
     "output_type": "execute_result"
    }
   ],
   "source": [
    "a='Hello'\n",
    "a.upper()"
   ]
  },
  {
   "cell_type": "code",
   "execution_count": 14,
   "id": "2fb25c2e",
   "metadata": {},
   "outputs": [
    {
     "data": {
      "text/plain": [
       "True"
      ]
     },
     "execution_count": 14,
     "metadata": {},
     "output_type": "execute_result"
    }
   ],
   "source": [
    "a.upper().isupper()"
   ]
  },
  {
   "cell_type": "code",
   "execution_count": 17,
   "id": "8ddecdc8",
   "metadata": {},
   "outputs": [
    {
     "data": {
      "text/plain": [
       "'hello'"
      ]
     },
     "execution_count": 17,
     "metadata": {},
     "output_type": "execute_result"
    }
   ],
   "source": [
    "a.upper().lower()"
   ]
  },
  {
   "cell_type": "code",
   "execution_count": 18,
   "id": "a5cad3c8",
   "metadata": {},
   "outputs": [],
   "source": [
    "#8. What are the values of the following expressions?"
   ]
  },
  {
   "cell_type": "code",
   "execution_count": 23,
   "id": "660bf263",
   "metadata": {},
   "outputs": [
    {
     "data": {
      "text/plain": [
       "'-'"
      ]
     },
     "execution_count": 23,
     "metadata": {},
     "output_type": "execute_result"
    }
   ],
   "source": [
    "a='Remember, remember ,the fifth of july.'\n",
    "a.split()\n",
    "a.join(\"-\")\n"
   ]
  },
  {
   "cell_type": "code",
   "execution_count": 59,
   "id": "51d3b8b8",
   "metadata": {},
   "outputs": [],
   "source": [
    "#9. What are the methods for right-justifying, left-justifying, and centering a string?"
   ]
  },
  {
   "cell_type": "code",
   "execution_count": 61,
   "id": "94ec8cf0",
   "metadata": {},
   "outputs": [],
   "source": [
    "a=\"pranjalsharma     \"#right justifying"
   ]
  },
  {
   "cell_type": "code",
   "execution_count": 63,
   "id": "ac822fb9",
   "metadata": {},
   "outputs": [
    {
     "data": {
      "text/plain": [
       "'pranjalsharma'"
      ]
     },
     "execution_count": 63,
     "metadata": {},
     "output_type": "execute_result"
    }
   ],
   "source": [
    "a.rstrip()"
   ]
  },
  {
   "cell_type": "code",
   "execution_count": 64,
   "id": "a42e0350",
   "metadata": {},
   "outputs": [],
   "source": [
    "a= \"    pranjal sahrma\""
   ]
  },
  {
   "cell_type": "code",
   "execution_count": 65,
   "id": "2685b972",
   "metadata": {},
   "outputs": [
    {
     "data": {
      "text/plain": [
       "'pranjal sahrma'"
      ]
     },
     "execution_count": 65,
     "metadata": {},
     "output_type": "execute_result"
    }
   ],
   "source": [
    "a.lstrip()   #left justifying"
   ]
  },
  {
   "cell_type": "code",
   "execution_count": 66,
   "id": "f7bff688",
   "metadata": {},
   "outputs": [],
   "source": [
    "a=\"     pranjal sharma       \""
   ]
  },
  {
   "cell_type": "code",
   "execution_count": 71,
   "id": "50e280e5",
   "metadata": {},
   "outputs": [
    {
     "data": {
      "text/plain": [
       "'                                                                                                                                                                                                                                                                                                                                                                                                                                                                                                                                                                                                                                                                                                                                                                                                                                                                                                                                                                                                                                                                                                                                                                                                                                                                                                                                                                                                                                                                                                                                                                                                                                                                                                                                                                                                                                                                                                                                                                                                                                                                                                                                                                                                                                                                                                                                                                                                                                                                                                                                                                                                                                                                                                                                                                                                                                                                                                                                                                                                                                                                                                                                                                                                                                                                                                                                                                                                                                                                                                                                                                                                                                                                                                                                                                                                                                                                                                                                                                                                                                                                                                                                                                                                                                                                                                                                                                                                                                                                                                                                                                                                                                                                                                                                                                                                                                                                                                                                                                                                                                                                                                                                                                                                                                                                                                                                                                                                                                                                                                                                                                                                                                                                                                                                                                                                                                                                                                                                                                                                                                                                                                                                                                                                                                                                                                                                                        pranjal sharma                                                                                                                                                                                                                                                                                                                                                                                                                                                                                                                                                                                                                                                                                                                                                                                                                                                                                                                                                                                                                                                                                                                                                                                                                                                                                                                                                                                                                                                                                                                                                                                                                                                                                                                                                                                                                                                                                                                                                                                                                                                                                                                                                                                                                                                                                                                                                                                                                                                                                                                                                                                                                                                                                                                                                                                                                                                                                                                                                                                                                                                                                                                                                                                                                                                                                                                                                                                                                                                                                                                                                                                                                                                                                                                                                                                                                                                                                                                                                                                                                                                                                                                                                                                                                                                                                                                                                                                                                                                                                                                                                                                                                                                                                                                                                                                                                                                                                                                                                                                                                                                                                                                                                                                                                                                                                                                                                                                                                                                                                                                                                                                                                                                                                                                                                                                                                                                                                                                                                                                                                                                                                                                                                                                                                                                                                                                                                         '"
      ]
     },
     "execution_count": 71,
     "metadata": {},
     "output_type": "execute_result"
    }
   ],
   "source": [
    "a.center(12223)  # centering the string"
   ]
  },
  {
   "cell_type": "code",
   "execution_count": 72,
   "id": "5a47cd0e",
   "metadata": {},
   "outputs": [],
   "source": [
    "#10. What is the best way to remove whitespace characters from the start or end?"
   ]
  },
  {
   "cell_type": "code",
   "execution_count": null,
   "id": "90cf8128",
   "metadata": {},
   "outputs": [],
   "source": [
    "#strip()"
   ]
  }
 ],
 "metadata": {
  "kernelspec": {
   "display_name": "Python 3 (ipykernel)",
   "language": "python",
   "name": "python3"
  },
  "language_info": {
   "codemirror_mode": {
    "name": "ipython",
    "version": 3
   },
   "file_extension": ".py",
   "mimetype": "text/x-python",
   "name": "python",
   "nbconvert_exporter": "python",
   "pygments_lexer": "ipython3",
   "version": "3.9.12"
  }
 },
 "nbformat": 4,
 "nbformat_minor": 5
}
